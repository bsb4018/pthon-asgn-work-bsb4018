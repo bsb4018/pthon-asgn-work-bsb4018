{
 "cells": [
  {
   "cell_type": "markdown",
   "metadata": {},
   "source": [
    "QUESTION 1"
   ]
  },
  {
   "cell_type": "code",
   "execution_count": null,
   "metadata": {},
   "outputs": [],
   "source": [
    "'''\n",
    "Q.1. What are keywords in python? Using the keyword library, print all the python keywords.\n",
    "'''"
   ]
  },
  {
   "cell_type": "code",
   "execution_count": 5,
   "metadata": {},
   "outputs": [
    {
     "name": "stdout",
     "output_type": "stream",
     "text": [
      "10\n",
      "----------------------------------\n",
      "['False',\n",
      " 'None',\n",
      " 'True',\n",
      " 'and',\n",
      " 'as',\n",
      " 'assert',\n",
      " 'async',\n",
      " 'await',\n",
      " 'break',\n",
      " 'class',\n",
      " 'continue',\n",
      " 'def',\n",
      " 'del',\n",
      " 'elif',\n",
      " 'else',\n",
      " 'except',\n",
      " 'finally',\n",
      " 'for',\n",
      " 'from',\n",
      " 'global',\n",
      " 'if',\n",
      " 'import',\n",
      " 'in',\n",
      " 'is',\n",
      " 'lambda',\n",
      " 'nonlocal',\n",
      " 'not',\n",
      " 'or',\n",
      " 'pass',\n",
      " 'raise',\n",
      " 'return',\n",
      " 'try',\n",
      " 'while',\n",
      " 'with',\n",
      " 'yield']\n"
     ]
    }
   ],
   "source": [
    "'''\n",
    "Keywords in Python are special words or we can say reserved words that have specific meanings / functionalities.\n",
    "They are the part of Python syntax and so are pre defined.\n",
    "These keywords cannot be used as variable names or identifiers because they are already predefined.\n",
    "\n",
    "For example 'def' keyword is used to create functions.\n",
    "'''\n",
    "import pprint as pp\n",
    "def add(a,b):\n",
    "    return a + b\n",
    "pp.pprint(add(2,8))\n",
    "\n",
    "'''\n",
    "We can use the kwlist function of keyword library to retrieve the list of keywords.\n",
    "'''\n",
    "print(\"----------------------------------\")\n",
    "\n",
    "import keyword\n",
    "list_of_keywords = keyword.kwlist\n",
    "pp.pprint(list_of_keywords)"
   ]
  },
  {
   "cell_type": "markdown",
   "metadata": {},
   "source": [
    "QUESTION 2"
   ]
  },
  {
   "cell_type": "code",
   "execution_count": null,
   "metadata": {},
   "outputs": [],
   "source": [
    "'''Q.2. What are the rules to create variables in python?'''"
   ]
  },
  {
   "cell_type": "code",
   "execution_count": null,
   "metadata": {},
   "outputs": [],
   "source": [
    "'''\n",
    "The following are the rules for variable declaration in Python\n",
    "a. The name must start with a letter (a-z, A-Z) or an underscore (_).\n",
    "b. The rest of the name can contain letters, digits (0-9), and underscores.\n",
    "c. Names are case-sensitive, so var_a, var_A are treated as different variables.\n",
    "d. You cannot use Python keywords (reserved words) as variable names, as they have predefined meanings. \n",
    "   For example, you cannot use words like if, else, for as variable names.\n",
    "e. Variable names cannot contain spaces or special characters like !, @, #, $, %, ^, &, *, etc.\n",
    "'''"
   ]
  },
  {
   "cell_type": "markdown",
   "metadata": {},
   "source": [
    "QUESTION 3"
   ]
  },
  {
   "cell_type": "code",
   "execution_count": null,
   "metadata": {},
   "outputs": [],
   "source": [
    "'''\n",
    "Q.3. What are the standards and conventions followed for the nomenclature of variables in\n",
    "python to improve code readability and maintainability?\n",
    "'''"
   ]
  },
  {
   "cell_type": "code",
   "execution_count": null,
   "metadata": {},
   "outputs": [],
   "source": [
    "'''\n",
    "Following PEP-8 Standard these are some of the conventions and standard for variable naming\n",
    "\n",
    "1. Variable names should be lowercase, with words separated by underscores as necessary to improve readability.\n",
    "\n",
    "2. Never use the characters 'l' (lowercase letter l), 'O' (uppercase letter o), \n",
    "or 'I' (uppercase letter i) as single character variable names because they\n",
    "my become indistinguishable from the numerals one (1) and zero (0). When tempted to use 'l', use 'L' instead.\n",
    "\n",
    "3. Type Variable Names:  Normally use CapWords preferring short names: T, AnyStr, Num. \n",
    "It is recommended to add suffixes _co or _contra to the variables used to declare covariant \n",
    "or contravariant behavior correspondingly:\n",
    "\n",
    "from typing import TypeVar\n",
    "VT_co = TypeVar('VT_co', covariant=True)\n",
    "KT_contra = TypeVar('KT_contra', contravariant=True)\n",
    "\n",
    "4. Words similar to reserved keywords should be avoided but in case it's very necessary\n",
    "it is generally better to append a single trailing underscore rather than use an abbreviation or spelling corruption. \n",
    "Thus class_ is better than clss. (Perhaps better is to avoid such clashes by using a synonym.)\n",
    "\n",
    "5. Use one leading underscore only for instance variables.\n",
    "To avoid name clashes with subclasses, use two leading underscores to invoke Python's name mangling rules.\n",
    "Python mangles these names with the class name: \n",
    "if class Foo has an attribute named __a, it cannot be accessed by Foo.__a. \n",
    "(An insistent user could still gain access by calling Foo._Foo__a.) \n",
    "Generally, double leading underscores should be used only to avoid name conflicts with \n",
    "attributes in classes designed to be subclassed.\n",
    "\n",
    "'''"
   ]
  },
  {
   "cell_type": "markdown",
   "metadata": {},
   "source": [
    "QUESTION 4"
   ]
  },
  {
   "cell_type": "code",
   "execution_count": null,
   "metadata": {},
   "outputs": [],
   "source": [
    "'''Q.4. What will happen if a keyword is used as a variable name?'''"
   ]
  },
  {
   "cell_type": "code",
   "execution_count": 6,
   "metadata": {},
   "outputs": [
    {
     "ename": "SyntaxError",
     "evalue": "invalid syntax (2767043462.py, line 2)",
     "output_type": "error",
     "traceback": [
      "\u001b[1;36m  Input \u001b[1;32mIn [6]\u001b[1;36m\u001b[0m\n\u001b[1;33m    for = 5\u001b[0m\n\u001b[1;37m        ^\u001b[0m\n\u001b[1;31mSyntaxError\u001b[0m\u001b[1;31m:\u001b[0m invalid syntax\n"
     ]
    }
   ],
   "source": [
    "'''If a keyword is used as a variable name in Python, it will result in a syntax error. '''\n",
    "for = 5"
   ]
  },
  {
   "cell_type": "markdown",
   "metadata": {},
   "source": [
    "QUESTION 5"
   ]
  },
  {
   "cell_type": "code",
   "execution_count": null,
   "metadata": {},
   "outputs": [],
   "source": [
    "'''Q.5. For what purpose def keyword is used?'''"
   ]
  },
  {
   "cell_type": "code",
   "execution_count": 8,
   "metadata": {},
   "outputs": [
    {
     "name": "stdout",
     "output_type": "stream",
     "text": [
      "10\n"
     ]
    }
   ],
   "source": [
    "'''\n",
    "In Python the def keyword is used to define a new function.'''\n",
    "\n",
    "def add(a,b):\n",
    "    return a + b\n",
    "\n",
    "print(add(2,8))"
   ]
  },
  {
   "cell_type": "markdown",
   "metadata": {},
   "source": [
    "QUESTION 6"
   ]
  },
  {
   "cell_type": "code",
   "execution_count": null,
   "metadata": {},
   "outputs": [],
   "source": [
    "'''Q.6. What is the operation of this special character '\\' ?'''"
   ]
  },
  {
   "cell_type": "code",
   "execution_count": 12,
   "metadata": {},
   "outputs": [
    {
     "name": "stdout",
     "output_type": "stream",
     "text": [
      "Rakesh said, 'Hi.'\n",
      "This is a backslash: \\\n",
      "Rakesh \n",
      "Rohan \n",
      " are printed in separate lines\n",
      "This is a tab \tbetween the sentence\n"
     ]
    }
   ],
   "source": [
    "'''The special character '\\' is called the backslash in Python and it is used as an escape character. \n",
    "It allows you to include special characters or sequences in strings that would otherwise be difficult or \n",
    "represent directly. When you use a backslash before a character, it changes the meaning of that character \n",
    "and introduces an escape sequence.\n",
    "For example \n",
    "\\': Single quote (')\n",
    "\\\\: Backslash itself ()\n",
    "\\n: Newline (line break)\n",
    "\\t: Tab\n",
    "'''\n",
    "\n",
    "# Single quote\n",
    "print('Rakesh said, \\'Hi.\\'')\n",
    "\n",
    "# Backslash\n",
    "print(\"This is a backslash: \\\\\")\n",
    "\n",
    "# Newline\n",
    "print(\"Rakesh \\nRohan \\n are printed in separate lines\")\n",
    "\n",
    "# Tab \n",
    "print(\"This is a tab \\tbetween the sentence\")\n"
   ]
  },
  {
   "cell_type": "markdown",
   "metadata": {},
   "source": [
    "QUESTION 7"
   ]
  },
  {
   "cell_type": "code",
   "execution_count": null,
   "metadata": {},
   "outputs": [],
   "source": [
    "'''\n",
    "Q.7. Give an example of the following conditions:\n",
    "(i) Homogeneous list\n",
    "(ii) Heterogeneous set\n",
    "(iii) Homogeneous tuple\n",
    "'''"
   ]
  },
  {
   "cell_type": "code",
   "execution_count": 14,
   "metadata": {},
   "outputs": [
    {
     "name": "stdout",
     "output_type": "stream",
     "text": [
      "['cauliflower', 'bringal', 'carrot']\n",
      "[76, 77, 78, 79]\n",
      "{True, 6.77, 76, 77, 'cauliflower'}\n",
      "(766.77, 775.99, 4223.77)\n"
     ]
    }
   ],
   "source": [
    "'''\n",
    "(i) Homogeneous list refers to a list that contains elements of the same data type. \n",
    "'''\n",
    "# This list contains all strings\n",
    "veggie_list = ['cauliflower', 'bringal', 'carrot']\n",
    "print(veggie_list)\n",
    "\n",
    "# This list contains all integers\n",
    "num_list = [76, 77, 78, 79]\n",
    "print(num_list)\n",
    "\n",
    "'''\n",
    "(ii) Heterogeneous set is a set that can contain elements of different data types. \n",
    "but the priamry characteristics of a set that is each element in the set must be unique,\n",
    "and the order of elements is not guaranteed is still maintained.\n",
    "'''\n",
    "seta = {76, 77, 6.77, True, 'cauliflower'}\n",
    "print(seta)\n",
    "\n",
    "'''\n",
    "(iii) Homogeneous tuple refers to a tuple that contains elements of the same data type. \n",
    "but the primary characteristics of a tuple like tuples are ordered collections and are immutable, \n",
    "meaning their elements cannot be changed after creation is still maintained.\n",
    "'''\n",
    "tupa = (766.77, 775.99, 4223.77)\n",
    "print(tupa)"
   ]
  },
  {
   "cell_type": "markdown",
   "metadata": {},
   "source": [
    "QUESTION 8"
   ]
  },
  {
   "cell_type": "code",
   "execution_count": null,
   "metadata": {},
   "outputs": [],
   "source": [
    "'''Q.8. Explain the mutable and immutable data types with proper explanation & examples.'''"
   ]
  },
  {
   "cell_type": "code",
   "execution_count": null,
   "metadata": {},
   "outputs": [],
   "source": [
    "'''\n",
    "Python Mutable data types:\n",
    "Mutable data types in Python are those whose value can be changed in place after they have been created.\n",
    "By in-place, we mean that, any operation that changes the content of anything without making a separate copy of it. \n",
    "For example, we can directly add, remove, or update the values of a list in Python, without creating a new list.\n",
    "\n",
    "\n",
    "Lists: Ordered collection of elements\n",
    "'''\n",
    "my_list = [1,2,3,4,5]\n",
    "print(\"Current List = \", my_list)\n",
    "# using append operation in our list\n",
    "my_list.append(6)\n",
    "# printing our list after the operation\n",
    "print(\"List after appending a value = \",my_list)\n",
    "\n",
    "'''\n",
    "Dictionaries: Dictionary in Python is an unordered collection of items. \n",
    "Each item of a dictionary has a key/value pair, using which we can access a particular key or value of a dictionary. \n",
    "Keys in dictionaries are unique in nature.\n",
    "'''\n",
    "\n",
    "my_dict = {'veggie': 'carrot', 'fruit': 'mango'}\n",
    "print(\"Curent Dictionary = \", my_dict)\n",
    "# adding new key-value pair to our dictionary\n",
    "my_dict['seeds'] = 'nuts'\n",
    "# printing our dictionary after the operation\n",
    "print(\"Dictionary after appending = \",my_dict)\n",
    "\n",
    "'''\n",
    "Sets: A set is an unordered collection of items in Python. \n",
    "All the elements of the set are unique in nature, that is, there are no duplicates in a set. \n",
    "Also, the elements of the set are immutable in nature, that is, they cannot be changed.\n",
    "However, a set itself is mutable in Python. That means, we can add or remove elements from a set in Python.\n",
    "Since sets are unordered in nature, we cannot apply indexing to them.\n",
    "We cannot use indexing or slicing to fetch (access) or change the elements of a set. \n",
    "In fact, the set data type itself does not support these operations.\n",
    "However, we may add, update or remove any element from the set.\n",
    "'''\n",
    "# our current set\n",
    "my_set = {1,2,6,5,7,11}\n",
    "print(\"Curent Set = \", my_dict)\n",
    "# adding an element in our set\n",
    "my_set.add(16)\n",
    "# printing our set after the operation\n",
    "print(\"Set after adding a value : \",my_set)\n"
   ]
  },
  {
   "cell_type": "code",
   "execution_count": 29,
   "metadata": {},
   "outputs": [
    {
     "name": "stdout",
     "output_type": "stream",
     "text": [
      "140703469936672\n",
      "140703469936672\n",
      "140703469936704\n",
      "----------------------------------\n",
      "1642562849424\n",
      "1642562849424\n",
      "1642562850192\n",
      "----------------------------------\n",
      "140703469699904\n",
      "140703469699904\n",
      "140703469699936\n",
      "----------------------------------\n",
      "1642529448304\n",
      "1642529448304\n",
      "1642562713136\n",
      "----------------------------------\n"
     ]
    },
    {
     "ename": "TypeError",
     "evalue": "'tuple' object does not support item assignment",
     "output_type": "error",
     "traceback": [
      "\u001b[1;31m---------------------------------------------------------------------------\u001b[0m",
      "\u001b[1;31mTypeError\u001b[0m                                 Traceback (most recent call last)",
      "\u001b[1;32md:\\work\\4.iNFSDS\\python_assignments\\Assng-6\\assignment6.ipynb Cell 25\u001b[0m in \u001b[0;36m<cell line: 59>\u001b[1;34m()\u001b[0m\n\u001b[0;32m     <a href='vscode-notebook-cell:/d%3A/work/4.iNFSDS/python_assignments/Assng-6/assignment6.ipynb#X33sZmlsZQ%3D%3D?line=56'>57</a>\u001b[0m tuple_ \u001b[39m=\u001b[39m (\u001b[39m2\u001b[39m, \u001b[39m3\u001b[39m, \u001b[39m4\u001b[39m, \u001b[39m5\u001b[39m)  \n\u001b[0;32m     <a href='vscode-notebook-cell:/d%3A/work/4.iNFSDS/python_assignments/Assng-6/assignment6.ipynb#X33sZmlsZQ%3D%3D?line=57'>58</a>\u001b[0m \u001b[39m# Trying to modify the tuple object  \u001b[39;00m\n\u001b[1;32m---> <a href='vscode-notebook-cell:/d%3A/work/4.iNFSDS/python_assignments/Assng-6/assignment6.ipynb#X33sZmlsZQ%3D%3D?line=58'>59</a>\u001b[0m tuple_[\u001b[39m0\u001b[39m] \u001b[39m=\u001b[39m \u001b[39m'\u001b[39m\u001b[39mX\u001b[39m\u001b[39m'\u001b[39m  \n\u001b[0;32m     <a href='vscode-notebook-cell:/d%3A/work/4.iNFSDS/python_assignments/Assng-6/assignment6.ipynb#X33sZmlsZQ%3D%3D?line=59'>60</a>\u001b[0m \u001b[39mprint\u001b[39m(tuple_)\n",
      "\u001b[1;31mTypeError\u001b[0m: 'tuple' object does not support item assignment"
     ]
    }
   ],
   "source": [
    "'''\n",
    "Python Immutable data types:  We cannot change the contents of an immutable data type in Python\n",
    "int : Integer data type, e.g., 10\n",
    "Since int in Python is an immutable data type, we cannot change or update int in Python\n",
    "'''\n",
    "\n",
    "i = 10\n",
    "print(id(i)) \n",
    "y = i\n",
    "print(id(y))\n",
    "i = i + 1\n",
    "print(id(i)) # This shows a new object is created when we update the value of an immutable data type\n",
    "\n",
    "print(\"----------------------------------\")\n",
    "'''\n",
    "float: Floating-point data type are for e.g., 3.14, 2.718\n",
    "'''\n",
    "\n",
    "i = 10.01\n",
    "print(id(i)) \n",
    "y = i\n",
    "print(id(y))\n",
    "i = i + 1\n",
    "print(id(i)) # This shows a new object is created when we update the value of an immutable data type\n",
    "\n",
    "\n",
    "print(\"----------------------------------\")\n",
    "'''\n",
    "bool: Boolean data type are True and False\n",
    "'''\n",
    "a = True\n",
    "print(id(a))\n",
    "c = a\n",
    "print(id(c))\n",
    "a = False\n",
    "print(id(a))\n",
    "\n",
    "\n",
    "print(\"----------------------------------\")\n",
    "'''\n",
    "str: String data type, e.g., 'hello', 'world'\n",
    "'''\n",
    "\n",
    "a = \"hello\"\n",
    "print(id(a))\n",
    "c = a\n",
    "print(id(c))\n",
    "a = \"bye\"\n",
    "print(id(a))\n",
    "\n",
    "print(\"----------------------------------\")\n",
    "'''\n",
    "tuple: A tuple is a sequence of immutable Python objects. \n",
    "A tuple consists of a number of values separated by commas.\n",
    "'''\n",
    "\n",
    "# Creating a tuple object  \n",
    "tuple_ = (2, 3, 4, 5)  \n",
    "# Trying to modify the tuple object  \n",
    "tuple_[0] = 'X' # Will cause Type error\n",
    "print(tuple_)"
   ]
  },
  {
   "cell_type": "markdown",
   "metadata": {},
   "source": [
    "QUESTION 9"
   ]
  },
  {
   "cell_type": "code",
   "execution_count": null,
   "metadata": {},
   "outputs": [],
   "source": [
    "'''\n",
    "Q.9. Write a code to create the given structure using only for loop.\n",
    "\n",
    "*\n",
    "***\n",
    "*****\n",
    "*******\n",
    "*********\n",
    "\n",
    "'''"
   ]
  },
  {
   "cell_type": "code",
   "execution_count": 15,
   "metadata": {},
   "outputs": [
    {
     "name": "stdout",
     "output_type": "stream",
     "text": [
      "*\n",
      "***\n",
      "*****\n",
      "*******\n",
      "*********\n"
     ]
    }
   ],
   "source": [
    "num_rows = 5\n",
    "for i in range(1, num_rows + 1):\n",
    "    for j in range(1, i*2):\n",
    "        print('*', end='')\n",
    "    print()"
   ]
  },
  {
   "cell_type": "code",
   "execution_count": null,
   "metadata": {},
   "outputs": [],
   "source": []
  },
  {
   "cell_type": "markdown",
   "metadata": {},
   "source": [
    "QUESTION 10"
   ]
  },
  {
   "cell_type": "code",
   "execution_count": null,
   "metadata": {},
   "outputs": [],
   "source": [
    "'''\n",
    "Q.10. Write a code to create the given structure using while loop.\n",
    "|||||||||\n",
    "|||||||\n",
    "|||||\n",
    "|||\n",
    "|\n",
    "\n",
    "'''"
   ]
  },
  {
   "cell_type": "code",
   "execution_count": 19,
   "metadata": {},
   "outputs": [
    {
     "name": "stdout",
     "output_type": "stream",
     "text": [
      "|||||||||\n",
      "|||||||\n",
      "|||||\n",
      "|||\n",
      "|\n"
     ]
    }
   ],
   "source": [
    "num_rows = 9\n",
    "i = 0\n",
    "while num_rows >= 0:\n",
    "    while i < num_rows:\n",
    "        print('|', end='')\n",
    "        i += 1\n",
    "    print()\n",
    "    i = 0\n",
    "    num_rows -= 2"
   ]
  },
  {
   "cell_type": "code",
   "execution_count": null,
   "metadata": {},
   "outputs": [],
   "source": []
  }
 ],
 "metadata": {
  "kernelspec": {
   "display_name": "gendev",
   "language": "python",
   "name": "python3"
  },
  "language_info": {
   "codemirror_mode": {
    "name": "ipython",
    "version": 3
   },
   "file_extension": ".py",
   "mimetype": "text/x-python",
   "name": "python",
   "nbconvert_exporter": "python",
   "pygments_lexer": "ipython3",
   "version": "3.8.13"
  },
  "orig_nbformat": 4
 },
 "nbformat": 4,
 "nbformat_minor": 2
}
