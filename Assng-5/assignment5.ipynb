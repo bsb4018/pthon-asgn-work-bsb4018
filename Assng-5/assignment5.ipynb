{
 "cells": [
  {
   "attachments": {},
   "cell_type": "markdown",
   "metadata": {},
   "source": [
    "QUESTION 1"
   ]
  },
  {
   "cell_type": "code",
   "execution_count": null,
   "metadata": {},
   "outputs": [],
   "source": [
    "'''\n",
    "What does an empty dictionary's code look like?\n",
    "'''"
   ]
  },
  {
   "cell_type": "code",
   "execution_count": 33,
   "metadata": {},
   "outputs": [
    {
     "name": "stdout",
     "output_type": "stream",
     "text": [
      "An empty dictionary looks like this: {}\n"
     ]
    }
   ],
   "source": [
    "'''To create an empty dictionary we use the following code'''\n",
    "edict = {}\n",
    "print(f\"An empty dictionary looks like this: {edict}\")"
   ]
  },
  {
   "cell_type": "markdown",
   "metadata": {},
   "source": [
    "QUESTION 2"
   ]
  },
  {
   "cell_type": "code",
   "execution_count": null,
   "metadata": {},
   "outputs": [],
   "source": [
    "'''\n",
    "What is the value of a dictionary value with the key 'foo' and the value 42?\n",
    "'''"
   ]
  },
  {
   "cell_type": "code",
   "execution_count": 32,
   "metadata": {},
   "outputs": [
    {
     "name": "stdout",
     "output_type": "stream",
     "text": [
      "The dictionary with key : value is {'foo': 42}\n",
      "The value is 42\n"
     ]
    }
   ],
   "source": [
    "'The value is 42'\n",
    "vdict = {'foo' : 42}\n",
    "print(f\"The dictionary with key : value is {vdict}\")\n",
    "print(f\"The value is {vdict['foo']}\")"
   ]
  },
  {
   "cell_type": "markdown",
   "metadata": {},
   "source": [
    "QUESTION 3"
   ]
  },
  {
   "cell_type": "code",
   "execution_count": null,
   "metadata": {},
   "outputs": [],
   "source": [
    "'''\n",
    "What is the most significant distinction between a dictionary and a list?\n",
    "'''"
   ]
  },
  {
   "cell_type": "code",
   "execution_count": 9,
   "metadata": {},
   "outputs": [],
   "source": [
    "'''The list is a collection of index value pairs.'''\n",
    "lst = [1,2,3,4,5]\n",
    "'''The dictionary is a hashed structure of the key and value pairs.'''\n",
    "dct = {1:'a', 2:'b', 3:'c', 4:'d', 5:'e'}"
   ]
  },
  {
   "cell_type": "markdown",
   "metadata": {},
   "source": [
    "QUESTION 4"
   ]
  },
  {
   "cell_type": "code",
   "execution_count": null,
   "metadata": {},
   "outputs": [],
   "source": [
    "'''What happens if you try to access spam['foo'] if spam is {'bar': 100}?'''"
   ]
  },
  {
   "cell_type": "code",
   "execution_count": 10,
   "metadata": {},
   "outputs": [
    {
     "ename": "KeyError",
     "evalue": "'foo'",
     "output_type": "error",
     "traceback": [
      "\u001b[1;31m---------------------------------------------------------------------------\u001b[0m",
      "\u001b[1;31mKeyError\u001b[0m                                  Traceback (most recent call last)",
      "\u001b[1;32md:\\work\\4.iNFSDS\\python_assignments\\Assng-5\\assignment5.ipynb Cell 12\u001b[0m in \u001b[0;36m<cell line: 3>\u001b[1;34m()\u001b[0m\n\u001b[0;32m      <a href='vscode-notebook-cell:/d%3A/work/4.iNFSDS/python_assignments/Assng-5/assignment5.ipynb#Y110sZmlsZQ%3D%3D?line=0'>1</a>\u001b[0m \u001b[39m'''If we try to access spam['foo'] '''\u001b[39;00m\n\u001b[0;32m      <a href='vscode-notebook-cell:/d%3A/work/4.iNFSDS/python_assignments/Assng-5/assignment5.ipynb#Y110sZmlsZQ%3D%3D?line=1'>2</a>\u001b[0m spam \u001b[39m=\u001b[39m {\u001b[39m'\u001b[39m\u001b[39mbar\u001b[39m\u001b[39m'\u001b[39m : \u001b[39m100\u001b[39m}\n\u001b[1;32m----> <a href='vscode-notebook-cell:/d%3A/work/4.iNFSDS/python_assignments/Assng-5/assignment5.ipynb#Y110sZmlsZQ%3D%3D?line=2'>3</a>\u001b[0m spam[\u001b[39m'\u001b[39;49m\u001b[39mfoo\u001b[39;49m\u001b[39m'\u001b[39;49m]\n",
      "\u001b[1;31mKeyError\u001b[0m: 'foo'"
     ]
    }
   ],
   "source": [
    "'''\n",
    "If we try to access spam['foo'] from a dictionary spam which has only {'bar': 100} then \n",
    "the Python KeyError is raised.\n",
    "A Python KeyError exception is what is raised when you try to access a key that isn't in a dictionary.\n",
    "Since we don't have the key 'foo' in the dictionary this happens.'''\n",
    "\n",
    "spam = {'bar' : 100}\n",
    "spam['foo'] # Will raise a KeyError"
   ]
  },
  {
   "cell_type": "markdown",
   "metadata": {},
   "source": [
    "QUESTION 5"
   ]
  },
  {
   "cell_type": "code",
   "execution_count": null,
   "metadata": {},
   "outputs": [],
   "source": [
    "'''\n",
    "If a dictionary is stored in spam, what is the difference between the expressions'cat' in spam and\n",
    "'cat' in spam.keys()?\n",
    "'''"
   ]
  },
  {
   "cell_type": "code",
   "execution_count": 16,
   "metadata": {},
   "outputs": [
    {
     "name": "stdout",
     "output_type": "stream",
     "text": [
      "True\n",
      "True\n"
     ]
    }
   ],
   "source": [
    "'''\n",
    "Both the statements returns the same value but \n",
    "In 'cat' in spam checks the in operator internally uses the __contains__() method of the dictionary object\n",
    "to check whether the key 'cat' is present directly in the dictionary spam.\n",
    "\n",
    "In 'cat' in spam.keys() the keys() method returns the list of keys in spam and then it is checked whether \n",
    "'cat' is present in that list or not.\n",
    "'''\n",
    "# Here both the statements returns the same value that is True\n",
    "spam = {'cat' : 'meow'}\n",
    "print('cat' in spam)\n",
    "print('cat' in spam.keys())"
   ]
  },
  {
   "cell_type": "markdown",
   "metadata": {},
   "source": [
    "QUESTION 6"
   ]
  },
  {
   "cell_type": "code",
   "execution_count": null,
   "metadata": {},
   "outputs": [],
   "source": [
    "'''\n",
    "If a dictionary is stored in spam, what is the difference between the expressions 'cat' in spam and\n",
    "'cat' in spam.values()?\n",
    "'''"
   ]
  },
  {
   "cell_type": "code",
   "execution_count": 19,
   "metadata": {},
   "outputs": [
    {
     "name": "stdout",
     "output_type": "stream",
     "text": [
      "True\n",
      "False\n",
      "--------------------------------\n",
      "True\n",
      "True\n"
     ]
    }
   ],
   "source": [
    "'''\n",
    "In 'cat' in spam it checks whether the value 'cat' is present as a key in the dictionary spam.\n",
    "In 'cat' in spam.values() the values() retrieves the list of values in the dictionary spam \n",
    "and checks whether 'cat' is present in that dictionary or not.\n",
    "'''\n",
    "\n",
    "# Here first will return True and second will return False\n",
    "spam = {'cat' : 'meow', 'dog': 'bhow'}\n",
    "print('cat' in spam)\n",
    "print('cat' in spam.values())\n",
    "\n",
    "print(\"--------------------------------\")\n",
    "# Here Both will return True\n",
    "spam = {'cat' : 'meow', 'kitten': 'cat'}\n",
    "print('cat' in spam)\n",
    "print('cat' in spam.values())"
   ]
  },
  {
   "cell_type": "markdown",
   "metadata": {},
   "source": [
    "QUESTION 7"
   ]
  },
  {
   "cell_type": "code",
   "execution_count": null,
   "metadata": {},
   "outputs": [],
   "source": [
    "'''\n",
    "What is a shortcut for the following code?\n",
    "if 'color' not in spam:\n",
    "    spam['color'] = 'black'\n",
    "\n",
    "'''"
   ]
  },
  {
   "cell_type": "code",
   "execution_count": 24,
   "metadata": {},
   "outputs": [
    {
     "data": {
      "text/plain": [
       "{'cat': 'meow', 'color': 'black'}"
      ]
     },
     "execution_count": 24,
     "metadata": {},
     "output_type": "execute_result"
    }
   ],
   "source": [
    "'''\n",
    "We can use the dict.setdefault() method as a shortcut for the given code. \n",
    "The setdefault() method sets a default value for a key in a dictionary if the key is not already present.\n",
    "'''\n",
    "\n",
    "spam = {'cat':'meow'}\n",
    "spam.setdefault('color','black')\n",
    "spam\n"
   ]
  },
  {
   "cell_type": "markdown",
   "metadata": {},
   "source": [
    "QUESTION 8"
   ]
  },
  {
   "cell_type": "code",
   "execution_count": null,
   "metadata": {},
   "outputs": [],
   "source": [
    "'''\n",
    "How do you \"pretty print\" dictionary values using which module and function?\n",
    "'''"
   ]
  },
  {
   "cell_type": "code",
   "execution_count": 29,
   "metadata": {},
   "outputs": [],
   "source": [
    "'''\n",
    "We use pprint module which has the pprint function \n",
    "This displays the output in a more readable and visually appealing manner\n",
    "especially for complex nested structures like dictionaries\n",
    "'''\n",
    "\n",
    "spam = [{'cat': 'meow', 'dog': 'woof', 'cow': 'mooh'},\n",
    "        {'dog': 2, 'cat': 3, 'cow': 7},\n",
    "        {'dog': 'no', 'cat': 'yes', 'cow': 'yes'}]\n"
   ]
  },
  {
   "cell_type": "code",
   "execution_count": 30,
   "metadata": {},
   "outputs": [
    {
     "name": "stdout",
     "output_type": "stream",
     "text": [
      "[{'cat': 'meow', 'dog': 'woof', 'cow': 'mooh'}, {'dog': 2, 'cat': 3, 'cow': 7}, {'dog': 'no', 'cat': 'yes', 'cow': 'yes'}]\n"
     ]
    }
   ],
   "source": [
    "# Using normal print\n",
    "print(spam)"
   ]
  },
  {
   "cell_type": "code",
   "execution_count": 31,
   "metadata": {},
   "outputs": [
    {
     "name": "stdout",
     "output_type": "stream",
     "text": [
      "[{'cat': 'meow', 'cow': 'mooh', 'dog': 'woof'},\n",
      " {'cat': 3, 'cow': 7, 'dog': 2},\n",
      " {'cat': 'yes', 'cow': 'yes', 'dog': 'no'}]\n"
     ]
    }
   ],
   "source": [
    "# Using pretty print\n",
    "import pprint\n",
    "pprint.pprint(spam)"
   ]
  },
  {
   "cell_type": "code",
   "execution_count": null,
   "metadata": {},
   "outputs": [],
   "source": []
  },
  {
   "cell_type": "code",
   "execution_count": null,
   "metadata": {},
   "outputs": [],
   "source": []
  }
 ],
 "metadata": {
  "kernelspec": {
   "display_name": "gendev",
   "language": "python",
   "name": "python3"
  },
  "language_info": {
   "codemirror_mode": {
    "name": "ipython",
    "version": 3
   },
   "file_extension": ".py",
   "mimetype": "text/x-python",
   "name": "python",
   "nbconvert_exporter": "python",
   "pygments_lexer": "ipython3",
   "version": "3.8.13"
  },
  "orig_nbformat": 4
 },
 "nbformat": 4,
 "nbformat_minor": 2
}
