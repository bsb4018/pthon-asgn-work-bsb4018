{
 "cells": [
  {
   "cell_type": "markdown",
   "metadata": {},
   "source": [
    "17th June '23 Assignment"
   ]
  },
  {
   "cell_type": "markdown",
   "metadata": {},
   "source": [
    "QUESTION 1"
   ]
  },
  {
   "cell_type": "code",
   "execution_count": null,
   "metadata": {},
   "outputs": [],
   "source": [
    "'''\n",
    "What is the role of try and exception block?\n",
    "'''"
   ]
  },
  {
   "cell_type": "markdown",
   "metadata": {},
   "source": [
    "ANSWER"
   ]
  },
  {
   "cell_type": "code",
   "execution_count": 10,
   "metadata": {},
   "outputs": [
    {
     "name": "stdout",
     "output_type": "stream",
     "text": [
      "Cannot divide by zero!\n",
      "This will always be executed.\n"
     ]
    }
   ],
   "source": [
    "'''\n",
    "Errors are the problems in a program due to which the program will stop the execution. \n",
    "On the other hand, exceptions are raised when some internal events occur which changes the \n",
    "normal flow of the program.\n",
    "In Python, the try and except blocks are used for exception handling. \n",
    "Exception handling allows you to handle errors and unexpected situations in a \n",
    "graceful manner, preventing your program from crashing.\n",
    "\n",
    "The try block lets you test a block of code for errors.\n",
    "The except block lets you handle the error.\n",
    "The else block lets you execute code when there is no error.\n",
    "The finally block lets you execute code, regardless of the result of the try- and except blocks.\n",
    "'''\n",
    "\n",
    "try:\n",
    "    # Code that might raise an exception\n",
    "    # ...\n",
    "    result = 10 / 0  # This will raise a ZeroDivisionError\n",
    "    # ...\n",
    "except ZeroDivisionError:\n",
    "    # Code to handle the specific exception (ZeroDivisionError in this case)\n",
    "    print(\"Cannot divide by zero!\")\n",
    "except Exception as e:\n",
    "    # Code to handle other types of exceptions\n",
    "    print(f\"An error occurred: {e}\")\n",
    "else:\n",
    "    # Optional: Code to run if no exception occurs in the try block\n",
    "    print(\"No errors occurred.\")\n",
    "finally:\n",
    "    # Optional: Code that will be executed no matter what, whether an exception occurred or not\n",
    "    print(\"This will always be executed.\")"
   ]
  },
  {
   "cell_type": "markdown",
   "metadata": {},
   "source": [
    "QUESTION 2"
   ]
  },
  {
   "cell_type": "code",
   "execution_count": null,
   "metadata": {},
   "outputs": [],
   "source": [
    "'''\n",
    "What is the syntax for a basic try-except block?\n",
    "'''"
   ]
  },
  {
   "cell_type": "markdown",
   "metadata": {},
   "source": [
    "ANSWER"
   ]
  },
  {
   "cell_type": "code",
   "execution_count": 11,
   "metadata": {},
   "outputs": [
    {
     "name": "stdout",
     "output_type": "stream",
     "text": [
      "Error: division by zero\n"
     ]
    }
   ],
   "source": [
    "'''\n",
    "The basic syntax is like the following :-\n",
    "\n",
    "try:\n",
    "    # Code that might raise an exception\n",
    "    # ...\n",
    "except \"ExceptionType\" as e:\n",
    "    # Code to handle the exception (optional)\n",
    "    # ...\n",
    "'''\n",
    "\n",
    "try:\n",
    "    result = 10 / 0  # This will raise a ZeroDivisionError\n",
    "except ZeroDivisionError as e:\n",
    "    print(f\"Error: {e}\")\n",
    "\n"
   ]
  },
  {
   "cell_type": "markdown",
   "metadata": {},
   "source": [
    "QUESTION 3"
   ]
  },
  {
   "cell_type": "code",
   "execution_count": null,
   "metadata": {},
   "outputs": [],
   "source": [
    "'''\n",
    "What happens if an exception occurs inside a try block \n",
    "and there is no matching except block?\n",
    "'''"
   ]
  },
  {
   "cell_type": "markdown",
   "metadata": {},
   "source": [
    "ANSWER"
   ]
  },
  {
   "cell_type": "code",
   "execution_count": 12,
   "metadata": {},
   "outputs": [
    {
     "ename": "ZeroDivisionError",
     "evalue": "division by zero",
     "output_type": "error",
     "traceback": [
      "\u001b[1;31m---------------------------------------------------------------------------\u001b[0m",
      "\u001b[1;31mZeroDivisionError\u001b[0m                         Traceback (most recent call last)",
      "Cell \u001b[1;32mIn[12], line 8\u001b[0m\n\u001b[0;32m      1\u001b[0m \u001b[38;5;124;03m'''\u001b[39;00m\n\u001b[0;32m      2\u001b[0m \u001b[38;5;124;03mIf an exception occurs inside a try block and there is no matching except block to \u001b[39;00m\n\u001b[0;32m      3\u001b[0m \u001b[38;5;124;03mhandle that specific type of exception, the program will terminate, and an error message \u001b[39;00m\n\u001b[0;32m      4\u001b[0m \u001b[38;5;124;03mwill be displayed. The default behavior in such a case is to print a traceback to the console, \u001b[39;00m\n\u001b[0;32m      5\u001b[0m \u001b[38;5;124;03mindicating the type of exception, the line number where the exception occurred, and the call stack.\u001b[39;00m\n\u001b[0;32m      6\u001b[0m \u001b[38;5;124;03m'''\u001b[39;00m\n\u001b[0;32m      7\u001b[0m \u001b[38;5;28;01mtry\u001b[39;00m:\n\u001b[1;32m----> 8\u001b[0m     result \u001b[38;5;241m=\u001b[39m \u001b[38;5;241;43m10\u001b[39;49m\u001b[43m \u001b[49m\u001b[38;5;241;43m/\u001b[39;49m\u001b[43m \u001b[49m\u001b[38;5;241;43m0\u001b[39;49m  \u001b[38;5;66;03m# This will raise a ZeroDivisionError\u001b[39;00m\n\u001b[0;32m      9\u001b[0m \u001b[38;5;28;01mexcept\u001b[39;00m \u001b[38;5;167;01mValueError\u001b[39;00m \u001b[38;5;28;01mas\u001b[39;00m e:\n\u001b[0;32m     10\u001b[0m     \u001b[38;5;66;03m# This block will not be executed because the exception is not a ValueError\u001b[39;00m\n\u001b[0;32m     11\u001b[0m     \u001b[38;5;28mprint\u001b[39m(\u001b[38;5;124mf\u001b[39m\u001b[38;5;124m\"\u001b[39m\u001b[38;5;124mError: \u001b[39m\u001b[38;5;132;01m{\u001b[39;00me\u001b[38;5;132;01m}\u001b[39;00m\u001b[38;5;124m\"\u001b[39m)\n",
      "\u001b[1;31mZeroDivisionError\u001b[0m: division by zero"
     ]
    }
   ],
   "source": [
    "'''\n",
    "If an exception occurs inside a try block and there is no matching except block to \n",
    "handle that specific type of exception, the program will terminate, and an error message \n",
    "will be displayed. The default behavior in such a case is to print a traceback to the console, \n",
    "indicating the type of exception, the line number where the exception occurred, and the call stack.\n",
    "'''\n",
    "try:\n",
    "    result = 10 / 0  # This will raise a ZeroDivisionError\n",
    "except ValueError as e:\n",
    "    # This block will not be executed because the exception is not a ValueError\n",
    "    print(f\"Error: {e}\")\n"
   ]
  },
  {
   "cell_type": "markdown",
   "metadata": {},
   "source": [
    "QUESTION 4"
   ]
  },
  {
   "cell_type": "code",
   "execution_count": null,
   "metadata": {},
   "outputs": [],
   "source": [
    "'''\n",
    "What is the difference between using a bare except block \n",
    "and specifying a specific exception type?\n",
    "'''"
   ]
  },
  {
   "cell_type": "markdown",
   "metadata": {},
   "source": [
    "ANSWER"
   ]
  },
  {
   "cell_type": "code",
   "execution_count": null,
   "metadata": {},
   "outputs": [],
   "source": [
    "'''\n",
    "Bare Except Block:\n",
    "In this approach, the except block does not specify a particular exception type. \n",
    "It catches any exception that might occur.\n",
    "This can be used for handling unexpected or unknown exceptions.\n",
    "It is generally not recommended because it can catch and handle exceptions \n",
    "that you might not have anticipated, leading to unintended consequences\n",
    "so debugging becomes difficult\n",
    "\n",
    "try:\n",
    "    # Code that might raise an exception\n",
    "    # ...\n",
    "except:\n",
    "    # Code to handle any exception (not recommended)\n",
    "    # ...\n",
    "\n",
    "Specific Exception Type:   \n",
    "In this approach, you specify the type of exception (SomeException in the example) \n",
    "that you expect might occur.\n",
    "This allows you to handle different exceptions in different ways.\n",
    "You can access details about the exception using the variable (e in the example).\n",
    "\n",
    "try:\n",
    "    # Code that might raise an exception\n",
    "    # ...\n",
    "except SomeException as e:\n",
    "    # Code to handle SomeException\n",
    "    # ...\n",
    "\n",
    "'''"
   ]
  },
  {
   "cell_type": "markdown",
   "metadata": {},
   "source": [
    "QUESTION 5"
   ]
  },
  {
   "cell_type": "code",
   "execution_count": null,
   "metadata": {},
   "outputs": [],
   "source": [
    "'''\n",
    "Can you have nested try-except blocks in Python? If yes, then give an example.\n",
    "'''"
   ]
  },
  {
   "cell_type": "markdown",
   "metadata": {},
   "source": [
    "ANSWER"
   ]
  },
  {
   "cell_type": "code",
   "execution_count": 13,
   "metadata": {},
   "outputs": [
    {
     "name": "stdout",
     "output_type": "stream",
     "text": [
      "This is outer try block\n",
      "inside inner finally block\n",
      "Division by 0\n",
      "inside outer finally block\n"
     ]
    }
   ],
   "source": [
    "'''\n",
    "Yes it is possible to have nested try-except blocks in Python\n",
    "'''\n",
    "a=10\n",
    "b=0\n",
    "try:\n",
    "   print (\"This is outer try block\")\n",
    "   try:\n",
    "      print (a/b)\n",
    "   except KeyError:\n",
    "      print (\"Key Error\")\n",
    "   finally:\n",
    "      print (\"inside inner finally block\")\n",
    "      \n",
    "except ZeroDivisionError:\n",
    "   print (\"Division by 0\")\n",
    "finally:\n",
    "   print (\"inside outer finally block\")\n",
    "\n",
    "'''\n",
    "In the following example, the inner try: faces \"division by 0\", \n",
    "but its corresponding except: is looking for KeyError instead of ZeroDivisionError. \n",
    "Hence, the exception object is passed on to the except: block of the \n",
    "subsequent except statement matching with outer try: statement. \n",
    "There, the zeroDivisionError exception is trapped and handled.\n",
    "'''\n",
    "pass"
   ]
  },
  {
   "cell_type": "markdown",
   "metadata": {},
   "source": [
    "QUESTION 6"
   ]
  },
  {
   "cell_type": "code",
   "execution_count": null,
   "metadata": {},
   "outputs": [],
   "source": [
    "'''\n",
    "Can we use multiple exception blocks, if yes then give an example.\n",
    "'''"
   ]
  },
  {
   "cell_type": "markdown",
   "metadata": {},
   "source": [
    "ANSWER"
   ]
  },
  {
   "cell_type": "code",
   "execution_count": 14,
   "metadata": {},
   "outputs": [
    {
     "name": "stdout",
     "output_type": "stream",
     "text": [
      "Result: 0.6666666666666666\n",
      "This will always be executed.\n"
     ]
    }
   ],
   "source": [
    "'''\n",
    "Yes, you can use multiple except blocks to handle different types of exceptions\n",
    "'''\n",
    "try:\n",
    "    # Code that might raise an exception\n",
    "    num1 = int(input(\"Enter a numerator: \"))\n",
    "    num2 = int(input(\"Enter a denominator: \"))\n",
    "    result = num1 / num2  # This may raise various exceptions\n",
    "\n",
    "except ValueError:\n",
    "    # Handle the exception when the input cannot be converted to an integer\n",
    "    print(\"Invalid input. Please enter valid integers for the numerator and denominator.\")\n",
    "\n",
    "except ZeroDivisionError:\n",
    "    # Handle the exception when attempting to divide by zero\n",
    "    print(\"Cannot divide by zero. Please enter a non-zero denominator.\")\n",
    "\n",
    "except Exception as e:\n",
    "    # Handle other types of exceptions\n",
    "    print(f\"An error occurred: {e}\")\n",
    "\n",
    "else:\n",
    "    # Code to execute if no exception occurs in the try block\n",
    "    print(\"Result:\", result)\n",
    "\n",
    "finally:\n",
    "    # Code that will be executed no matter what, whether an exception occurred or not\n",
    "    print(\"This will always be executed.\")\n"
   ]
  },
  {
   "cell_type": "markdown",
   "metadata": {},
   "source": [
    "QUESTION 7"
   ]
  },
  {
   "cell_type": "code",
   "execution_count": null,
   "metadata": {},
   "outputs": [],
   "source": [
    "'''\n",
    "Write the reason due to which following errors are raised:\n",
    "a. EOFError\n",
    "b. FloatingPointError\n",
    "c. IndexError\n",
    "d. MemoryError\n",
    "e. OverflowError\n",
    "f. TabError\n",
    "g. ValueError\n",
    "'''"
   ]
  },
  {
   "cell_type": "markdown",
   "metadata": {},
   "source": [
    "ANSWER"
   ]
  },
  {
   "cell_type": "code",
   "execution_count": null,
   "metadata": {},
   "outputs": [],
   "source": [
    "'''\n",
    "a. EOFError: Raised when the input() function hits an end-of-file condition without reading any data.\n",
    "\n",
    "b. FloatingPointError: Raised when a floating-point operation fails. \n",
    "Common causes include division by zero or an operation resulting in an undefined or infinite value.\n",
    "\n",
    "c. IndexError: Raised when trying to access an index that is outside the bounds of a list, \n",
    "tuple, or other iterable.\n",
    "\n",
    "d. MemoryError:Raised when an operation cannot be completed due to insufficient memory.\n",
    "\n",
    "e. OverflowError: Raised when the result of an arithmetic operation exceeds the \n",
    "representational limits of the data type, typically seen with integers.\n",
    "\n",
    "f. TabError: Raised when inconsistent use of tabs and spaces in the indentation of \n",
    "code causes indentation errors.\n",
    "\n",
    "g. ValueError: Raised when an operation or function receives an argument of the \n",
    "correct type but with an invalid value. For example, trying to convert a string to \n",
    "an integer where the string does not represent a valid integer.\n",
    "\n",
    "'''"
   ]
  },
  {
   "cell_type": "markdown",
   "metadata": {},
   "source": [
    "QUESTION 8"
   ]
  },
  {
   "cell_type": "code",
   "execution_count": null,
   "metadata": {},
   "outputs": [],
   "source": [
    "'''\n",
    "Write code for the following given scenario and add try-exception block to it.\n",
    "a. Program to divide two numbers\n",
    "b. Program to convert a string to an integer\n",
    "c. Program to access an element in a list\n",
    "d. Program to handle a specific exception\n",
    "e. Program to handle any exception\n",
    "'''"
   ]
  },
  {
   "cell_type": "markdown",
   "metadata": {},
   "source": [
    "ANSWER"
   ]
  },
  {
   "cell_type": "code",
   "execution_count": 15,
   "metadata": {},
   "outputs": [
    {
     "name": "stdout",
     "output_type": "stream",
     "text": [
      "Result: 0.625\n"
     ]
    }
   ],
   "source": [
    "# a. Program to divide two numbers\n",
    "try:\n",
    "    numerator = int(input(\"Enter the numerator: \"))\n",
    "    denominator = int(input(\"Enter the denominator: \"))\n",
    "    result = numerator / denominator\n",
    "    print(\"Result:\", result)\n",
    "except ZeroDivisionError:\n",
    "    print(\"Error: Cannot divide by zero.\")\n",
    "except ValueError:\n",
    "    print(\"Error: Please enter valid integers for numerator and denominator.\")\n",
    "except Exception as e:\n",
    "    print(f\"An unexpected error occurred: {e}\")\n"
   ]
  },
  {
   "cell_type": "code",
   "execution_count": 16,
   "metadata": {},
   "outputs": [
    {
     "name": "stdout",
     "output_type": "stream",
     "text": [
      "Converted integer: 3\n"
     ]
    }
   ],
   "source": [
    "# b. Program to convert a string to an integer:\n",
    "try:\n",
    "    input_str = input(\"Enter an integer: \")\n",
    "    converted_int = int(input_str)\n",
    "    print(\"Converted integer:\", converted_int)\n",
    "except ValueError:\n",
    "    print(\"Error: Invalid input. Please enter a valid integer.\")\n",
    "except Exception as e:\n",
    "    print(f\"An unexpected error occurred: {e}\")\n"
   ]
  },
  {
   "cell_type": "code",
   "execution_count": 17,
   "metadata": {},
   "outputs": [
    {
     "name": "stdout",
     "output_type": "stream",
     "text": [
      "Error: Index is out of range for the list.\n"
     ]
    }
   ],
   "source": [
    "# c. Program to access an element in a list:\n",
    "try:\n",
    "    my_list = [1, 2, 3, 4, 5]\n",
    "    index = int(input(\"Enter an index: \"))\n",
    "    value = my_list[index]\n",
    "    print(\"Value at index\", index, \":\", value)\n",
    "except IndexError:\n",
    "    print(\"Error: Index is out of range for the list.\")\n",
    "except ValueError:\n",
    "    print(\"Error: Please enter a valid integer for the index.\")\n",
    "except Exception as e:\n",
    "    print(f\"An unexpected error occurred: {e}\")\n"
   ]
  },
  {
   "cell_type": "code",
   "execution_count": 18,
   "metadata": {},
   "outputs": [
    {
     "name": "stdout",
     "output_type": "stream",
     "text": [
      "Caught a ValueError: This is a custom ValueError.\n"
     ]
    }
   ],
   "source": [
    "# d. Program to handle a specific exception:\n",
    "try:\n",
    "    # Some code that may raise a specific exception\n",
    "    raise ValueError(\"This is a custom ValueError.\")\n",
    "except ValueError as ve:\n",
    "    print(f\"Caught a ValueError: {ve}\")\n",
    "except Exception as e:\n",
    "    print(f\"An unexpected error occurred: {e}\")"
   ]
  },
  {
   "cell_type": "code",
   "execution_count": 19,
   "metadata": {},
   "outputs": [
    {
     "name": "stdout",
     "output_type": "stream",
     "text": [
      "An unexpected error occurred: division by zero\n"
     ]
    }
   ],
   "source": [
    "# e. Program to handle any exception:\n",
    "try:\n",
    "    # Some code that may raise any exception\n",
    "    result = 10 / 0\n",
    "except Exception as e:\n",
    "    print(f\"An unexpected error occurred: {e}\")"
   ]
  },
  {
   "cell_type": "code",
   "execution_count": null,
   "metadata": {},
   "outputs": [],
   "source": []
  }
 ],
 "metadata": {
  "kernelspec": {
   "display_name": "Python 3",
   "language": "python",
   "name": "python3"
  },
  "language_info": {
   "codemirror_mode": {
    "name": "ipython",
    "version": 3
   },
   "file_extension": ".py",
   "mimetype": "text/x-python",
   "name": "python",
   "nbconvert_exporter": "python",
   "pygments_lexer": "ipython3",
   "version": "3.8.17"
  }
 },
 "nbformat": 4,
 "nbformat_minor": 2
}
