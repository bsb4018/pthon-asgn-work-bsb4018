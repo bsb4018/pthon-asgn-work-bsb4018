{
 "cells": [
  {
   "cell_type": "markdown",
   "metadata": {},
   "source": [
    "10th June - Python (Functions Assignment) - 1"
   ]
  },
  {
   "cell_type": "markdown",
   "metadata": {},
   "source": [
    "QUESTION 1"
   ]
  },
  {
   "cell_type": "code",
   "execution_count": null,
   "metadata": {},
   "outputs": [],
   "source": [
    "'''\n",
    "1. In Python, what is the difference between a built-in function and a user-defined function? Provide an\n",
    "example of each.\n",
    "'''"
   ]
  },
  {
   "cell_type": "markdown",
   "metadata": {},
   "source": [
    "ANSWER"
   ]
  },
  {
   "cell_type": "code",
   "execution_count": 1,
   "metadata": {},
   "outputs": [
    {
     "name": "stdout",
     "output_type": "stream",
     "text": [
      "print() is a built in function in Python\n"
     ]
    }
   ],
   "source": [
    "'''\n",
    "Builtin functions are part of the Python language. They are provided to be used in our Python programs.\n",
    "Built-in functions are always available, and you can use them directly without any additional code.\n",
    "For example, print() function in Python is used to display some output message to the user on the screen.\n",
    "'''\n",
    "print(\"print() is a built in function in Python\")"
   ]
  },
  {
   "cell_type": "code",
   "execution_count": 2,
   "metadata": {},
   "outputs": [
    {
     "name": "stdout",
     "output_type": "stream",
     "text": [
      "25\n"
     ]
    }
   ],
   "source": [
    "'''\n",
    "User-defined functions are functions that one can create by defining them within your Python code.\n",
    "These functions are created to perform specific tasks or encapsulate a set of instructions that \n",
    "you want to reuse in your program.\n",
    "You define user-defined functions using the def keyword, followed by a function name,\n",
    "parameters (if any), and a block of code.\n",
    "'''\n",
    "def squareAdd(x,y):\n",
    "    return x ** 2 + y ** 2\n",
    "\n",
    "result = squareAdd(3,4)\n",
    "print(result)"
   ]
  },
  {
   "cell_type": "markdown",
   "metadata": {},
   "source": [
    "QUESTION 2"
   ]
  },
  {
   "cell_type": "code",
   "execution_count": null,
   "metadata": {},
   "outputs": [],
   "source": [
    "'''\n",
    "2. How can you pass arguments to a function in Python? Explain the difference between positional\n",
    "arguments and keyword arguments.\n",
    "'''"
   ]
  },
  {
   "cell_type": "markdown",
   "metadata": {},
   "source": [
    "ANSWER"
   ]
  },
  {
   "cell_type": "code",
   "execution_count": 3,
   "metadata": {},
   "outputs": [
    {
     "name": "stdout",
     "output_type": "stream",
     "text": [
      "John has given the number 5\n"
     ]
    }
   ],
   "source": [
    "'''\n",
    "Arguments are values or expressions that you provide to a function, \n",
    "which the function can then use to perform its task.\n",
    "We ycan pass arguments to a function when we call it.\n",
    "'''\n",
    "\n",
    "'''\n",
    "Positional Arguments\n",
    "Positional arguments are passed to a function based on their position or order in the function's parameter list, \n",
    "so they need to be included in the proper position or order.\n",
    "The first positional argument always needs to be listed first when the function is called. \n",
    "The second positional argument needs to be listed second and the third positional argument listed third, etc.\n",
    "'''\n",
    "\n",
    "def nameNum(name, num):\n",
    "    return f\"{name} has given the number {num}\"\n",
    "\n",
    "result = nameNum(\"John\", 5)\n",
    "print(result)"
   ]
  },
  {
   "cell_type": "code",
   "execution_count": 4,
   "metadata": {},
   "outputs": [
    {
     "name": "stdout",
     "output_type": "stream",
     "text": [
      "John has given the number 5\n"
     ]
    }
   ],
   "source": [
    "'''\n",
    "Keyword Arguments\n",
    "Keyword arguments are passed to a function by explicitly specifying the parameter names and their corresponding \n",
    "values, so the arguments are passed to a function by calling like : function(keyword=value)\n",
    "This allows you to provide arguments out of order, which can make your code more readable and self-explanatory.\n",
    "'''\n",
    "\n",
    "def nameNum(name, num):\n",
    "    return f\"{name} has given the number {num}\"\n",
    "\n",
    "result = nameNum(num=5, name=\"John\")\n",
    "print(result)"
   ]
  },
  {
   "cell_type": "markdown",
   "metadata": {},
   "source": [
    "QUESTION 3"
   ]
  },
  {
   "cell_type": "code",
   "execution_count": null,
   "metadata": {},
   "outputs": [],
   "source": [
    "'''\n",
    "3. What is the purpose of the return statement in a function? Can a function have multiple return\n",
    "statements? Explain with an example.\n",
    "'''"
   ]
  },
  {
   "cell_type": "markdown",
   "metadata": {},
   "source": [
    "ANSWER"
   ]
  },
  {
   "cell_type": "code",
   "execution_count": 9,
   "metadata": {},
   "outputs": [
    {
     "name": "stdout",
     "output_type": "stream",
     "text": [
      "11\n"
     ]
    }
   ],
   "source": [
    "'''\n",
    "The return stament's main work is to return something to the caller function.\n",
    "Returning Values: It allows a function to provide a result or output to the caller. \n",
    "The value(s) specified in the return statement can be used by the caller for further processing \n",
    "or assignment to variables.\n",
    "\n",
    "Exiting the Function: The return statement also serves as a way to exit the function prematurely. \n",
    "Once a return statement is executed, the function's execution is halted, and control is returned to the caller.\n",
    "\n",
    "Multiple Return Paths: A function can have multiple return statements. This means that depending on \n",
    "certain conditions or branches of code, a different value can be returned. \n",
    "The first encountered return statement in a given code path is the one that takes effect.\n",
    "'''\n",
    "\n",
    "def add(x, y):\n",
    "    total = x + y\n",
    "    return total\n",
    "\n",
    "print(add(5,6))"
   ]
  },
  {
   "cell_type": "code",
   "execution_count": 10,
   "metadata": {},
   "outputs": [
    {
     "name": "stdout",
     "output_type": "stream",
     "text": [
      "10\n",
      "4\n"
     ]
    }
   ],
   "source": [
    "'''\n",
    "Yes a function can have multiple return paths.\n",
    "'''\n",
    "def add_and_sub(x, y):\n",
    "    addval = x + y\n",
    "    subval = x - y\n",
    "    return addval,subval\n",
    "x1,x2 = add_and_sub(7,3)\n",
    "print(x1)\n",
    "print(x2)"
   ]
  },
  {
   "cell_type": "markdown",
   "metadata": {},
   "source": [
    "QUESTION 4"
   ]
  },
  {
   "cell_type": "code",
   "execution_count": null,
   "metadata": {},
   "outputs": [],
   "source": [
    "'''\n",
    "4. What are lambda functions in Python? How are they different from regular functions? Provide an\n",
    "example where a lambda function can be useful.\n",
    "'''"
   ]
  },
  {
   "cell_type": "markdown",
   "metadata": {},
   "source": [
    "ANSWER"
   ]
  },
  {
   "cell_type": "code",
   "execution_count": null,
   "metadata": {},
   "outputs": [],
   "source": [
    "'''\n",
    "A lambda function is an anonymous function (i.e., defined without a name) that can take any number of \n",
    "arguments but, unlike normal functions, evaluates and returns only one expression.\n",
    "A lambda function in Python has the following syntax:\n",
    "lambda parameters: expression\n",
    "\n",
    "The anatomy of a lambda function includes three elements:\n",
    "The keyword lambda — an analog of def in normal functions\n",
    "The parameters — support passing positional and keyword\n",
    "arguments, just like normal functions\n",
    "The body — the expression for given parameters being evaluated\n",
    "with the lambda function\n",
    "\n",
    "\n",
    "Lambda functions are different from regular functions in the following ways:\n",
    "\n",
    "Anonymous: Lambda functions are anonymous, which means they don't have a name. \n",
    "Single Expression: Lambda functions can only contain a single expression. \n",
    "                   This expression is evaluated and returned as the result of the function, i.e. \n",
    "                   Lambda functions evaluates and return only one expression\n",
    "Definition: Lambda function are declared using lambda keyword unlike normal functions with def keyword\n",
    "'''"
   ]
  },
  {
   "cell_type": "code",
   "execution_count": 15,
   "metadata": {},
   "outputs": [
    {
     "name": "stdout",
     "output_type": "stream",
     "text": [
      "7\n",
      "7\n"
     ]
    }
   ],
   "source": [
    "# A normal function which increments a value passed by 3 and returns it\n",
    "def increment_by_one(x):\n",
    "    return x + 3\n",
    "print(increment_by_one(4))\n",
    "\n",
    "# Corresponding function as a lambda function\n",
    "print((lambda x: x + 3)(4))"
   ]
  },
  {
   "cell_type": "code",
   "execution_count": 17,
   "metadata": {},
   "outputs": [
    {
     "data": {
      "text/plain": [
       "[2, 4, 6, 8, 10]"
      ]
     },
     "execution_count": 17,
     "metadata": {},
     "output_type": "execute_result"
    }
   ],
   "source": [
    "'''\n",
    "Useful usage of lambda function :-\n",
    "For example, say I have a list such as [1, 2, 3, 4, 5, 6, 7, 8, 9, 10]. \n",
    "Now let's say that I'm only interested in those values in that list that have a remainder of 0 when divided by 2. \n",
    "I can make use of filter() and a lambda function.\n",
    "'''\n",
    "# Use the lambda function to create the expression I want to derive like this\n",
    "lambda x: x % 2 == 0\n",
    "\n",
    "#T hen insert it into the filter function and use list to list out my result\n",
    "list1 = [1, 2, 3, 4, 5, 6, 7, 8, 9, 10]\n",
    "list(filter(lambda x: x % 2 == 0, list1))"
   ]
  },
  {
   "cell_type": "markdown",
   "metadata": {},
   "source": [
    "QUESTION 5"
   ]
  },
  {
   "cell_type": "code",
   "execution_count": null,
   "metadata": {},
   "outputs": [],
   "source": [
    "'''\n",
    "5. How does the concept of \"scope\" apply to functions in Python? Explain the difference between local\n",
    "scope and global scope.\n",
    "'''"
   ]
  },
  {
   "cell_type": "markdown",
   "metadata": {},
   "source": [
    "ANSWER"
   ]
  },
  {
   "cell_type": "code",
   "execution_count": null,
   "metadata": {},
   "outputs": [],
   "source": [
    "'''\n",
    "In Python, the term \"scope\" refers to the region in your code where a particular variable is accessible or visible.\n",
    "\n",
    "The Local Scope\n",
    "The local scope or function scope is a Python scope created at function calls. \n",
    "Every time you call a function, you're also creating a new local scope. \n",
    "On the other hand, you can think of each def statement and lambda expression as a \n",
    "blueprint for new local scopes. \n",
    "These local scopes will come into existence whenever you call the function at hand.\n",
    "By default, parameters and names that you assign inside a function exist only within \n",
    "the function or local scope associated with the function call. When the function returns, \n",
    "the local scope is destroyed and the names are forgotten.\n",
    "\n",
    "def my_function():\n",
    "    x = 10  # x is in the local scope of my_function\n",
    "    print(x)\n",
    "\n",
    "my_function()\n",
    "# print(x)  # This would result in an error because x is not defined in this scope\n",
    "\n",
    "\n",
    "he Global Scope\n",
    "From the moment you start a Python program, you're in the global Python scope. \n",
    "Internally, Python turns your program's main script into a module called __main__ to hold \n",
    "the main program's execution. The namespace of this module is the main global scope of your program.\n",
    "There's only one global Python scope per program execution. \n",
    "This scope remains in existence until the program terminates and all its names are forgotten. \n",
    "Otherwise, the next time you were to run the program, the names would remember their values from \n",
    "the previous run.\n",
    "You can access or reference the value of any global name from any place in your code. \n",
    "This includes functions and classes. \n",
    "\n",
    "y = 5  # y is in the global scope\n",
    "\n",
    "def another_function():\n",
    "    print(y)  # y can be accessed inside the function\n",
    "\n",
    "another_function()\n",
    "print(y)  # y can be accessed outside the function as well\n",
    "'''"
   ]
  },
  {
   "cell_type": "markdown",
   "metadata": {},
   "source": [
    "QUESTION 6"
   ]
  },
  {
   "cell_type": "code",
   "execution_count": null,
   "metadata": {},
   "outputs": [],
   "source": [
    "'''\n",
    "6. How can you use the \"return\" statement in a Python function to return multiple values?\n",
    "'''"
   ]
  },
  {
   "cell_type": "markdown",
   "metadata": {},
   "source": [
    "ANSWER"
   ]
  },
  {
   "cell_type": "code",
   "execution_count": 1,
   "metadata": {},
   "outputs": [
    {
     "name": "stdout",
     "output_type": "stream",
     "text": [
      "(1, 2, 3)\n",
      "[1, 2, 3]\n",
      "1 2 3\n",
      "1 2 3\n"
     ]
    }
   ],
   "source": [
    "\n",
    "'''\n",
    "You can use the return statement to send back one or more values from a function using various approaches.\n",
    "'''\n",
    "# Return Tuple\n",
    "def funv():\n",
    "    a = 1\n",
    "    b = 2\n",
    "    c = 3\n",
    "    return a, b, c  # Returning a tuple\n",
    "\n",
    "result = funv()\n",
    "print(result)  # Output: (1, 2, 3)\n",
    "\n",
    "# Return List\n",
    "def funv():\n",
    "    a = 1\n",
    "    b = 2\n",
    "    c = 3\n",
    "    return [a, b, c]  # Returning a list\n",
    "\n",
    "result = funv()\n",
    "print(result)  # Output: [1, 2, 3]\n",
    "\n",
    "\n",
    "# Return Dictionary:\n",
    "def funv():\n",
    "    a = 1\n",
    "    b = 2\n",
    "    c = 3\n",
    "    return {'a': a, 'b': b, 'c': c}\n",
    "\n",
    "result = funv()\n",
    "print(result['a'], result['b'], result['c'])  # Output: 1 2 3\n",
    "\n",
    "# Return Tuple -> Unpacking Multiple Values\n",
    "def funv():\n",
    "    a = 1\n",
    "    b = 2\n",
    "    c = 3\n",
    "    return a, b, c  # Returning a tuple\n",
    "\n",
    "a,b,c = funv()\n",
    "print(a,b,c)  # Output: (1, 2, 3)"
   ]
  },
  {
   "cell_type": "markdown",
   "metadata": {},
   "source": [
    "QUESTION 7"
   ]
  },
  {
   "cell_type": "code",
   "execution_count": null,
   "metadata": {},
   "outputs": [],
   "source": [
    "'''\n",
    "7. What is the difference between the \"pass by value\" and \"pass by reference\" concepts when it\n",
    "comes to function arguments in Python?\n",
    "'''"
   ]
  },
  {
   "cell_type": "markdown",
   "metadata": {},
   "source": [
    "ANSWER"
   ]
  },
  {
   "cell_type": "code",
   "execution_count": 4,
   "metadata": {},
   "outputs": [
    {
     "name": "stdout",
     "output_type": "stream",
     "text": [
      "Inside function: [1, 2, 3, 10]\n",
      "Outside function: [1, 2, 3, 10]\n",
      "Inside function: 15\n",
      "Outside function: 5\n"
     ]
    },
    {
     "data": {
      "text/plain": [
       "'\\nOutput:\\nInside function: 15\\nOutside function: 5\\n'"
      ]
     },
     "execution_count": 4,
     "metadata": {},
     "output_type": "execute_result"
    }
   ],
   "source": [
    "'''\n",
    "Pass by Value:\n",
    "In a \"pass by value\" system, a copy of the actual value is passed to the function.\n",
    "Modifying the parameter within the function does not affect the original value.\n",
    "Languages like C and Java are typically considered \"pass by value\".\n",
    "\n",
    "For Python :-\n",
    "Python uses a mechanism that is neither strictly \"pass by value\" nor \"pass by reference.\" \n",
    "Instead, it is more accurately described as \"pass by object reference.\" i.e. The reference to the object \n",
    "is passed to the function, not a copy of the object itself.\n",
    "Whether changes made to an object within a function affect the original object depends on whether \n",
    "the object is mutable or immutable. \n",
    "If the object is mutable (e.g., a list or dictionary), modifications made within the function \n",
    "will affect the original object.\n",
    "If the object is immutable (e.g., an integer or string), modifications made within the function \n",
    "will not affect the original object, as a new object is created.\n",
    "'''\n",
    "# Mutable Example\n",
    "def modify_list(lst):\n",
    "    lst.append(10)\n",
    "    print(\"Inside function:\", lst)\n",
    "\n",
    "my_list = [1, 2, 3]\n",
    "modify_list(my_list)\n",
    "print(\"Outside function:\", my_list)\n",
    "\n",
    "'''\n",
    "Output:\n",
    "Inside function: [1, 2, 3, 10]\n",
    "Outside function: [1, 2, 3, 10]\n",
    "'''\n",
    "\n",
    "# Immutable Example\n",
    "def modify_value(x):\n",
    "    x = x + 10\n",
    "    print(\"Inside function:\", x)\n",
    "\n",
    "a = 5\n",
    "modify_value(a)\n",
    "print(\"Outside function:\", a)\n",
    "\n",
    "'''\n",
    "Output:\n",
    "Inside function: 15\n",
    "Outside function: 5\n",
    "'''"
   ]
  },
  {
   "cell_type": "markdown",
   "metadata": {},
   "source": [
    "QUESTION 8"
   ]
  },
  {
   "cell_type": "code",
   "execution_count": null,
   "metadata": {},
   "outputs": [],
   "source": [
    "'''\n",
    "8. Create a function that can intake integer or decimal value and do following operations:\n",
    "a. Logarithmic function (log x)\n",
    "b. Exponential function (exp(x))\n",
    "c. Power function with base 2 (2^x)\n",
    "d. Square root\n",
    "'''"
   ]
  },
  {
   "cell_type": "markdown",
   "metadata": {},
   "source": [
    "ANSWER"
   ]
  },
  {
   "cell_type": "code",
   "execution_count": 6,
   "metadata": {},
   "outputs": [
    {
     "name": "stdout",
     "output_type": "stream",
     "text": [
      "The Number input is : 6.0\n",
      "Logarithmic function (log x): 1.791759469228055\n",
      "Exponential function (exp(x)): 403.4287934927351\n",
      "Power function with base 2 (2^x): 64.0\n",
      "Square root: 2.449489742783178\n"
     ]
    }
   ],
   "source": [
    "import math\n",
    "\n",
    "def perform_ops(x):\n",
    "    try:\n",
    "        # Logarithmic function (log x)\n",
    "        log_result = math.log(x)\n",
    "        print(f\"Logarithmic function (log x): {log_result}\")\n",
    "\n",
    "        # Exponential function (exp(x))\n",
    "        exp_result = math.exp(x)\n",
    "        print(f\"Exponential function (exp(x)): {exp_result}\")\n",
    "\n",
    "        # Power function with base 2 (2^x)\n",
    "        power_result = math.pow(2, x)\n",
    "        print(f\"Power function with base 2 (2^x): {power_result}\")\n",
    "\n",
    "        # Square root\n",
    "        sqrt_result = math.sqrt(x)\n",
    "        print(f\"Square root: {sqrt_result}\")\n",
    "\n",
    "    except ValueError as ve:\n",
    "        print(f\"Error: {ve}\")\n",
    "\n",
    "# Example usage:\n",
    "input_value = float(input(\"Enter an integer or decimal value: \"))\n",
    "print(\"The Number input is :\", input_value)\n",
    "perform_ops(input_value)\n"
   ]
  },
  {
   "cell_type": "markdown",
   "metadata": {},
   "source": [
    "QUESTION 9"
   ]
  },
  {
   "cell_type": "code",
   "execution_count": null,
   "metadata": {},
   "outputs": [],
   "source": [
    "'''\n",
    "9. Create a function that takes a full name as an argument and returns first name and last name.\n",
    "'''"
   ]
  },
  {
   "cell_type": "markdown",
   "metadata": {},
   "source": [
    "ANSWER"
   ]
  },
  {
   "cell_type": "code",
   "execution_count": 11,
   "metadata": {},
   "outputs": [
    {
     "name": "stdout",
     "output_type": "stream",
     "text": [
      "The entered full name is Rajib Nath Chowdhury\n",
      "First Name: Rajib\n",
      "Last Name: Chowdhury\n"
     ]
    }
   ],
   "source": [
    "def extract_first_last_name(full_name):\n",
    "    # Split the full name into words\n",
    "    name_parts = full_name.split()\n",
    "\n",
    "    # If there is only one word, consider it as the first name\n",
    "    # If there are more than one word, the last word is the last name\n",
    "    if len(name_parts) == 1:\n",
    "        first_name = name_parts[0]\n",
    "        last_name = \"\"\n",
    "    else:\n",
    "        first_name = \" \".join(name_parts[:1])\n",
    "        last_name = name_parts[-1]\n",
    "\n",
    "    return first_name, last_name\n",
    "\n",
    "full_name = input(\"Enter the full name: \")\n",
    "print(\"The entered full name is\", full_name)\n",
    "first_name, last_name = extract_first_last_name(full_name)\n",
    "print(\"First Name:\", first_name)\n",
    "print(\"Last Name:\", last_name)\n"
   ]
  },
  {
   "cell_type": "code",
   "execution_count": null,
   "metadata": {},
   "outputs": [],
   "source": []
  }
 ],
 "metadata": {
  "kernelspec": {
   "display_name": "Python 3",
   "language": "python",
   "name": "python3"
  },
  "language_info": {
   "codemirror_mode": {
    "name": "ipython",
    "version": 3
   },
   "file_extension": ".py",
   "mimetype": "text/x-python",
   "name": "python",
   "nbconvert_exporter": "python",
   "pygments_lexer": "ipython3",
   "version": "3.8.17"
  },
  "orig_nbformat": 4
 },
 "nbformat": 4,
 "nbformat_minor": 2
}
