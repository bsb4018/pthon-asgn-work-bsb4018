{
 "cells": [
  {
   "cell_type": "markdown",
   "metadata": {},
   "source": [
    "QUESTION 1"
   ]
  },
  {
   "cell_type": "code",
   "execution_count": null,
   "metadata": {},
   "outputs": [],
   "source": [
    "'''\n",
    "Q.1. Create two int type variables, apply addition, subtraction, division and multiplications\n",
    "and store the results in variables. Then print the data in the following format by calling the\n",
    "variables:\n",
    "\n",
    "First variable is __ & second variable is __.\n",
    "Addition: __ + __ = __\n",
    "Subtraction: __ - __ = __\n",
    "Multiplication: __ * __ = __\n",
    "Division: __ / __ = __\n",
    "'''"
   ]
  },
  {
   "cell_type": "code",
   "execution_count": 9,
   "metadata": {},
   "outputs": [
    {
     "name": "stdout",
     "output_type": "stream",
     "text": [
      "First variable is 24 & second variable is 14\n",
      "Addition 24 + 14 = 38\n",
      "Subtraction 24 - 14 = 10\n",
      "Multiplication 24 * 14 = 336\n",
      "Division 24 / 14 = 1.7142857142857142\n"
     ]
    }
   ],
   "source": [
    "v1 = 24\n",
    "v2 = 14\n",
    "\n",
    "resadd = v1 + v2\n",
    "ressub = v1 - v2\n",
    "resmul = v1 * v2\n",
    "resdiv = v1 / v2\n",
    "\n",
    "print(f'First variable is {v1} & second variable is {v2}')\n",
    "print(f'Addition {v1} + {v2} = {resadd}')\n",
    "print(f'Subtraction {v1} - {v2} = {ressub}')\n",
    "print(f'Multiplication {v1} * {v2} = {resmul}')\n",
    "print(f'Division {v1} / {v2} = {resdiv}')"
   ]
  },
  {
   "cell_type": "markdown",
   "metadata": {},
   "source": [
    "QUESTION 2"
   ]
  },
  {
   "cell_type": "code",
   "execution_count": null,
   "metadata": {},
   "outputs": [],
   "source": [
    "'''\n",
    "Q.2. What is the difference between the following operators:\n",
    "(i) '/' & '//'\n",
    "(ii) '**' & '^'\n",
    "'''"
   ]
  },
  {
   "cell_type": "code",
   "execution_count": 21,
   "metadata": {},
   "outputs": [
    {
     "name": "stdout",
     "output_type": "stream",
     "text": [
      "Using /\n",
      "8 / 3 is 2.6666666666666665\n",
      "8 / 2 is 4.0\n",
      "8 / 2.0 is 4.0\n",
      "--------------------------\n",
      "Using // \n",
      "8 // 3 is 2\n",
      "8 // 2 is 4\n",
      "8 // 2.0 is 4.0\n"
     ]
    }
   ],
   "source": [
    "'''\n",
    "\"/\" is the floating point division operator which results in a floating point result even if the operands are\n",
    "integers but isn't exactly divisible\n",
    "'''\n",
    "print(\"Using /\")\n",
    "a = 8\n",
    "b = 3\n",
    "c = 2\n",
    "d = 2.0\n",
    "print(f\"{a} / {b} is {a / b}\")\n",
    "print(f\"{a} / {c} is {a / c}\")\n",
    "print(f\"{a} / {d} is {a / d}\")\n",
    "\n",
    "print(\"--------------------------\")\n",
    "\n",
    "'''\n",
    "\"//\" is the floor division or integer division operator which returns the largest integer that is less than \n",
    "or equal to the exact result of the division i.e. The output of this operator will be the quotient rounded \n",
    "off to the closest whole number.\n",
    "The data type of the output is an integer for integer input whereas floating for float input.\n",
    "'''\n",
    "print(\"Using // \")\n",
    "a = 8\n",
    "b = 3\n",
    "c = 2\n",
    "d = 2.0\n",
    "print(f\"{a} // {b} is {a // b}\")\n",
    "print(f\"{a} // {c} is {a // c}\")\n",
    "print(f\"{a} // {d} is {a // d}\")"
   ]
  },
  {
   "cell_type": "code",
   "execution_count": 38,
   "metadata": {},
   "outputs": [
    {
     "name": "stdout",
     "output_type": "stream",
     "text": [
      "Using * \n",
      "8 * 3 is 24\n",
      "hello repeated 3 times is hellohellohello\n",
      "--------------------------\n",
      "Using ^ \n",
      "Binary representation of 6 is 00000110\n",
      "Binary representation of 4 is 00000100\n",
      "6 ^ 4 is 2\n",
      "Binary representation of 6 ^ 4 is is 00000010\n"
     ]
    }
   ],
   "source": [
    "'''\n",
    "\"*\" The '*' operator is used to multiply two numbers\n",
    "It is also used to repeat a string a specified number of times.\n",
    "'''\n",
    "print(\"Using * \")\n",
    "a = 8\n",
    "b = 3\n",
    "c = \"hello\"\n",
    "print(f\"{a} * {b} is {a * b}\")\n",
    "print(f\"{c} repeated {b} times is {c * b}\")\n",
    "\n",
    "print(\"--------------------------\")\n",
    "\n",
    "'''\n",
    "\"^\" operator is used for bitwise XOR (exclusive OR) between the binary representations of two integers. \n",
    "It compares corresponding bits and returns 1 where the bits are different and 0 where they are the same.\n",
    "'''\n",
    "print(\"Using ^ \")\n",
    "width = 8 #show results in 8 bits\n",
    "\n",
    "a = 6\n",
    "b = 4\n",
    "print(f\"Binary representation of {a} is {format(a, f'0{width}b')}\")\n",
    "print(f\"Binary representation of {b} is {format(b, f'0{width}b')}\")\n",
    "print(f\"{a} ^ {b} is {a ^ b}\")\n",
    "print(f\"Binary representation of {a} ^ {b} is is {format(a^b, f'0{width}b')}\")"
   ]
  },
  {
   "cell_type": "markdown",
   "metadata": {},
   "source": [
    "QUESTION 3"
   ]
  },
  {
   "cell_type": "code",
   "execution_count": null,
   "metadata": {},
   "outputs": [],
   "source": [
    "'''\n",
    "Q.3. List the logical operators.\n",
    "'''"
   ]
  },
  {
   "cell_type": "code",
   "execution_count": 49,
   "metadata": {},
   "outputs": [
    {
     "name": "stdout",
     "output_type": "stream",
     "text": [
      "AND operator usage : costprice > 60 and costprice < 70 is True\n",
      "AND operator usage : costprice > 60 and costprice < 70 is False\n",
      "--------------------------------------------------------------------\n",
      "OR operator usage : costprice > 60 or costprice < 70 is True\n",
      "OR operator usage : costprice > 60 or costprice < 70 is True\n",
      "OR operator usage : costprice > 60 or costprice < 70 is True\n",
      "OR operator usage : costprice > 60 or costprice < 70 is False\n",
      "--------------------------------------------------------------------\n",
      "NOT operator usage : not costprice > 60 is False\n",
      "NOT operator usage : not costprice < 60 is True\n"
     ]
    }
   ],
   "source": [
    "'''\n",
    "Logical operators in Python are used for conditional statements are true or false. \n",
    "Logical operators in Python are AND, OR and NOT. For logical operators following condition are applied.\n",
    "\n",
    "For AND operator : It returns TRUE if both the operands (right side and left side) are true\n",
    "For OR operator : It returns TRUE if either of the operand (right side or left side) is true\n",
    "For NOT operator : returns TRUE if operand is false\n",
    "'''\n",
    "costprice = 65.654\n",
    "print(f'AND operator usage : costprice > 60 and costprice < 70 is {costprice > 60 and costprice < 70}')\n",
    "print(f'AND operator usage : costprice > 60 and costprice < 70 is {costprice > 60 and costprice < 64}')\n",
    "\n",
    "print(\"--------------------------------------------------------------------\")\n",
    "\n",
    "print(f'OR operator usage : costprice > 60 or costprice < 70 is {costprice > 60 or costprice < 70}')\n",
    "print(f'OR operator usage : costprice > 60 or costprice < 70 is {costprice > 60 or costprice < 64}')\n",
    "print(f'OR operator usage : costprice > 60 or costprice < 70 is {costprice > 68 or costprice < 70}')\n",
    "print(f'OR operator usage : costprice > 60 or costprice < 70 is {costprice > 70 or costprice < 64}')\n",
    "\n",
    "print(\"--------------------------------------------------------------------\")\n",
    "\n",
    "print(f'NOT operator usage : not costprice > 60 is {not costprice > 60}')\n",
    "print(f'NOT operator usage : not costprice < 60 is {not costprice < 60}')\n"
   ]
  },
  {
   "cell_type": "markdown",
   "metadata": {},
   "source": [
    "QUESTION 4"
   ]
  },
  {
   "cell_type": "code",
   "execution_count": null,
   "metadata": {},
   "outputs": [],
   "source": [
    "'''\n",
    "Q.4. Explain right shift operator and left shift operator with examples.\n",
    "'''"
   ]
  },
  {
   "cell_type": "code",
   "execution_count": 57,
   "metadata": {},
   "outputs": [
    {
     "name": "stdout",
     "output_type": "stream",
     "text": [
      "Binary representation of 12 is 00001100\n",
      "Right shift 12 by 2 bits is 3\n",
      "Binary representation of 12 right shifted by 2 bits is 00000011\n"
     ]
    }
   ],
   "source": [
    "'''\n",
    "Bitwise right shift >>\n",
    "The left operand's value is moved toward right by the number of bits specified by the right operand.\n",
    "'''\n",
    "width = 8 #show results in 8 bits\n",
    "\n",
    "a = 12\n",
    "b = 2\n",
    "print(f\"Binary representation of {a} is {format(a, f'0{width}b')}\")\n",
    "print(f\"Right shift {a} by {b} bits is {a >> b}\")\n",
    "print(f\"Binary representation of {a} right shifted by {b} bits is {format(a>>b, f'0{width}b')}\")"
   ]
  },
  {
   "cell_type": "code",
   "execution_count": 58,
   "metadata": {},
   "outputs": [
    {
     "name": "stdout",
     "output_type": "stream",
     "text": [
      "Binary representation of 3 is 00000011\n",
      "Left shift 3 by 2 bits is 12\n",
      "Binary representation of 3 left shifted by 2 bits is 00001100\n"
     ]
    }
   ],
   "source": [
    "'''\n",
    "Bitwise left shift >>\n",
    "The left operand's value is moved toward left by the number of bits specified by the right operand.\n",
    "'''\n",
    "width = 8 #show results in 8 bits\n",
    "\n",
    "a = 3\n",
    "b = 2\n",
    "print(f\"Binary representation of {a} is {format(a, f'0{width}b')}\")\n",
    "print(f\"Left shift {a} by {b} bits is {a << b}\")\n",
    "print(f\"Binary representation of {a} left shifted by {b} bits is {format(a<<b, f'0{width}b')}\")"
   ]
  },
  {
   "cell_type": "markdown",
   "metadata": {},
   "source": [
    "QUESTION 5"
   ]
  },
  {
   "cell_type": "code",
   "execution_count": null,
   "metadata": {},
   "outputs": [],
   "source": [
    "'''\n",
    "Q.5. Create a list containing int type data of length 15. Then write a code to check if 10 is\n",
    "present in the list or not.\n",
    "'''"
   ]
  },
  {
   "cell_type": "code",
   "execution_count": 64,
   "metadata": {},
   "outputs": [
    {
     "name": "stdout",
     "output_type": "stream",
     "text": [
      "The list is : [7, 265, 15, 86, 10, 521, 434, 2, 1, 63, 951, 77, 45, 23, 731]\n",
      "The length of the list is : 15\n",
      "Yes 10 is present in the list\n"
     ]
    }
   ],
   "source": [
    "# Code to create an integer list of length 15\n",
    "make_list = [7,265,15,86,10,521,434,2,1,63,951,77,45,23,731]\n",
    "print(f\"The list is : {make_list}\")\n",
    "print(f\"The length of the list is : {len(make_list)}\")\n",
    "\n",
    "# Code to check if 10 is present in the list\n",
    "if 10 in make_list:\n",
    "    print(\"Yes 10 is present in the list\")\n",
    "else:\n",
    "    print(\"No 10 is not present in the list\")"
   ]
  },
  {
   "cell_type": "code",
   "execution_count": null,
   "metadata": {},
   "outputs": [],
   "source": []
  },
  {
   "cell_type": "code",
   "execution_count": null,
   "metadata": {},
   "outputs": [],
   "source": []
  }
 ],
 "metadata": {
  "kernelspec": {
   "display_name": "Python 3",
   "language": "python",
   "name": "python3"
  },
  "language_info": {
   "codemirror_mode": {
    "name": "ipython",
    "version": 3
   },
   "file_extension": ".py",
   "mimetype": "text/x-python",
   "name": "python",
   "nbconvert_exporter": "python",
   "pygments_lexer": "ipython3",
   "version": "3.8.17"
  },
  "orig_nbformat": 4
 },
 "nbformat": 4,
 "nbformat_minor": 2
}
