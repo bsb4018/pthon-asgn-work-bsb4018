{
 "cells": [
  {
   "attachments": {},
   "cell_type": "markdown",
   "metadata": {},
   "source": [
    "QUESTION 1"
   ]
  },
  {
   "cell_type": "code",
   "execution_count": null,
   "metadata": {},
   "outputs": [],
   "source": [
    "'''\n",
    "1. In the below elements which of them are values or an expression? \n",
    "eg:- values can be integer or string and expressions will be mathematical operators\n",
    "\n",
    "*\n",
    "hello\n",
    "-87.8\n",
    "-\n",
    "/\n",
    "+\n",
    "6\n",
    "'''\n",
    "\n",
    "pass"
   ]
  },
  {
   "cell_type": "code",
   "execution_count": 1,
   "metadata": {},
   "outputs": [
    {
     "name": "stdout",
     "output_type": "stream",
     "text": [
      "32\n"
     ]
    }
   ],
   "source": [
    "'''\n",
    "What is a value?\n",
    "A value is one of the basic things a program works with, like a letter or a number or a string.\n",
    "\n",
    "What is an expression?\n",
    "An expression is a combination of operators and operands that is interpreted to produce some other value. \n",
    "\n",
    "Since '*' is neither a letter or number it is not a value neither it can be interpreted as expression since it itself doesn't\n",
    "produce any value.\n",
    "\n",
    "'*' is an operator more precisely the asterisk (*) operator. One of its use is to perform multiplication\n",
    "for example : When multiplying two numbers, we use the asterisk (*) operator as the infix operator.\n",
    "\n",
    "multiply = 4 * 8\n",
    "print(multiply)\n",
    "\n",
    "'''\n",
    "multiply = 8 * 4\n",
    "print(multiply)"
   ]
  },
  {
   "cell_type": "code",
   "execution_count": null,
   "metadata": {},
   "outputs": [],
   "source": [
    "'''\n",
    "hello is a string hence it is a value\n",
    "-87.8 is a number hence it is a value\n",
    " - is the subtraction operator\n",
    " / is the division operator\n",
    " + is the addition operator\n",
    " 6 is a number hence it is a value\n",
    "'''\n",
    "pass"
   ]
  },
  {
   "cell_type": "code",
   "execution_count": 4,
   "metadata": {},
   "outputs": [
    {
     "name": "stdout",
     "output_type": "stream",
     "text": [
      "12\n",
      "2.0\n",
      "4\n"
     ]
    }
   ],
   "source": [
    "seeadd = 8 + 4\n",
    "seediv = 8 / 4\n",
    "seesub = 8 - 4\n",
    "print(seeadd)\n",
    "print(seediv)\n",
    "print(seesub)"
   ]
  },
  {
   "cell_type": "code",
   "execution_count": null,
   "metadata": {},
   "outputs": [],
   "source": []
  },
  {
   "attachments": {},
   "cell_type": "markdown",
   "metadata": {},
   "source": [
    "QUESTION 2"
   ]
  },
  {
   "cell_type": "code",
   "execution_count": null,
   "metadata": {},
   "outputs": [],
   "source": [
    "#2. What is the difference between string and variable?"
   ]
  },
  {
   "cell_type": "code",
   "execution_count": 6,
   "metadata": {},
   "outputs": [],
   "source": [
    "'''\n",
    "A string is a sequence of one or more characters (letters, numbers, symbols) that can be either a constant or a variable. \n",
    "Made up of Unicode, strings are immutable sequences, meaning they are unchanging.\n",
    "We can use single quotes or double quotes to represent strings\n",
    "for example\n",
    "print('this is a string in single quotes')\n",
    "print(\"this is a string in double quotes\")\n",
    "\n",
    "Variables are symbols that you can use to store data in a program. You can think of them as an empty box that you fill \n",
    "with some data or value. Strings are data, so we can use them to fill up a variable.\n",
    "\n",
    "To store a string inside a variable, we need to assign a variable to a string. \n",
    "For example we declare a variable str1 and store the string \"this is a string\" inside it\n",
    "str1 = \"this is a string stored in a variable str1\"\n",
    "print(str1)\n",
    "We can use variables to store any thing like numbers too\n",
    "num1 = 6\n",
    "print(\"Stored number inside variable num1 is\", num1)\n",
    "'''\n",
    "pass"
   ]
  },
  {
   "cell_type": "code",
   "execution_count": 8,
   "metadata": {},
   "outputs": [
    {
     "name": "stdout",
     "output_type": "stream",
     "text": [
      "this is a string in single quotes\n",
      "this is a string in double quotes\n",
      "this is a string stored in a variable str1\n",
      "Stored number inside variable num1 is 6\n"
     ]
    }
   ],
   "source": [
    "print('this is a string in single quotes')\n",
    "print(\"this is a string in double quotes\")\n",
    "str1 = \"this is a string stored in a variable str1\"\n",
    "print(str1)\n",
    "num1 = 6\n",
    "print(\"Stored number inside variable num1 is\", num1)"
   ]
  },
  {
   "cell_type": "code",
   "execution_count": null,
   "metadata": {},
   "outputs": [],
   "source": []
  },
  {
   "attachments": {},
   "cell_type": "markdown",
   "metadata": {},
   "source": [
    "QUESTION 3"
   ]
  },
  {
   "cell_type": "code",
   "execution_count": null,
   "metadata": {},
   "outputs": [],
   "source": [
    "# 3. Describe three different data types.\n"
   ]
  },
  {
   "cell_type": "code",
   "execution_count": 9,
   "metadata": {},
   "outputs": [
    {
     "name": "stdout",
     "output_type": "stream",
     "text": [
      "7 is of type <class 'int'>\n",
      "5.7 is of type <class 'float'>\n",
      "(6+3j) is of type <class 'complex'>\n"
     ]
    }
   ],
   "source": [
    "'''\n",
    "1 -> Python Numeric Data Type\n",
    "It holds numeric data types like Integers, floating-point numbers and complex numbers\n",
    "'''\n",
    "\n",
    "num1 = 7\n",
    "print(num1, 'is of type', type(num1))\n",
    "num2 = 5.7\n",
    "print(num2, 'is of type', type(num2))\n",
    "num3 = 6+3j\n",
    "print(num3, 'is of type', type(num3))\n"
   ]
  },
  {
   "cell_type": "code",
   "execution_count": 13,
   "metadata": {},
   "outputs": [
    {
     "name": "stdout",
     "output_type": "stream",
     "text": [
      "The List is  ['a', 'b', 'c']\n",
      "<class 'list'>\n",
      "this is a string stored in a variable str1\n",
      "<class 'str'>\n",
      "('play', 'games', 4)\n",
      "<class 'tuple'>\n"
     ]
    }
   ],
   "source": [
    "'''\n",
    "2 -> Python Sequence Data Type which is the ordered collection of similar or different data types. \n",
    "Sequences allow storing of multiple values in an organized and efficient fashion. \n",
    "\n",
    "Python List Data Type\n",
    "List is an ordered collection of similar or different types of items separated by commas and enclosed within brackets [ ]\n",
    "'''\n",
    "# Creating a List with\n",
    "# the use of a String\n",
    "eglist = ['a', 'b', 'c']\n",
    "print(\"The List is \", eglist)\n",
    "print(type(eglist))\n",
    "\n",
    "'''\n",
    "Python String Data Type\n",
    "String is a sequence of characters represented by either single or double quotes.\n",
    "'''\n",
    "str1 = \"this is a string stored in a variable str1\"\n",
    "print(str1)\n",
    "print(type(str1))\n",
    "\n",
    "'''\n",
    "Python Tuple Data Type\n",
    "Tuple is an ordered sequence of items same as a list. \n",
    "The only difference is that tuples are immutable. Tuples once created cannot be modified.\n",
    "'''\n",
    "# create a tuple \n",
    "product = ('play', 'games', 4)\n",
    "# access element at index 0\n",
    "print(product)\n",
    "print(type(product))"
   ]
  },
  {
   "cell_type": "code",
   "execution_count": 14,
   "metadata": {},
   "outputs": [
    {
     "name": "stdout",
     "output_type": "stream",
     "text": [
      "{'India': 'New Delhi', 'Norway': 'Oslo', 'Germany': 'Berlin'}\n",
      "Berlin\n",
      "<class 'dict'>\n"
     ]
    }
   ],
   "source": [
    "'''\n",
    "3 -> Python Dictionary Data Type in Python\n",
    "A dictionary in Python is an unordered collection of data values, used to store data values like a map, \n",
    "unlike other Data Types that hold only a single value as an element, a Dictionary holds a key: value pair. \n",
    "Each key-value pair in a Dictionary is separated by a colon : , whereas each key is separated by a ‘comma’.\n",
    "'''\n",
    "capitals = {'India': 'New Delhi', 'Norway': 'Oslo', 'Germany': 'Berlin'}\n",
    "print(capitals)\n",
    "print(capitals['Germany']) \n",
    "print(type(capitals))"
   ]
  },
  {
   "cell_type": "code",
   "execution_count": null,
   "metadata": {},
   "outputs": [],
   "source": []
  },
  {
   "attachments": {},
   "cell_type": "markdown",
   "metadata": {},
   "source": [
    "QUESTION 4"
   ]
  },
  {
   "cell_type": "code",
   "execution_count": null,
   "metadata": {},
   "outputs": [],
   "source": [
    "#4. What is an expression made up of? What do all expressions do?"
   ]
  },
  {
   "cell_type": "code",
   "execution_count": 16,
   "metadata": {},
   "outputs": [
    {
     "name": "stdout",
     "output_type": "stream",
     "text": [
      "The value of x is:  36\n",
      "The result of the expression is:  True\n"
     ]
    }
   ],
   "source": [
    "'''\n",
    "A combination of variables, operands and operators is called an expression more precisely\n",
    "an expression is a construct made up of variables, operators, and method invocations, \n",
    "which are constructed according to the syntax of the language, that evaluates to some value.\n",
    "\n",
    "Expressions need to be evaluated.The expression in Python produces some value or result after \n",
    "being interpreted by the Python interpreter\n",
    "'''\n",
    "x = 17 + 19\n",
    "# Here both 10 and 15 are constants but x is a variable.\n",
    "print(\"The value of x is: \", x)\n",
    "\n",
    "\n",
    "\n",
    "a = 12\n",
    "b = 3\n",
    "c = 20\n",
    "d = 5\n",
    "# The expression checks if the sum of (a and b) is the same as the difference of (c and d).\n",
    "result = (a + b) == (c - d)\n",
    "print(\"The result of the expression is: \", result)\n"
   ]
  },
  {
   "cell_type": "code",
   "execution_count": null,
   "metadata": {},
   "outputs": [],
   "source": []
  },
  {
   "attachments": {},
   "cell_type": "markdown",
   "metadata": {},
   "source": [
    "\n",
    "QUESTION 5"
   ]
  },
  {
   "cell_type": "code",
   "execution_count": null,
   "metadata": {},
   "outputs": [],
   "source": [
    "#5. This assignment statements, like spam = 10. What is the difference between an expression and a statement?"
   ]
  },
  {
   "cell_type": "code",
   "execution_count": 19,
   "metadata": {},
   "outputs": [
    {
     "name": "stdout",
     "output_type": "stream",
     "text": [
      "48\n"
     ]
    }
   ],
   "source": [
    "'''\n",
    "Expressions only contain identifiers, literals and operators, where operators include arithmetic and boolean operators, \n",
    "the function call operator () the subscription operator [] and similar, \n",
    "and can produces a value.\n",
    "We evaluate an expression\n",
    "Every expression can’t be a statement\n",
    "'''\n",
    "#This is an espression\n",
    "print(44+4)\n",
    "\n",
    "'''\n",
    "A Statement is the smallest executable unit of code that has an effect, like creating a variable or displaying a value.\n",
    "Each and every line of code that we write in any programming language is called a statement.\n",
    "Because, all the lines are executable by the interpreter or the compiler of that programming language.\n",
    "Statements are everything that can make up a line (or several lines) of Python code\n",
    "Execution of a statement may or may not produce or display a result value.\n",
    "We Execute a statement.\n",
    "Every statement can be an expression.\n",
    "'''\n",
    "\n",
    "#This is a statement\n",
    "class Bar: pass\n",
    "class Foo(Bar): pass"
   ]
  },
  {
   "cell_type": "code",
   "execution_count": null,
   "metadata": {},
   "outputs": [],
   "source": []
  },
  {
   "attachments": {},
   "cell_type": "markdown",
   "metadata": {},
   "source": [
    "QUESTION 6"
   ]
  },
  {
   "cell_type": "code",
   "execution_count": 22,
   "metadata": {},
   "outputs": [
    {
     "name": "stdout",
     "output_type": "stream",
     "text": [
      "22\n"
     ]
    }
   ],
   "source": [
    "'''\n",
    "6. After running the following code, what does the variable bacon contain?\n",
    "bacon = 22\n",
    "bacon + 1\n",
    "'''\n",
    "\n",
    "'''\n",
    "Since we do not change the variable of bacon with the statemet bacon + 1, because we do not store it back\n",
    "bacon will still contain the value 22\n",
    "Lets See\n",
    "'''\n",
    "\n",
    "bacon = 22\n",
    "bacon + 1\n",
    "print(bacon)"
   ]
  },
  {
   "cell_type": "code",
   "execution_count": null,
   "metadata": {},
   "outputs": [],
   "source": []
  },
  {
   "attachments": {},
   "cell_type": "markdown",
   "metadata": {},
   "source": [
    "QUESTION 7"
   ]
  },
  {
   "cell_type": "code",
   "execution_count": 24,
   "metadata": {},
   "outputs": [
    {
     "name": "stdout",
     "output_type": "stream",
     "text": [
      "spamspamspam\n",
      "spamspamspam\n"
     ]
    }
   ],
   "source": [
    "'''\n",
    "7. What should the values of the following two terms be?\n",
    "'spam' + 'spamspam'\n",
    "'spam' * 3\n",
    "\n",
    "First statement will conatenate spam with spamspam to \"spamspamspam\" because both are strings and \n",
    "we use + which concatenates the two strings.\n",
    "\n",
    "Second statemnt will concatenate spam three times sequentially as \"spamspamspam\" since * 3 tells Python to concatenate three times\n",
    "'''\n",
    "\n",
    "print('spam' + 'spamspam')\n",
    "print('spam' * 3)"
   ]
  },
  {
   "attachments": {},
   "cell_type": "markdown",
   "metadata": {},
   "source": [
    "QUESTION 8"
   ]
  },
  {
   "cell_type": "code",
   "execution_count": null,
   "metadata": {},
   "outputs": [],
   "source": [
    "#8. Why is eggs a valid variable name while 100 is invalid?"
   ]
  },
  {
   "cell_type": "code",
   "execution_count": null,
   "metadata": {},
   "outputs": [],
   "source": [
    "''' Variable number cannot begin with numbers'''"
   ]
  },
  {
   "cell_type": "code",
   "execution_count": null,
   "metadata": {},
   "outputs": [],
   "source": []
  },
  {
   "attachments": {},
   "cell_type": "markdown",
   "metadata": {},
   "source": [
    "QUESTION 9"
   ]
  },
  {
   "cell_type": "code",
   "execution_count": null,
   "metadata": {},
   "outputs": [],
   "source": [
    "# 9. What three functions can be used to get the integer, floating-point number, or string version of a value?"
   ]
  },
  {
   "cell_type": "code",
   "execution_count": 30,
   "metadata": {},
   "outputs": [
    {
     "name": "stdout",
     "output_type": "stream",
     "text": [
      "<class 'str'>\n",
      "3\n",
      "<class 'int'>\n",
      "3.0\n",
      "<class 'float'>\n",
      "3\n",
      "<class 'str'>\n"
     ]
    }
   ],
   "source": [
    "'''\n",
    "int(val) will evaluate to the integer of the val\n",
    "float(val) will evaluate to the floating-point number of the val\n",
    "str(val) will evaluate the string versions of the val\n",
    "'''\n",
    "a = '3'\n",
    "print(type(a))\n",
    "b = int(a)\n",
    "print(b)\n",
    "print(type(b))\n",
    "\n",
    "c = float(a)\n",
    "print(c)\n",
    "print(type(c))\n",
    "\n",
    "d = str(b)\n",
    "print(d)\n",
    "print(type(d))"
   ]
  },
  {
   "cell_type": "code",
   "execution_count": null,
   "metadata": {},
   "outputs": [],
   "source": []
  },
  {
   "attachments": {},
   "cell_type": "markdown",
   "metadata": {},
   "source": [
    "QUESTION 10"
   ]
  },
  {
   "cell_type": "code",
   "execution_count": 34,
   "metadata": {},
   "outputs": [
    {
     "name": "stdout",
     "output_type": "stream",
     "text": [
      "I have eaten99burritos.\n"
     ]
    }
   ],
   "source": [
    "''' \n",
    "10. Why does this expression cause an error? How can you fix it?\n",
    "'I have eaten' + 99 + 'burritos.'\n",
    "\n",
    "The 99 in the middle is an integer while it is within two strings so the compiler is confused if it should add or concatenate\n",
    "so it raises a Type Error\n",
    "To fix this expression we need to convert 99 to string since converting the other two strings to integer doesn't make sense\n",
    "and will again cause a Type Error.\n",
    "\n",
    "Solution  ->  'I have eaten' + str(99) + 'burritos.'\n",
    "'''\n",
    "\n",
    "print('I have eaten' + str(99) + 'burritos.')\n"
   ]
  },
  {
   "cell_type": "code",
   "execution_count": null,
   "metadata": {},
   "outputs": [],
   "source": []
  },
  {
   "cell_type": "code",
   "execution_count": null,
   "metadata": {},
   "outputs": [],
   "source": []
  },
  {
   "cell_type": "code",
   "execution_count": null,
   "metadata": {},
   "outputs": [],
   "source": []
  }
 ],
 "metadata": {
  "kernelspec": {
   "display_name": "gendev",
   "language": "python",
   "name": "python3"
  },
  "language_info": {
   "codemirror_mode": {
    "name": "ipython",
    "version": 3
   },
   "file_extension": ".py",
   "mimetype": "text/x-python",
   "name": "python",
   "nbconvert_exporter": "python",
   "pygments_lexer": "ipython3",
   "version": "3.8.13"
  },
  "orig_nbformat": 4
 },
 "nbformat": 4,
 "nbformat_minor": 2
}
