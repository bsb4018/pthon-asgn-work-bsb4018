{
 "cells": [
  {
   "attachments": {},
   "cell_type": "markdown",
   "metadata": {},
   "source": [
    "QUESTION 1"
   ]
  },
  {
   "cell_type": "code",
   "execution_count": 68,
   "metadata": {},
   "outputs": [],
   "source": [
    "'''\n",
    "1. What exactly is []?\n",
    "'''\n",
    "pass"
   ]
  },
  {
   "cell_type": "code",
   "execution_count": 69,
   "metadata": {},
   "outputs": [
    {
     "name": "stdout",
     "output_type": "stream",
     "text": [
      "d\n",
      "c\n",
      "['a', 'b', 'c', 'd', '']\n",
      "L\n",
      "n\n",
      "f\n",
      "helium\n",
      "beryllium\n"
     ]
    }
   ],
   "source": [
    "'''\n",
    "These [] are index brackets\n",
    "They can be used to do a bunch of operations in Python\n",
    "'''\n",
    "# Create a list literal\n",
    "elements = ['a', 'b', 'c', 'd', 'e']\n",
    "\n",
    "# Retrieve a single list item with a given index\n",
    "print(elements[3]) # Prints 'd'\n",
    "\n",
    "# Negative indexes can be used, and count from\n",
    "# the end of the list.\n",
    "print(elements[-3]) # Prints 'c'\n",
    "\n",
    "# Assign a new value to an existing list element:\n",
    "elements[4] = ''\n",
    "print(elements) # Prints ['a', 'b', 'c', 'd', '']\n",
    "\n",
    "# You can use index brackets with strings as well\n",
    "# to access individual characters by index:\n",
    "message = \"Let's have fun with Python\"\n",
    "print(message[0]) # Prints 'L'\n",
    "print(message[-1]) # Prints 'n'\n",
    "print(message[11]) # Prints 'f'\n",
    "\n",
    "\n",
    "# Index brackets are used to retrieve the value\n",
    "# for a given key from a dictionary\n",
    "element_names = {'H': 'hydrogen',\n",
    "                 'He': 'helium',\n",
    "                 'Li': 'lithium'}\n",
    "print(element_names['He']) # Prints 'helium'\n",
    "\n",
    "# Overwrite the value of an element, or add a new\n",
    "# key/value pair, by assigning to the key:\n",
    "element_names['Be'] = 'beryllium'\n",
    "print(element_names['Be']) # Prints 'beryllium'\n"
   ]
  },
  {
   "cell_type": "code",
   "execution_count": null,
   "metadata": {},
   "outputs": [],
   "source": []
  },
  {
   "attachments": {},
   "cell_type": "markdown",
   "metadata": {},
   "source": [
    "QUESTION 2"
   ]
  },
  {
   "cell_type": "code",
   "execution_count": 70,
   "metadata": {},
   "outputs": [],
   "source": [
    "'''\n",
    "2. In a list of values stored in a variable called spam, how would you assign the value \"hello\" as the\n",
    "third value? (Assume [2, 4, 6, 8, 10] are in spam.)\n",
    "'''\n",
    "pass"
   ]
  },
  {
   "cell_type": "code",
   "execution_count": 71,
   "metadata": {},
   "outputs": [
    {
     "name": "stdout",
     "output_type": "stream",
     "text": [
      "[2, 4, 'hello', 8, 10]\n"
     ]
    }
   ],
   "source": [
    "spam = [2, 4, 6, 8, 10]\n",
    "spam[2] = 'hello'  #Assign \"hello\" to third (3 used since indexing starts from 0)\n",
    "print(spam)"
   ]
  },
  {
   "cell_type": "code",
   "execution_count": 72,
   "metadata": {},
   "outputs": [],
   "source": [
    "'''\n",
    "Let's pretend the spam includes the list ['a', 'b', 'c', 'd] for the next three queries.\n",
    "'''\n",
    "spam = ['a','b','c','d']"
   ]
  },
  {
   "attachments": {},
   "cell_type": "markdown",
   "metadata": {},
   "source": [
    "QUESTION 3"
   ]
  },
  {
   "cell_type": "code",
   "execution_count": 73,
   "metadata": {},
   "outputs": [],
   "source": [
    "'''\n",
    "3. What is the value of spam[int(int('3' * 2) / 11)]?\n",
    "'''\n",
    "pass"
   ]
  },
  {
   "cell_type": "code",
   "execution_count": 74,
   "metadata": {},
   "outputs": [],
   "source": [
    "'''\n",
    "\n",
    "'3' is character 3 which * 2 means it's concatenated twice as 33. int(33) converts 33 from string to integer.\n",
    "33 / 11 that is 33 divided by 11 gives 3. So, spam[3] gives 'd' as output.\n",
    "\n",
    "'''\n",
    "pass"
   ]
  },
  {
   "cell_type": "code",
   "execution_count": 75,
   "metadata": {},
   "outputs": [
    {
     "data": {
      "text/plain": [
       "'d'"
      ]
     },
     "execution_count": 75,
     "metadata": {},
     "output_type": "execute_result"
    }
   ],
   "source": [
    "spam[int(int('3' * 2) / 11)]"
   ]
  },
  {
   "attachments": {},
   "cell_type": "markdown",
   "metadata": {},
   "source": [
    "QUESTION 4"
   ]
  },
  {
   "cell_type": "code",
   "execution_count": 76,
   "metadata": {},
   "outputs": [],
   "source": [
    "'''\n",
    "4. What is the value of spam[-1]?\n",
    "'''\n",
    "pass"
   ]
  },
  {
   "cell_type": "code",
   "execution_count": 77,
   "metadata": {},
   "outputs": [],
   "source": [
    "'''\n",
    "spam[-1] means last element since list indexing starts from -1 from the last. So, it will be 'd'\n",
    "'''\n",
    "pass"
   ]
  },
  {
   "cell_type": "code",
   "execution_count": 78,
   "metadata": {},
   "outputs": [
    {
     "data": {
      "text/plain": [
       "'d'"
      ]
     },
     "execution_count": 78,
     "metadata": {},
     "output_type": "execute_result"
    }
   ],
   "source": [
    "spam[-1]"
   ]
  },
  {
   "attachments": {},
   "cell_type": "markdown",
   "metadata": {},
   "source": [
    "\n",
    "QUESTION 5"
   ]
  },
  {
   "cell_type": "code",
   "execution_count": 79,
   "metadata": {},
   "outputs": [],
   "source": [
    "'''\n",
    "5. What is the value of spam[:2]?\n",
    "'''\n",
    "pass"
   ]
  },
  {
   "cell_type": "code",
   "execution_count": 80,
   "metadata": {},
   "outputs": [],
   "source": [
    "'''\n",
    "spam[:2] means all the characters from strating i.e. 0th index to 2 excluding index 2 i.e. ['a', 'b']\n",
    "'''\n",
    "pass"
   ]
  },
  {
   "cell_type": "code",
   "execution_count": 81,
   "metadata": {},
   "outputs": [
    {
     "data": {
      "text/plain": [
       "['a', 'b']"
      ]
     },
     "execution_count": 81,
     "metadata": {},
     "output_type": "execute_result"
    }
   ],
   "source": [
    "spam[:2]"
   ]
  },
  {
   "cell_type": "code",
   "execution_count": null,
   "metadata": {},
   "outputs": [],
   "source": []
  },
  {
   "cell_type": "code",
   "execution_count": 82,
   "metadata": {},
   "outputs": [],
   "source": [
    "'''\n",
    "Let's pretend bacon has the list [3.14,'cat',11,'cat',True] for the next three questions.\n",
    "'''\n",
    "bacon = [3.14,'cat',11,'cat',True]"
   ]
  },
  {
   "attachments": {},
   "cell_type": "markdown",
   "metadata": {},
   "source": [
    "QUESTION 6"
   ]
  },
  {
   "cell_type": "code",
   "execution_count": 83,
   "metadata": {},
   "outputs": [],
   "source": [
    "'''\n",
    "6. What is the value of bacon.index('cat')?\n",
    "'''\n",
    "pass"
   ]
  },
  {
   "cell_type": "code",
   "execution_count": 84,
   "metadata": {},
   "outputs": [],
   "source": [
    "'''\n",
    "list.index(element, start, end) returns the index of the element from start(optional,default=0) to end(optional,default=end of list)\n",
    "\n",
    "So bacon.index('cat') will start search from 0th index, will match at index 1 and hence will return the value 1\n",
    "'''\n",
    "pass"
   ]
  },
  {
   "cell_type": "code",
   "execution_count": 85,
   "metadata": {},
   "outputs": [
    {
     "data": {
      "text/plain": [
       "1"
      ]
     },
     "execution_count": 85,
     "metadata": {},
     "output_type": "execute_result"
    }
   ],
   "source": [
    "bacon.index('cat')"
   ]
  },
  {
   "attachments": {},
   "cell_type": "markdown",
   "metadata": {},
   "source": [
    "QUESTION 7"
   ]
  },
  {
   "cell_type": "code",
   "execution_count": 86,
   "metadata": {},
   "outputs": [],
   "source": [
    "'''\n",
    "7. How does bacon.append(99) change the look of the list value in bacon?\n",
    "'''\n",
    "pass"
   ]
  },
  {
   "cell_type": "code",
   "execution_count": 87,
   "metadata": {},
   "outputs": [],
   "source": [
    "'''\n",
    "bacon.append(99) will append the value 99 to the end of the list bacon\n",
    "'''\n",
    "pass"
   ]
  },
  {
   "cell_type": "code",
   "execution_count": 88,
   "metadata": {},
   "outputs": [
    {
     "data": {
      "text/plain": [
       "[3.14, 'cat', 11, 'cat', True, 99]"
      ]
     },
     "execution_count": 88,
     "metadata": {},
     "output_type": "execute_result"
    }
   ],
   "source": [
    "bacon.append(99)\n",
    "bacon"
   ]
  },
  {
   "attachments": {},
   "cell_type": "markdown",
   "metadata": {},
   "source": [
    "QUESTION 8"
   ]
  },
  {
   "cell_type": "code",
   "execution_count": 89,
   "metadata": {},
   "outputs": [],
   "source": [
    "'''\n",
    "8. How does bacon.remove('cat') change the look of the list in bacon?\n",
    "'''\n",
    "pass"
   ]
  },
  {
   "cell_type": "code",
   "execution_count": 90,
   "metadata": {},
   "outputs": [],
   "source": [
    "'''\n",
    "bacon.remove('cat') will remove the first occurrence of the element 'cat' from the list bacon\n",
    "'''\n",
    "pass"
   ]
  },
  {
   "cell_type": "code",
   "execution_count": 91,
   "metadata": {},
   "outputs": [
    {
     "data": {
      "text/plain": [
       "[3.14, 11, 'cat', True, 99]"
      ]
     },
     "execution_count": 91,
     "metadata": {},
     "output_type": "execute_result"
    }
   ],
   "source": [
    "bacon.remove('cat')\n",
    "bacon"
   ]
  },
  {
   "attachments": {},
   "cell_type": "markdown",
   "metadata": {},
   "source": [
    "QUESTION 9"
   ]
  },
  {
   "cell_type": "code",
   "execution_count": 92,
   "metadata": {},
   "outputs": [],
   "source": [
    "'''\n",
    "9. What are the list concatenation and list replication operators?\n",
    "'''\n",
    "pass"
   ]
  },
  {
   "cell_type": "code",
   "execution_count": 93,
   "metadata": {},
   "outputs": [
    {
     "name": "stdout",
     "output_type": "stream",
     "text": [
      "[1, 2, 5, 3, 4]\n",
      "[1, 2, 1, 2]\n",
      "[5, 3, 4, 5, 3, 4, 5, 3, 4]\n"
     ]
    }
   ],
   "source": [
    "'''\n",
    "List Concatenation: is done by + operator.\n",
    "'''\n",
    "l1=[1,2]\n",
    "l2=[5,3,4]\n",
    "l3 = l1+l2\n",
    "print(l3)\n",
    "\n",
    "'''\n",
    "List Replication: is done by * operator.\n",
    "'''\n",
    "l1=[1,2]\n",
    "l2=[5,3,4]\n",
    "l3 = l1 * 2\n",
    "l4 = l2 * 3\n",
    "print(l3)\n",
    "print(l4)\n"
   ]
  },
  {
   "cell_type": "code",
   "execution_count": null,
   "metadata": {},
   "outputs": [],
   "source": []
  },
  {
   "attachments": {},
   "cell_type": "markdown",
   "metadata": {},
   "source": [
    "QUESTION 10"
   ]
  },
  {
   "cell_type": "code",
   "execution_count": 94,
   "metadata": {},
   "outputs": [],
   "source": [
    "'''\n",
    "10. What is difference between the list methods append() and insert()?\n",
    "'''\n",
    "pass"
   ]
  },
  {
   "cell_type": "code",
   "execution_count": 95,
   "metadata": {},
   "outputs": [
    {
     "name": "stdout",
     "output_type": "stream",
     "text": [
      "[1, 2, 3, 'h', 4]\n",
      "[1, 2, 4, 3, 'h']\n"
     ]
    }
   ],
   "source": [
    "'''\n",
    "list.append(item) adds item to the end of a list\n",
    "'''\n",
    "a = [1,2,3,'h']\n",
    "a.append(4)\n",
    "print(a)\n",
    "\n",
    "'''\n",
    "list.insert(position, item) inserts item in a specified position in the list\n",
    "'''\n",
    "p = [1,2,3,'h']\n",
    "p.insert(2,4)\n",
    "print(p)"
   ]
  },
  {
   "attachments": {},
   "cell_type": "markdown",
   "metadata": {},
   "source": [
    "QUESTION 11"
   ]
  },
  {
   "cell_type": "code",
   "execution_count": 96,
   "metadata": {},
   "outputs": [],
   "source": [
    "'''\n",
    "11. What are the two methods for removing items from a list?\n",
    "'''\n",
    "pass"
   ]
  },
  {
   "cell_type": "code",
   "execution_count": 97,
   "metadata": {},
   "outputs": [
    {
     "name": "stdout",
     "output_type": "stream",
     "text": [
      "[1, 2, 'h']\n",
      "[1, 2, 'h']\n"
     ]
    }
   ],
   "source": [
    "'''\n",
    "Items can be removed from a list using \n",
    "a> list.remove(element) \n",
    "'''\n",
    "a = [1,2,3,'h']\n",
    "a.remove(3)\n",
    "print(a)\n",
    "\n",
    "'''\n",
    "b> list.pop(index)\n",
    "'''\n",
    "\n",
    "p = [1,2,3,'h']\n",
    "p.pop(2)\n",
    "print(p)"
   ]
  },
  {
   "cell_type": "code",
   "execution_count": null,
   "metadata": {},
   "outputs": [],
   "source": []
  },
  {
   "attachments": {},
   "cell_type": "markdown",
   "metadata": {},
   "source": [
    "QUESTION 12"
   ]
  },
  {
   "cell_type": "code",
   "execution_count": 98,
   "metadata": {},
   "outputs": [],
   "source": [
    "'''\n",
    "12. Describe how list values and string values are identical.\n",
    "'''\n",
    "pass"
   ]
  },
  {
   "cell_type": "code",
   "execution_count": 99,
   "metadata": {},
   "outputs": [
    {
     "name": "stdout",
     "output_type": "stream",
     "text": [
      "13\n",
      "5\n",
      "t\n",
      "2\n",
      "kenjoy\n",
      "[1, 2, 3, 4]\n",
      "kenkenken\n",
      "[1, 2, 1, 2]\n",
      "True\n",
      "False\n"
     ]
    }
   ],
   "source": [
    "'''\n",
    "Both strings and lists have lengths: \n",
    "a string's length is the number of characters in the string; \n",
    "a list's length is the number of items in the list.\n",
    "'''\n",
    "str = \"Python is Fun\"\n",
    "lst = [1,2,3,4,6]\n",
    "print(len(str))\n",
    "print(len(lst))\n",
    "\n",
    "'''\n",
    "You can access individual characters in a string, or items in a list, using square-bracket indexing:\n",
    "'''\n",
    "print(str[2])\n",
    "print(lst[1])\n",
    "\n",
    "'''\n",
    "You can concat and replicate strings and lists the same way\n",
    "'''\n",
    "str1 = \"ken\"\n",
    "str2 = \"joy\"\n",
    "print(str1 + str2)\n",
    "a = [1,2]\n",
    "b = [3,4]\n",
    "print(a+b)\n",
    "\n",
    "str1 = \"ken\"\n",
    "print(str1*3)\n",
    "a = [1,2]\n",
    "print(a*2)\n",
    "\n",
    "'''\n",
    "Lists and strings can be used with in and not in operators\n",
    "'''\n",
    "str1 = \"ken\"\n",
    "if 'k' in str1:\n",
    "    print(\"True\")\n",
    "else:\n",
    "    print(\"False\")\n",
    "\n",
    "lst = [3,4]\n",
    "if 3 not in lst:\n",
    "    print(\"True\")\n",
    "else:\n",
    "    print(\"False\")"
   ]
  },
  {
   "cell_type": "code",
   "execution_count": null,
   "metadata": {},
   "outputs": [],
   "source": []
  },
  {
   "attachments": {},
   "cell_type": "markdown",
   "metadata": {},
   "source": [
    "QUESTION 13"
   ]
  },
  {
   "cell_type": "code",
   "execution_count": 100,
   "metadata": {},
   "outputs": [],
   "source": [
    "'''\n",
    "13. What's the difference between tuples and lists?\n",
    "'''\n",
    "pass"
   ]
  },
  {
   "cell_type": "code",
   "execution_count": 101,
   "metadata": {},
   "outputs": [],
   "source": [
    "''' \n",
    "1. Lists are mutable ,  Tuples are immutable.\n",
    "2. Iteration in lists is time consuming in List, Iteration in tuples is faster.\n",
    "3. Lists are better for insertion and deletion operations. Tuples are appropriate for accessing the elements\n",
    "4. Lists consume more memory. Tuples consume lesser memory\n",
    "'''\n",
    "pass"
   ]
  },
  {
   "cell_type": "code",
   "execution_count": null,
   "metadata": {},
   "outputs": [],
   "source": []
  },
  {
   "attachments": {},
   "cell_type": "markdown",
   "metadata": {},
   "source": [
    "QUESTION 14"
   ]
  },
  {
   "cell_type": "code",
   "execution_count": 102,
   "metadata": {},
   "outputs": [],
   "source": [
    "'''\n",
    "14. How do you type a tuple value that only contains the integer 42?\n",
    "'''\n",
    "pass"
   ]
  },
  {
   "cell_type": "code",
   "execution_count": 103,
   "metadata": {},
   "outputs": [
    {
     "name": "stdout",
     "output_type": "stream",
     "text": [
      "<class 'int'>\n",
      "<class 'tuple'>\n"
     ]
    }
   ],
   "source": [
    "t = (43) #this is not a tuple but int\n",
    "print(type(t))\n",
    "\n",
    "t = (43,) #this is a tuple since [ comma , ] is mandatory even for a single element to distinguish it as a tuple from int within a bracket\n",
    "print(type(t))"
   ]
  },
  {
   "attachments": {},
   "cell_type": "markdown",
   "metadata": {},
   "source": [
    "QUESTION 15"
   ]
  },
  {
   "cell_type": "code",
   "execution_count": 104,
   "metadata": {},
   "outputs": [],
   "source": [
    "'''\n",
    "15. How do you get a list value's tuple form? How do you get a tuple value's list form?\n",
    "'''\n",
    "pass"
   ]
  },
  {
   "cell_type": "code",
   "execution_count": 105,
   "metadata": {},
   "outputs": [
    {
     "name": "stdout",
     "output_type": "stream",
     "text": [
      "(1, 2, 3, 4, 5, 6, 7, 8)\n",
      "[1, 2, 3, 4, 5, 6, 7, 8]\n"
     ]
    }
   ],
   "source": [
    "'''\n",
    "List values in tuple from using tuple() function\n",
    "'''\n",
    "list_nos = [1,2,3,4,5,6,7,8]\n",
    "tuple_nos = tuple(list_nos)\n",
    "print(tuple_nos)\n",
    "\n",
    "\n",
    "'''\n",
    "Tuple values in tuple from using list() function\n",
    "'''\n",
    "tuples_nos = (1,2,3,4,5,6,7,8)\n",
    "list_nos = list(list_nos)\n",
    "print(list_nos)"
   ]
  },
  {
   "cell_type": "code",
   "execution_count": null,
   "metadata": {},
   "outputs": [],
   "source": []
  },
  {
   "attachments": {},
   "cell_type": "markdown",
   "metadata": {},
   "source": [
    "QUESTION 16"
   ]
  },
  {
   "cell_type": "code",
   "execution_count": 106,
   "metadata": {},
   "outputs": [],
   "source": [
    "'''\n",
    "16. Variables that 'contain' list values are not necessarily lists themselves. Instead, what do they contain?\n",
    "'''\n",
    "pass"
   ]
  },
  {
   "cell_type": "code",
   "execution_count": 107,
   "metadata": {},
   "outputs": [
    {
     "name": "stdout",
     "output_type": "stream",
     "text": [
      "[0, 1, 2, 3, 4, 5]\n",
      "[0, 1, 2, 3, 'hi', 5]\n",
      "[0, 1, 2, 3, 'hi', 'hello']\n"
     ]
    }
   ],
   "source": [
    "'''\n",
    "They contain references to list values.\n",
    "'''\n",
    "a = [0, 1, 2, 3, 4, 5]\n",
    "b = a\n",
    "print(a)\n",
    "a[4] = 'hi'\n",
    "print(a)\n",
    "b[5] = 'hello'\n",
    "print(a)\n",
    "\n",
    "'''\n",
    "When you create the list you assign a reference to it in the a variable. \n",
    "But the next line copies only the list reference in a to b, not the list value itself.\n",
    "This means the values stored in a and b now both refer to the same list. \n",
    "There is only one underlying list because the list itself was never actually copied. \n",
    "So when you modify the fourth element of a, you are modifying the same list that b refers to. \n",
    "Similarly, when you modify the fifth element of b, you are modifying the same list as a.\n",
    "'''\n",
    "pass"
   ]
  },
  {
   "attachments": {},
   "cell_type": "markdown",
   "metadata": {},
   "source": [
    "QUESTION 17"
   ]
  },
  {
   "cell_type": "code",
   "execution_count": 108,
   "metadata": {},
   "outputs": [],
   "source": [
    "'''\n",
    "17. How do you distinguish between copy.copy() and copy.deepcopy()?\n",
    "'''\n",
    "pass"
   ]
  },
  {
   "cell_type": "code",
   "execution_count": 109,
   "metadata": {},
   "outputs": [
    {
     "name": "stdout",
     "output_type": "stream",
     "text": [
      "Original List li1 ID:  2264144976896 Value:  [1, 2, [3, 5], 4]\n",
      "Shalow copy List li2 ID:  2264174932160 Value:  [1, 2, [3, 5], 4]\n",
      "Deep Copy List li3 ID:  2264174966656 Value:  [1, 2, [3, 5], 4]\n",
      "Changed Original affects shallow copy li2 ID:  2264174932160 Value:  [1, 2, [7, 5], 4]\n",
      "Changed Original doesn't affects deep copy li3 ID:  2264174966656 Value:  [1, 2, [3, 5], 4]\n"
     ]
    }
   ],
   "source": [
    "'''\n",
    "copy.copy(x)\n",
    "Return a shallow copy of x.\n",
    "\n",
    "copy.deepcopy(x[, memo])\n",
    "Return a deep copy of x.\n",
    "\n",
    "The difference between shallow and deep copying is only relevant for compound objects \n",
    "(objects that contain other objects, like lists or class instances):\n",
    "\n",
    "A shallow copy constructs a new compound object and then (to the extent possible) \n",
    "inserts references into it to the objects found in the original.\n",
    "\n",
    "A deep copy constructs a new compound object and then, recursively, \n",
    "inserts copies into it of the objects found in the original.\n",
    "'''\n",
    "\n",
    "import copy\n",
    " \n",
    "# initializing list 1\n",
    "li1 = [1, 2, [3, 5], 4]\n",
    "print(\"Original List li1 ID: \", id(li1), \"Value: \", li1)\n",
    "\n",
    "\n",
    "# using copy for shallow copy\n",
    "li2 = copy.copy(li1)\n",
    "print(\"Shalow copy List li2 ID: \", id(li2), \"Value: \", li2)\n",
    "\n",
    "# using deepcopy for deepcopy\n",
    "li3 = copy.deepcopy(li1)\n",
    "print(\"Deep Copy List li3 ID: \", id(li3), \"Value: \", li3)\n",
    "\n",
    "# adding and element to new list\n",
    "li1[2][0] = 7\n",
    "\n",
    "print(\"Changed Original affects shallow copy li2 ID: \", id(li2), \"Value: \", li2)\n",
    "print(\"Changed Original doesn't affects deep copy li3 ID: \", id(li3), \"Value: \", li3)"
   ]
  },
  {
   "cell_type": "code",
   "execution_count": null,
   "metadata": {},
   "outputs": [],
   "source": []
  }
 ],
 "metadata": {
  "kernelspec": {
   "display_name": "gendev",
   "language": "python",
   "name": "python3"
  },
  "language_info": {
   "codemirror_mode": {
    "name": "ipython",
    "version": 3
   },
   "file_extension": ".py",
   "mimetype": "text/x-python",
   "name": "python",
   "nbconvert_exporter": "python",
   "pygments_lexer": "ipython3",
   "version": "3.8.13"
  },
  "orig_nbformat": 4
 },
 "nbformat": 4,
 "nbformat_minor": 2
}
