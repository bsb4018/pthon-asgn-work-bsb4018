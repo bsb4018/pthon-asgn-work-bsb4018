{
 "cells": [
  {
   "attachments": {},
   "cell_type": "markdown",
   "metadata": {},
   "source": [
    "QUESTION 1"
   ]
  },
  {
   "cell_type": "code",
   "execution_count": 2,
   "metadata": {},
   "outputs": [],
   "source": [
    "'''\n",
    "1. What are the two values of the Boolean data type? How do you write them?\n",
    "'''\n",
    "pass"
   ]
  },
  {
   "cell_type": "code",
   "execution_count": 3,
   "metadata": {},
   "outputs": [
    {
     "name": "stdout",
     "output_type": "stream",
     "text": [
      "True\n",
      "False\n",
      "<class 'bool'>\n",
      "<class 'bool'>\n",
      "True\n",
      "True\n"
     ]
    }
   ],
   "source": [
    "'''\n",
    "The two values of Boolean data type are True and False\n",
    "'''\n",
    "a = True\n",
    "b = False\n",
    "print(a)\n",
    "print(b)\n",
    "\n",
    "print(type(a))\n",
    "print(type(b))\n",
    "\n",
    "print(True == 1)\n",
    "print(False == 0)\n"
   ]
  },
  {
   "cell_type": "code",
   "execution_count": null,
   "metadata": {},
   "outputs": [],
   "source": []
  },
  {
   "attachments": {},
   "cell_type": "markdown",
   "metadata": {},
   "source": [
    "QUESTION 2"
   ]
  },
  {
   "cell_type": "code",
   "execution_count": null,
   "metadata": {},
   "outputs": [],
   "source": [
    "'''\n",
    "2. What are the three different types of Boolean operators?\n",
    "'''\n",
    "pass"
   ]
  },
  {
   "cell_type": "code",
   "execution_count": 87,
   "metadata": {},
   "outputs": [
    {
     "name": "stdout",
     "output_type": "stream",
     "text": [
      "False\n"
     ]
    }
   ],
   "source": [
    "'''\n",
    "The three different boolean operators are AND, OR, NOT\n",
    "The AND operator (\"and\")\n",
    "The OR operator (\"or\")\n",
    "The NOT operator (\"not\")\n",
    "'''\n",
    "\n",
    "'''\n",
    "AND Boolean Operator in Python\n",
    "The AND boolean operator is similar to the bitwise AND operator where the operator \n",
    "analyzes the expressions written on both sides and returns the output as True if both sides are True else False\n",
    "\n",
    "True and True = True\n",
    "True and False = False\n",
    "False and True = False\n",
    "False and False = False\n",
    "'''\n",
    "a = 68\n",
    "b = 71\n",
    "\n",
    "if(a > 30 and b == 45):\n",
    "   print(\"True\")\n",
    "else:\n",
    "   print(\"False\")\n"
   ]
  },
  {
   "cell_type": "code",
   "execution_count": 88,
   "metadata": {},
   "outputs": [
    {
     "name": "stdout",
     "output_type": "stream",
     "text": [
      "True\n"
     ]
    }
   ],
   "source": [
    "'''\n",
    "The OR operator is similar to the OR bitwise operator. In the bitwise OR, we were focussing \n",
    "on either of the bit being 1. Here, we take into account if either of the expression is true or not. \n",
    "If at least one expression is true, consequently, the result is true.\n",
    "\n",
    "True or True = True\n",
    "True or False = True\n",
    "False or True = True\n",
    "False or False = False\n",
    "'''\n",
    "a = 68\n",
    "b = 71\n",
    "\n",
    "if(a > 30 or b == 45):\n",
    "   print(\"True\")\n",
    "else:\n",
    "   print(\"False\")"
   ]
  },
  {
   "cell_type": "code",
   "execution_count": 84,
   "metadata": {},
   "outputs": [
    {
     "name": "stdout",
     "output_type": "stream",
     "text": [
      "Not Executed\n",
      "Executed\n"
     ]
    }
   ],
   "source": [
    "'''\n",
    "The NOT operator reverses the result of the boolean expression that follows the operator. \n",
    "It is important to note that the NOT operator will only reverse the final result of the expression \n",
    "that immediately follows.\n",
    "\n",
    "not(True) = False\n",
    "not(False) = True\n",
    "'''\n",
    "\n",
    "a = 2\n",
    "b = 2\n",
    "c = 4\n",
    "d = 4\n",
    "if(not(a == b) and (c == d)):\n",
    "   print(\"Executed\")\n",
    "else:\n",
    "   print(\"Not Executed\")\n",
    "\n",
    "a = 2\n",
    "b = 3\n",
    "c = 4\n",
    "d = 2\n",
    "if(not(a == b) and not(c == d)):\n",
    "   print(\"Executed\")\n",
    "else:\n",
    "   print(\"Not Executed\")"
   ]
  },
  {
   "cell_type": "code",
   "execution_count": null,
   "metadata": {},
   "outputs": [],
   "source": []
  },
  {
   "attachments": {},
   "cell_type": "markdown",
   "metadata": {},
   "source": [
    "QUESTION 3"
   ]
  },
  {
   "cell_type": "code",
   "execution_count": null,
   "metadata": {},
   "outputs": [],
   "source": [
    "'''\n",
    "3. Make a list of each Boolean operator's truth tables (i.e. every possible combination of Boolean\n",
    "values for the operator and what it evaluate ).\n",
    "'''\n",
    "pass\n"
   ]
  },
  {
   "cell_type": "code",
   "execution_count": 14,
   "metadata": {},
   "outputs": [
    {
     "name": "stdout",
     "output_type": "stream",
     "text": [
      "AND\n",
      "True and True is  True\n",
      "True and False is  False\n",
      "False and True is  False\n",
      "False and False is  False\n",
      "\n",
      "OR\n",
      "True or True is  True\n",
      "True or False is  True\n",
      "False or True is  True\n",
      "False or False is  False\n",
      "\n",
      "NOT\n",
      "not True is  False\n",
      "not False is  True\n"
     ]
    }
   ],
   "source": [
    "'''\n",
    "AND\n",
    "\n",
    "x\t   and\t y\t    Returns\n",
    "True   and\t True\tTrue\n",
    "True   and\t False\tFalse\n",
    "False  and\t True\tFalse\n",
    "False  and\t False\tFalse\n",
    "\n",
    "'''\n",
    "print('AND')\n",
    "print(\"True and True is \", True and True)\n",
    "print(\"True and False is \", True and False)\n",
    "print(\"False and True is \", False and True)\n",
    "print(\"False and False is \", False and False)\n",
    "print()\n",
    "\n",
    "'''\n",
    "OR\n",
    "\n",
    "x\t   or\t y\t    Returns\n",
    "True   or\t True\tTrue\n",
    "True   or\t False\tTrue\n",
    "False  or\t True\tTrue\n",
    "False  or\t False\tFalse\n",
    "'''\n",
    "print('OR')\n",
    "print(\"True or True is \", True or True)\n",
    "print(\"True or False is \", True or False)\n",
    "print(\"False or True is \", False or True)\n",
    "print(\"False or False is \", False or False)\n",
    "print()\n",
    "'''\n",
    "NOT\n",
    "\n",
    "not\t x\t    Returns\n",
    "not\t True\tFalse\n",
    "not\t False\tTrue\n",
    "'''\n",
    "print('NOT')\n",
    "print(\"not True is \", not True)\n",
    "print(\"not False is \", not False)\n",
    "\n",
    "pass"
   ]
  },
  {
   "cell_type": "code",
   "execution_count": null,
   "metadata": {},
   "outputs": [],
   "source": []
  },
  {
   "attachments": {},
   "cell_type": "markdown",
   "metadata": {},
   "source": [
    "QUESTION 4"
   ]
  },
  {
   "cell_type": "code",
   "execution_count": 17,
   "metadata": {},
   "outputs": [],
   "source": [
    "'''\n",
    "4. What are the values of the following expressions?\n",
    "(5 > 4) and (3 == 5)\n",
    "not (5 > 4)\n",
    "(5 > 4) or (3 == 5)\n",
    "not ((5 > 4) or (3 == 5))\n",
    "(True and True) and (True == False)\n",
    "(not False) or (not True)\n",
    "'''\n",
    "pass"
   ]
  },
  {
   "cell_type": "code",
   "execution_count": 26,
   "metadata": {},
   "outputs": [
    {
     "name": "stdout",
     "output_type": "stream",
     "text": [
      "(5 > 4) and (3 == 5) evaluates to  False\n",
      "not (5 > 4) evaluates to  False\n",
      "(5 > 4) or (3 == 5) evaluates to  True\n",
      "not ((5 > 4) or (3 == 5)) evaluates to  False\n",
      "(True and True) and (True == False) evaluates to  False\n",
      "(not False) or (not True) evaluates to  True\n"
     ]
    }
   ],
   "source": [
    "'''5>4 evaluates to True 3==5 evaluates to False. True and False evaluates to False. Let's see.'''\n",
    "print(\"(5 > 4) and (3 == 5) evaluates to \", (5 > 4) and (3 == 5))\n",
    "\n",
    "'''(5 > 4) is True. not True evaluates to False. Let's see'''\n",
    "print(\"not (5 > 4) evaluates to \", not (5 > 4))\n",
    "\n",
    "'''5>4 evaluates to True 3==5 evaluates to False. True or False evaluates to True. Let's see.'''\n",
    "print(\"(5 > 4) or (3 == 5) evaluates to \", (5 > 4) or (3 == 5))\n",
    "\n",
    "'''5>4 evaluates to True 3==5 evaluates to False. True or False evaluates to True. not true is False. Let's see.'''\n",
    "print(\"not ((5 > 4) or (3 == 5)) evaluates to \",not ((5 > 4) or (3 == 5)))\n",
    "\n",
    "''' True and True is True. True == False is False. True and False evaluates to False. Let's see.'''\n",
    "print(\"(True and True) and (True == False) evaluates to \",(True and True) and (True == False))\n",
    "\n",
    "''' not False is True. not True is False. True or False evaluates to True. Let's see.'''\n",
    "print(\"(not False) or (not True) evaluates to \", (not False) or (not True))\n"
   ]
  },
  {
   "cell_type": "code",
   "execution_count": null,
   "metadata": {},
   "outputs": [],
   "source": []
  },
  {
   "attachments": {},
   "cell_type": "markdown",
   "metadata": {},
   "source": [
    "\n",
    "QUESTION 5"
   ]
  },
  {
   "cell_type": "code",
   "execution_count": 27,
   "metadata": {},
   "outputs": [],
   "source": [
    "'''5. What are the six comparison operators?'''\n",
    "pass"
   ]
  },
  {
   "cell_type": "code",
   "execution_count": 37,
   "metadata": {},
   "outputs": [
    {
     "name": "stdout",
     "output_type": "stream",
     "text": [
      "False\n",
      "True\n"
     ]
    }
   ],
   "source": [
    "'''\n",
    "Greater than\n",
    "Denoted by >, the greater than operator checks if the value on the left side is greater than the value on the right side. \n",
    "It returns True if the condition is satisfied, otherwise returns False.\n",
    "'''\n",
    "\n",
    "a = 9\n",
    "b = 10\n",
    "op1 = a > b\n",
    "op2 = b > a\n",
    "print (op1)\n",
    "print(op2)"
   ]
  },
  {
   "cell_type": "code",
   "execution_count": 38,
   "metadata": {},
   "outputs": [
    {
     "name": "stdout",
     "output_type": "stream",
     "text": [
      "True\n",
      "False\n"
     ]
    }
   ],
   "source": [
    "'''\n",
    "Less than\n",
    "The less than operator is denoted by < sign and compares the values present on either side. \n",
    "If the value present on the left side is smaller than the value on the right side, it returns True otherwise it returns False.\n",
    "'''\n",
    "\n",
    "a = 9\n",
    "b = 10\n",
    "op1 = a < b\n",
    "op2 = b < a\n",
    "print (op1)\n",
    "print(op2)"
   ]
  },
  {
   "cell_type": "code",
   "execution_count": 39,
   "metadata": {},
   "outputs": [
    {
     "name": "stdout",
     "output_type": "stream",
     "text": [
      "True\n",
      "False\n"
     ]
    }
   ],
   "source": [
    "'''\n",
    "Equal to\n",
    "This operator is denoted by == and it returns True if both the values present on either side are equal.\n",
    "'''\n",
    "\n",
    "a = 6\n",
    "b = 6\n",
    "c = 5\n",
    "d = 9\n",
    "op1 = a == b\n",
    "op2 = c == d\n",
    "print (op1)\n",
    "print(op2)"
   ]
  },
  {
   "cell_type": "code",
   "execution_count": 40,
   "metadata": {},
   "outputs": [
    {
     "name": "stdout",
     "output_type": "stream",
     "text": [
      "True\n"
     ]
    }
   ],
   "source": [
    "'''\n",
    "Not equal to\n",
    "Symbolic representation of Not equal to operator is != and it returns True if one value is not equal \n",
    "to the other present in the condition.\n",
    "'''\n",
    "\n",
    "a = 5\n",
    "b = 10\n",
    "op1 = a != b\n",
    "print (op1)"
   ]
  },
  {
   "cell_type": "code",
   "execution_count": 41,
   "metadata": {},
   "outputs": [
    {
     "name": "stdout",
     "output_type": "stream",
     "text": [
      "True\n",
      "True\n"
     ]
    }
   ],
   "source": [
    "'''\n",
    "Greater than or equal to\n",
    "This operator (>=) only returns True if the value on the left side is greater or equal to the value on the right side.\n",
    "'''\n",
    "\n",
    "a = 6\n",
    "b = 6\n",
    "c = 4\n",
    "d = 2\n",
    "op1 = a >= b\n",
    "op2 = c >= d\n",
    "print(op1)\n",
    "print(op2)"
   ]
  },
  {
   "cell_type": "code",
   "execution_count": 42,
   "metadata": {},
   "outputs": [
    {
     "name": "stdout",
     "output_type": "stream",
     "text": [
      "True\n",
      "False\n"
     ]
    }
   ],
   "source": [
    "'''\n",
    "Less than or equal to\n",
    "The last operator in the list is less than or equal to (<=). It compares the values and returns True if the value on the \n",
    "left side is smaller than or equal to the value to the value on the right side.\n",
    "'''\n",
    "\n",
    "a = 6\n",
    "b = 6\n",
    "c = 4\n",
    "d = 2\n",
    "op1 = a <= b\n",
    "op2 = c <= d\n",
    "print(op1)\n",
    "print(op2)"
   ]
  },
  {
   "cell_type": "code",
   "execution_count": null,
   "metadata": {},
   "outputs": [],
   "source": []
  },
  {
   "attachments": {},
   "cell_type": "markdown",
   "metadata": {},
   "source": [
    "QUESTION 6"
   ]
  },
  {
   "cell_type": "code",
   "execution_count": 43,
   "metadata": {},
   "outputs": [],
   "source": [
    "'''\n",
    "6. How do you tell the difference between the equal to and assignment operators?\n",
    "Describe a condition and when you would use one.\n",
    "'''\n",
    "pass"
   ]
  },
  {
   "cell_type": "code",
   "execution_count": 44,
   "metadata": {},
   "outputs": [
    {
     "name": "stdout",
     "output_type": "stream",
     "text": [
      "30\n"
     ]
    }
   ],
   "source": [
    "'''\n",
    "In Python = symbol is defined as assignment operator. It requires one variable on its left and an expression on its right. \n",
    "Value of the expression on right is assigned to variable on left. Expression and name of variable are not interchangeable.\n",
    "'''\n",
    "a=10\n",
    "b=20\n",
    "c=a+b\n",
    "print(c)"
   ]
  },
  {
   "cell_type": "code",
   "execution_count": 45,
   "metadata": {},
   "outputs": [
    {
     "name": "stdout",
     "output_type": "stream",
     "text": [
      "True\n"
     ]
    }
   ],
   "source": [
    "''' The == symbol is a comparison operator and called equal to operator. \n",
    "It returns true if operands on either side are equal, otherwise it returns false\n",
    "'''\n",
    "\n",
    "print(5+2 == 7)\n"
   ]
  },
  {
   "cell_type": "code",
   "execution_count": null,
   "metadata": {},
   "outputs": [],
   "source": []
  },
  {
   "attachments": {},
   "cell_type": "markdown",
   "metadata": {},
   "source": [
    "QUESTION 7"
   ]
  },
  {
   "cell_type": "code",
   "execution_count": 46,
   "metadata": {},
   "outputs": [],
   "source": [
    "'''\n",
    "7. Identify the three blocks in this code:\n",
    "spam = 0\n",
    "if spam == 10:\n",
    "print('eggs')\n",
    "if spam > 5:\n",
    "print('bacon')\n",
    "else:\n",
    "print('ham')\n",
    "print('spam')\n",
    "print('spam')\n",
    "'''\n",
    "pass"
   ]
  },
  {
   "cell_type": "code",
   "execution_count": null,
   "metadata": {},
   "outputs": [],
   "source": [
    "'''\n",
    "Indentation is used to define a block of code in python. In Python, indentation is done with whitespace or tab.\n",
    "All statements with the same right-hand distance belong to the same code block. \n",
    "If a block needs to be more nested, it is indented to the right.\n",
    "'''\n",
    "spam = 0\n",
    "if spam == 10:\n",
    "    '''This is block 1'''\n",
    "    print('eggs')\n",
    "if spam > 5:\n",
    "    '''This is block 2'''\n",
    "    print('bacon')\n",
    "else:\n",
    "    '''This is block 3'''\n",
    "    print('ham')\n",
    "    print('spam')\n",
    "    print('spam')"
   ]
  },
  {
   "attachments": {},
   "cell_type": "markdown",
   "metadata": {},
   "source": [
    "QUESTION 8"
   ]
  },
  {
   "cell_type": "code",
   "execution_count": null,
   "metadata": {},
   "outputs": [],
   "source": [
    "'''\n",
    "8. Write code that prints Hello if 1 is stored in spam, prints Howdy if 2 is stored in spam, and prints\n",
    "Greetings! if anything else is stored in spam.\n",
    "'''"
   ]
  },
  {
   "cell_type": "code",
   "execution_count": 52,
   "metadata": {},
   "outputs": [
    {
     "name": "stdout",
     "output_type": "stream",
     "text": [
      "Howdy\n"
     ]
    }
   ],
   "source": [
    "spam = 2 \n",
    "if spam == 1:\n",
    "    print(\"Hello\")\n",
    "elif spam == 2:\n",
    "    print(\"Howdy\")\n",
    "else:\n",
    "    print(\"Greetings!\")"
   ]
  },
  {
   "cell_type": "code",
   "execution_count": null,
   "metadata": {},
   "outputs": [],
   "source": []
  },
  {
   "attachments": {},
   "cell_type": "markdown",
   "metadata": {},
   "source": [
    "QUESTION 9"
   ]
  },
  {
   "cell_type": "code",
   "execution_count": null,
   "metadata": {},
   "outputs": [],
   "source": [
    "'''9.If your programme is stuck in an endless loop, what keys you’ll press?'''"
   ]
  },
  {
   "cell_type": "code",
   "execution_count": 58,
   "metadata": {},
   "outputs": [],
   "source": [
    "'''\n",
    "You can stop an infinite loop with CTRL + C \n",
    "'''\n",
    "pass"
   ]
  },
  {
   "cell_type": "code",
   "execution_count": null,
   "metadata": {},
   "outputs": [],
   "source": []
  },
  {
   "attachments": {},
   "cell_type": "markdown",
   "metadata": {},
   "source": [
    "QUESTION 10"
   ]
  },
  {
   "cell_type": "code",
   "execution_count": 34,
   "metadata": {},
   "outputs": [
    {
     "name": "stdout",
     "output_type": "stream",
     "text": [
      "I have eaten99burritos.\n"
     ]
    }
   ],
   "source": [
    "''' \n",
    "10. How can you tell the difference between break and continue?\n",
    "'''\n",
    "pass"
   ]
  },
  {
   "cell_type": "code",
   "execution_count": 61,
   "metadata": {},
   "outputs": [
    {
     "name": "stdout",
     "output_type": "stream",
     "text": [
      "Iteration: 0\n",
      "Iteration: 1\n",
      "Iteration: 2\n",
      "Iteration: 3\n",
      "Iteration: 4\n"
     ]
    }
   ],
   "source": [
    "'''\n",
    "Break:A break statement in Python alters the flow of a loop by terminating it once a specified condition is met.\n",
    "\n",
    "In the example below, the if statement is to check a condition. \n",
    "When this condition becomes True, the program flow will go inside the if statement and execute the break statement.\n",
    "Therefore, the for loop executed until the condition num == 5 becomes True. \n",
    "When the condition becomes True, the break statement is executed to terminate the flow of the for loop.\n",
    "'''\n",
    "\n",
    "for num in range(0,10):\n",
    "    if num == 5:\n",
    "        break\n",
    "    print(f'Iteration: {num}')\n",
    "\n"
   ]
  },
  {
   "cell_type": "code",
   "execution_count": 63,
   "metadata": {},
   "outputs": [
    {
     "name": "stdout",
     "output_type": "stream",
     "text": [
      "Iteration: 0\n",
      "Iteration: 1\n",
      "Iteration: 2\n",
      "Iteration: 3\n",
      "Iteration: 4\n",
      "Iteration: 6\n",
      "Iteration: 7\n",
      "Iteration: 8\n",
      "Iteration: 9\n"
     ]
    }
   ],
   "source": [
    "'''\n",
    "Continue: The continue statement in Python is used to skip the remaining code inside a loop for the current iteration only.\n",
    "\n",
    "Here for the if statement when it becomes True. The print statement is skipped hence we donot see Iteration: 5 in the output\n",
    "'''\n",
    "\n",
    "for num in range(0,10):\n",
    "    if num == 5:\n",
    "        continue\n",
    "    print(f'Iteration: {num}')"
   ]
  },
  {
   "cell_type": "code",
   "execution_count": null,
   "metadata": {},
   "outputs": [],
   "source": []
  },
  {
   "attachments": {},
   "cell_type": "markdown",
   "metadata": {},
   "source": [
    "QUESTION 11"
   ]
  },
  {
   "cell_type": "code",
   "execution_count": null,
   "metadata": {},
   "outputs": [],
   "source": [
    "'''11. In a for loop, what is the difference between range(10), range(0, 10), and range(0, 10, 1)?'''"
   ]
  },
  {
   "cell_type": "code",
   "execution_count": 70,
   "metadata": {},
   "outputs": [
    {
     "name": "stdout",
     "output_type": "stream",
     "text": [
      "0 1 2 3 4 5 6 7 8 9 \n",
      "0 1 2 3 4 5 6 7 8 9 \n",
      "0 1 2 3 4 5 6 7 8 9 "
     ]
    }
   ],
   "source": [
    "'''\n",
    "Syntax for range(start, stop, step)\n",
    "Parameter:\n",
    "start: (Lower limit) It is the starting position of the sequence. \n",
    "The default value is 0 if not specified.\n",
    "stop: (Upper limit) generate numbers up to this number, i.e., An integer number specifying at which \n",
    "position to stop (upper limit). The range() never includes the stop number in its result.\n",
    "step: Specify the increment value. Each next number in the sequence is generated by adding \n",
    "the step value to a preceding number. The default value is 1 if not specified. \n",
    "It is nothing but a difference between each number in the result.\n",
    "'''\n",
    "\n",
    "''' \n",
    "range(10) runs the for loop from 0 to 10 including 0 and excluding 10\n",
    "range(0, 10) is same as range(10) it runs the for loop from 0 to 10 including 0 and excluding 10. \n",
    "Here the optional parameter start is mentioned and is equal to 0\n",
    "range(0, 10, 1) is also the same as above two it runs the for loop from 0 to 10 including 0 and excluding 10\n",
    "here both the optional parameters are present and with default values.\n",
    "'''\n",
    "for i in range(10):\n",
    "    print(i, end=\" \")\n",
    "print()\n",
    "for i in range(0, 10):\n",
    "    print(i, end=\" \")\n",
    "print()\n",
    "for i in range(0,10,1):\n",
    "    print(i, end=\" \")"
   ]
  },
  {
   "cell_type": "code",
   "execution_count": null,
   "metadata": {},
   "outputs": [],
   "source": []
  },
  {
   "attachments": {},
   "cell_type": "markdown",
   "metadata": {},
   "source": [
    "QUESTION 12"
   ]
  },
  {
   "cell_type": "code",
   "execution_count": 71,
   "metadata": {},
   "outputs": [],
   "source": [
    "'''\n",
    "12. Write a short program that prints the numbers 1 to 10 using a for loop. Then write an equivalent\n",
    "program that prints the numbers 1 to 10 using a while loop.'''\n",
    "pass"
   ]
  },
  {
   "cell_type": "code",
   "execution_count": 81,
   "metadata": {},
   "outputs": [
    {
     "name": "stdout",
     "output_type": "stream",
     "text": [
      "For loop demo\n",
      "1 2 3 4 5 6 7 8 9 10 \n",
      "While loop demo\n",
      "1 2 3 4 5 6 7 8 9 10 "
     ]
    }
   ],
   "source": [
    "print(\"For loop demo\")\n",
    "for i in range(1,11):\n",
    "    print(i, end=\" \")\n",
    "\n",
    "print()\n",
    "\n",
    "print(\"While loop demo\")\n",
    "i = 1\n",
    "while i <= 10:\n",
    "    print(i, end=\" \")\n",
    "    i  = i + 1"
   ]
  },
  {
   "cell_type": "code",
   "execution_count": null,
   "metadata": {},
   "outputs": [],
   "source": []
  },
  {
   "attachments": {},
   "cell_type": "markdown",
   "metadata": {},
   "source": [
    "QUESTION 13"
   ]
  },
  {
   "cell_type": "code",
   "execution_count": null,
   "metadata": {},
   "outputs": [],
   "source": [
    "'''\n",
    "13. If you had a function named bacon() inside a module named spam, how would you call it after\n",
    "importing spam?\n",
    "'''\n",
    "pass"
   ]
  },
  {
   "cell_type": "code",
   "execution_count": 80,
   "metadata": {},
   "outputs": [],
   "source": [
    "''' \n",
    "It can be called like this: \n",
    "\n",
    "import spam\n",
    "spam.bacon()\n",
    "'''\n",
    "pass"
   ]
  }
 ],
 "metadata": {
  "kernelspec": {
   "display_name": "gendev",
   "language": "python",
   "name": "python3"
  },
  "language_info": {
   "codemirror_mode": {
    "name": "ipython",
    "version": 3
   },
   "file_extension": ".py",
   "mimetype": "text/x-python",
   "name": "python",
   "nbconvert_exporter": "python",
   "pygments_lexer": "ipython3",
   "version": "3.8.13"
  },
  "orig_nbformat": 4
 },
 "nbformat": 4,
 "nbformat_minor": 2
}
