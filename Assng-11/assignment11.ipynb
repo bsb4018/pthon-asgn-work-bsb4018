{
 "cells": [
  {
   "cell_type": "markdown",
   "metadata": {},
   "source": [
    "18th June '23 Assignment"
   ]
  },
  {
   "cell_type": "markdown",
   "metadata": {},
   "source": [
    "QUESTION 1"
   ]
  },
  {
   "cell_type": "code",
   "execution_count": null,
   "metadata": {},
   "outputs": [],
   "source": [
    "'''\n",
    "What is the role of the 'else' block in a try-except statement? \n",
    "Provide an example scenario where it would be useful.\n",
    "'''"
   ]
  },
  {
   "cell_type": "markdown",
   "metadata": {},
   "source": [
    "ANSWER"
   ]
  },
  {
   "cell_type": "code",
   "execution_count": 1,
   "metadata": {},
   "outputs": [
    {
     "name": "stdout",
     "output_type": "stream",
     "text": [
      "Result=5.0\n"
     ]
    }
   ],
   "source": [
    "'''\n",
    "The else block in a try-except statement is an optional block of code that is executed \n",
    "if no exceptions are raised in the try block. This means that if no exceptions occur, \n",
    "the code in the else block is executed.\n",
    "The else block is useful for performing actions that should only occur if no exceptions \n",
    "have been raised, such as printing a success message or updating a database.\n",
    "'''\n",
    "x = 10\n",
    "y = 2\n",
    "try:\n",
    "    result = x / y\n",
    "except ZeroDivisionError:\n",
    "    print(\"Error: Cannot divide by zero\")\n",
    "else:\n",
    "    print(f\"Result={result}\")"
   ]
  },
  {
   "cell_type": "markdown",
   "metadata": {},
   "source": [
    "QUESTION 2"
   ]
  },
  {
   "cell_type": "code",
   "execution_count": null,
   "metadata": {},
   "outputs": [],
   "source": [
    "'''\n",
    "Can a try-except block be nested inside another try-except block? Explain with an example.\n",
    "'''"
   ]
  },
  {
   "cell_type": "markdown",
   "metadata": {},
   "source": [
    "ANSWER"
   ]
  },
  {
   "cell_type": "code",
   "execution_count": 2,
   "metadata": {},
   "outputs": [
    {
     "name": "stdout",
     "output_type": "stream",
     "text": [
      "This is outer try block\n",
      "inside inner finally block\n",
      "Division by 0\n",
      "inside outer finally block\n"
     ]
    }
   ],
   "source": [
    "'''\n",
    "Yes it is possible to have nested try-except blocks in Python\n",
    "'''\n",
    "a=10\n",
    "b=0\n",
    "try:\n",
    "   print (\"This is outer try block\")\n",
    "   try:\n",
    "      print (a/b)\n",
    "   except KeyError:\n",
    "      print (\"Key Error\")\n",
    "   finally:\n",
    "      print (\"inside inner finally block\")\n",
    "      \n",
    "except ZeroDivisionError:\n",
    "   print (\"Division by 0\")\n",
    "finally:\n",
    "   print (\"inside outer finally block\")\n",
    "\n",
    "'''\n",
    "In the following example, the inner try: faces \"division by 0\", \n",
    "but its corresponding except: is looking for KeyError instead of ZeroDivisionError. \n",
    "Hence, the exception object is passed on to the except: block of the \n",
    "subsequent except statement matching with outer try: statement. \n",
    "There, the zeroDivisionError exception is trapped and handled.\n",
    "'''\n",
    "pass"
   ]
  },
  {
   "cell_type": "markdown",
   "metadata": {},
   "source": [
    "QUESTION 3"
   ]
  },
  {
   "cell_type": "code",
   "execution_count": null,
   "metadata": {},
   "outputs": [],
   "source": [
    "'''\n",
    "How can you create a custom exception class in Python? \n",
    "Provide an example that demonstrates its usage.\n",
    "'''"
   ]
  },
  {
   "cell_type": "markdown",
   "metadata": {},
   "source": [
    "ANSWER"
   ]
  },
  {
   "cell_type": "code",
   "execution_count": 3,
   "metadata": {},
   "outputs": [
    {
     "name": "stdout",
     "output_type": "stream",
     "text": [
      "Exception occurred: Invalid Age\n"
     ]
    }
   ],
   "source": [
    "'''\n",
    "In Python, you can create a custom exception class by inheriting from the built-in Exception class \n",
    "or one of its subclasses. \n",
    "By creating your own exception class, you can define specific behaviors and attributes \n",
    "for your custom exceptions.\n",
    "'''\n",
    "# define Python user-defined exceptions\n",
    "class InvalidAgeException(Exception):\n",
    "    \"Raised when the input value is less than 18\"\n",
    "    pass\n",
    "\n",
    "# you need to guess this number\n",
    "number = 18\n",
    "\n",
    "try:\n",
    "    input_num = int(input(\"Enter a number: \"))\n",
    "    if input_num < number:\n",
    "        raise InvalidAgeException\n",
    "    else:\n",
    "        print(\"Eligible to Vote\")\n",
    "        \n",
    "except InvalidAgeException:\n",
    "    print(\"Exception occurred: Invalid Age\")\n",
    "\n",
    "'''\n",
    "In the above example, we have defined the custom exception InvalidAgeException by \n",
    "creating a new class that is derived from the built-in Exception class.\n",
    "Here, when input_num is smaller than 18, this code generates an exception.\n",
    "'''\n",
    "pass"
   ]
  },
  {
   "cell_type": "markdown",
   "metadata": {},
   "source": [
    "QUESTION 4"
   ]
  },
  {
   "cell_type": "code",
   "execution_count": null,
   "metadata": {},
   "outputs": [],
   "source": [
    "'''\n",
    "What are some common exceptions that are built-in to Python?\n",
    "'''"
   ]
  },
  {
   "cell_type": "markdown",
   "metadata": {},
   "source": [
    "ANSWER"
   ]
  },
  {
   "cell_type": "code",
   "execution_count": null,
   "metadata": {},
   "outputs": [],
   "source": [
    "'''\n",
    "SyntaxError: Raised when there is a syntax error in the code.\n",
    "IndentationError: Raised when there is an incorrect indentation in the code.\n",
    "TypeError: Raised when an operation or function is applied to an object of an inappropriate type.\n",
    "NameError: Raised when a local or global name is not found.\n",
    "ValueError: Raised when a built-in operation or function receives an argument of the \n",
    "            correct type but an invalid value.\n",
    "ZeroDivisionError: Raised when the second operand of a division or modulo operation is zero.\n",
    "IndexError: Raised when a sequence subscript is out of range.\n",
    "KeyError: Raised when a dictionary key is not found.\n",
    "FileNotFoundError: Raised when trying to access a file that does not exist.\n",
    "IOError: Raised when an I/O operation fails.\n",
    "AttributeError: Raised when an attribute reference or assignment fails.\n",
    "ImportError: Raised when an import statement fails to find the specified module.\n",
    "RuntimeError: Raised when an error occurs that doesn't fall into any of the other categories.\n",
    "MemoryError: Raised when an operation runs out of memory.\n",
    "OverflowError: Raised when the result of an arithmetic operation is too large to be \n",
    "               expressed within the limits of the data type.\n",
    "\n",
    "'''"
   ]
  },
  {
   "cell_type": "markdown",
   "metadata": {},
   "source": [
    "QUESTION 5"
   ]
  },
  {
   "cell_type": "code",
   "execution_count": null,
   "metadata": {},
   "outputs": [],
   "source": [
    "'''\n",
    "What is logging in Python, and why is it important in software development?\n",
    "'''"
   ]
  },
  {
   "cell_type": "code",
   "execution_count": null,
   "metadata": {},
   "outputs": [],
   "source": [
    "'''\n",
    "Logging in Python refers to the process of recording log messages from a program during its execution. \n",
    "The logging module in Python provides a flexible and powerful framework for emitting log messages \n",
    "from programs. It is a built-in module that allows developers to output log messages to \n",
    "various destinations, such as the console, files, or external services.\n",
    "\n",
    "Importance of logging :-\n",
    "\n",
    "Diagnostic Information: Strategically placing log statements in the code, developers can track the \n",
    "                        flow of execution, inspect variable values, and identify potential issues\n",
    "Debugging and Troubleshooting: Log messages to trace the execution path, identify the source of errors, \n",
    "                               and gain insights into the program's behavior.\n",
    "Monitoring and Analysis: Log messages provide valuable information about the application's health, \n",
    "                         potential errors, and overall performance.                             \n",
    "'''\n"
   ]
  },
  {
   "cell_type": "markdown",
   "metadata": {},
   "source": [
    "QUESTION 6"
   ]
  },
  {
   "cell_type": "code",
   "execution_count": null,
   "metadata": {},
   "outputs": [],
   "source": [
    "'''\n",
    "Explain the purpose of log levels in Python logging and provide \n",
    "examples of when each log level would be appropriate.\n",
    "'''"
   ]
  },
  {
   "cell_type": "code",
   "execution_count": 4,
   "metadata": {},
   "outputs": [
    {
     "name": "stderr",
     "output_type": "stream",
     "text": [
      "DEBUG - Performing complex calculation with inputs: 10, 5\n",
      "DEBUG - Calculation result: 15\n"
     ]
    },
    {
     "data": {
      "text/plain": [
       "15"
      ]
     },
     "execution_count": 4,
     "metadata": {},
     "output_type": "execute_result"
    }
   ],
   "source": [
    "'''\n",
    "In Python logging, log levels are used to categorize log messages based on their severity and importance. \n",
    "The logging module supports several log levels, each representing a different level of \n",
    "granularity and importance. \n",
    "'''\n",
    "'''\n",
    "DEBUG: Detailed information, typically useful only for diagnosing problems during development or debugging. \n",
    "       Debug messages are usually not present in production logs due to their verbosity.\n",
    "'''\n",
    "# Example - Detailed information for debugging purposes.\n",
    "\n",
    "import logging\n",
    "\n",
    "logging.basicConfig(level=logging.DEBUG, format='%(levelname)s - %(message)s')\n",
    "\n",
    "def complex_calculation(x, y):\n",
    "    logging.debug(f\"Performing complex calculation with inputs: {x}, {y}\")\n",
    "    result = x + y\n",
    "    logging.debug(f\"Calculation result: {result}\")\n",
    "    return result\n",
    "\n",
    "complex_calculation(10, 5)"
   ]
  },
  {
   "cell_type": "code",
   "execution_count": 5,
   "metadata": {},
   "outputs": [
    {
     "name": "stderr",
     "output_type": "stream",
     "text": [
      "INFO - User 'john_doe' logged in successfully.\n"
     ]
    }
   ],
   "source": [
    "'''\n",
    "INFO: General information about the program's execution, typically used for reporting normal program behavior. \n",
    "      INFO messages are more detailed than DEBUG messages and provide insights into the application's state. \n",
    "'''\n",
    "# Example: General information about the program's execution.\n",
    "\n",
    "import logging\n",
    "logging.basicConfig(level=logging.INFO, format='%(levelname)s - %(message)s')\n",
    "\n",
    "def user_login(username):\n",
    "    logging.info(f\"User '{username}' logged in successfully.\")\n",
    "\n",
    "user_login(\"john_doe\")"
   ]
  },
  {
   "cell_type": "code",
   "execution_count": 6,
   "metadata": {},
   "outputs": [
    {
     "name": "stderr",
     "output_type": "stream",
     "text": [
      "WARNING - Received empty data. This may lead to unexpected behavior.\n"
     ]
    }
   ],
   "source": [
    "'''\n",
    "WARNING: Indicates a potential issue or a situation that might lead to an error in the future. \n",
    "         It doesn't necessarily require immediate attention, but it's essential to be aware of it.\n",
    "'''\n",
    "# Example: Indicate a potential issue that doesn't require immediate attention.\n",
    "\n",
    "import logging\n",
    "logging.basicConfig(level=logging.WARNING, format='%(levelname)s - %(message)s')\n",
    "\n",
    "def process_data(data):\n",
    "    if not data:\n",
    "        logging.warning(\"Received empty data. This may lead to unexpected behavior.\")\n",
    "    # Process the data\n",
    "\n",
    "process_data([])"
   ]
  },
  {
   "cell_type": "code",
   "execution_count": 7,
   "metadata": {},
   "outputs": [
    {
     "name": "stderr",
     "output_type": "stream",
     "text": [
      "ERROR - Error: Cannot divide by zero.\n"
     ]
    }
   ],
   "source": [
    "'''\n",
    "ERROR: Indicates an error that occurred during the execution of the program. \n",
    "       It may impact the program's functionality, but the program can potentially recover from it.\n",
    "'''\n",
    "# Example: Indicate an error that occurred during the execution of the program.\n",
    "import logging\n",
    "logging.basicConfig(level=logging.ERROR, format='%(levelname)s - %(message)s')\n",
    "\n",
    "def divide_numbers(x, y):\n",
    "    try:\n",
    "        result = x / y\n",
    "        logging.info(f\"Result of division: {result}\")\n",
    "    except ZeroDivisionError:\n",
    "        logging.error(\"Error: Cannot divide by zero.\")\n",
    "\n",
    "divide_numbers(10, 0)"
   ]
  },
  {
   "cell_type": "code",
   "execution_count": 8,
   "metadata": {},
   "outputs": [
    {
     "name": "stderr",
     "output_type": "stream",
     "text": [
      "CRITICAL - Critical system failure. Terminating the program.\n"
     ]
    }
   ],
   "source": [
    "'''\n",
    "CRITICAL: Indicates a critical error that prevents the program from continuing to run. \n",
    "          CRITICAL messages often lead to the termination of the program or the termination of \n",
    "          a critical process.\n",
    "'''\n",
    "# Example: Indicate a critical error that prevents the program from continuing to run.\n",
    "import logging\n",
    "logging.basicConfig(level=logging.CRITICAL, format='%(levelname)s - %(message)s')\n",
    "\n",
    "def critical_system_failure():\n",
    "    logging.critical(\"Critical system failure. Terminating the program.\")\n",
    "    # Take necessary actions for critical failure\n",
    "\n",
    "critical_system_failure()"
   ]
  },
  {
   "cell_type": "markdown",
   "metadata": {},
   "source": [
    "QUESTION 7"
   ]
  },
  {
   "cell_type": "code",
   "execution_count": null,
   "metadata": {},
   "outputs": [],
   "source": [
    "'''\n",
    "What are log formatters in Python logging, and how can you \n",
    "customise the log message format using formatters?\n",
    "'''"
   ]
  },
  {
   "cell_type": "code",
   "execution_count": 9,
   "metadata": {},
   "outputs": [
    {
     "name": "stderr",
     "output_type": "stream",
     "text": [
      "2024-02-04 20:32:53,776 - DEBUG - This is a debug message.\n",
      "DEBUG - This is a debug message.\n",
      "2024-02-04 20:32:53,779 - INFO - This is an info message.\n",
      "INFO - This is an info message.\n",
      "2024-02-04 20:32:53,783 - WARNING - This is a warning message.\n",
      "WARNING - This is a warning message.\n"
     ]
    }
   ],
   "source": [
    "'''\n",
    "In Python logging, a log formatter is an object that defines the layout and structure of log messages.\n",
    "It allows you to customize the appearance of log entries by specifying the format in which information\n",
    "such as timestamp, log level, and the actual log message should be presented. \n",
    "Formatters are associated with log handlers, and each handler can have its own formatter.\n",
    "The logging module provides a Formatter class that you can use to create custom log message formats.\n",
    "\n",
    "Here's a basic overview of some common format placeholders:\n",
    "\n",
    "%(asctime)s: The timestamp when the log record was created.\n",
    "%(levelname)s: The log level (e.g., INFO, WARNING, ERROR).\n",
    "%(message)s: The actual log message.\n",
    "'''\n",
    "import logging\n",
    "\n",
    "# Create a custom log formatter\n",
    "log_formatter = logging.Formatter('%(asctime)s - %(levelname)s - %(message)s')\n",
    "\n",
    "# Create a log handler (e.g., StreamHandler) and associate the formatter\n",
    "stream_handler = logging.StreamHandler()\n",
    "stream_handler.setFormatter(log_formatter)\n",
    "\n",
    "# Create a logger and add the handler\n",
    "logger = logging.getLogger('custom_logger')\n",
    "logger.addHandler(stream_handler)\n",
    "logger.setLevel(logging.DEBUG)\n",
    "\n",
    "# Example usage\n",
    "logger.debug(\"This is a debug message.\")\n",
    "logger.info(\"This is an info message.\")\n",
    "logger.warning(\"This is a warning message.\")\n"
   ]
  },
  {
   "cell_type": "markdown",
   "metadata": {},
   "source": [
    "QUESTION 8"
   ]
  },
  {
   "cell_type": "code",
   "execution_count": null,
   "metadata": {},
   "outputs": [],
   "source": [
    "'''\n",
    "How can you set up logging to capture log messages from multiple modules or\n",
    "classes in a Python application?\n",
    "'''"
   ]
  },
  {
   "cell_type": "code",
   "execution_count": null,
   "metadata": {},
   "outputs": [],
   "source": [
    "'''\n",
    "We can create a python script named __init__.py with the code inside a folder called logger\n",
    "Now put the following folder as a package and then \n",
    "\n",
    "-----------------------------------------------------------------------------------------\n",
    "import logging\n",
    "import os\n",
    "from datetime import datetime\n",
    "\n",
    "from from_root import from_root\n",
    "\n",
    "LOG_FILE = f\"{datetime.now().strftime('%m_%d_%Y_%H_%M_%S')}.log\" # Configure name of the log file\n",
    "logs_path = os.path.join(from_root(), \"logs\", LOG_FILE) # Configure the logs path\n",
    "\n",
    "os.makedirs(logs_path, exist_ok=True)\n",
    "\n",
    "LOG_FILE_PATH = os.path.join(logs_path, LOG_FILE)\n",
    "\n",
    "logging.basicConfig(\n",
    "    filename=LOG_FILE_PATH,\n",
    "    format=\"[ %(asctime)s ] %(name)s - %(levelname)s - %(message)s\",\n",
    "    level=logging.INFO,\n",
    ")\n",
    "-----------------------------------------------------------------------------------------\n",
    "\n",
    "Now this folder put inside any package with modules and classes (__init__ file) can use \n",
    "the logger by just importing the logger and all logs of INFO and above will be captured\n",
    "and put inside a dedicated logs folder with the timestamp as name of the log file\n",
    "'''"
   ]
  },
  {
   "cell_type": "markdown",
   "metadata": {},
   "source": [
    "QUESTION 9"
   ]
  },
  {
   "cell_type": "code",
   "execution_count": null,
   "metadata": {},
   "outputs": [],
   "source": [
    "'''\n",
    "What is the difference between the logging and print statements in Python? When\n",
    "should you use logging over print statements in a real-world application?\n",
    "'''"
   ]
  },
  {
   "cell_type": "code",
   "execution_count": null,
   "metadata": {},
   "outputs": [],
   "source": [
    "'''\n",
    "Differences between logging and print:\n",
    "\n",
    "Purpose:\n",
    "print: Primarily used for displaying information to the console during development and debugging.\n",
    "logging: Designed for emitting log messages for diagnostic purposes, debugging, and \n",
    "monitoring the application in various environments.\n",
    "\n",
    "Levels of Detail:\n",
    "print: Provides a straightforward way to display information, but it lacks the ability to control \n",
    "the verbosity of output.\n",
    "logging: Offers different log levels (DEBUG, INFO, WARNING, ERROR, CRITICAL) to control the \n",
    "level of detail in log messages. This allows developers to filter and capture only relevant information \n",
    "based on the application's current state (e.g., debugging, production).\n",
    "\n",
    "Configuration and Customization:\n",
    "print: Limited configurability. Output goes to the console by default, and customization options are limited.\n",
    "logging: Configurable and extensible. Allows you to set up log handlers, formatters, and \n",
    "control where log messages go (e.g., console, files, external services). Custom loggers and \n",
    "formatters can be created for specific needs.\n",
    "\n",
    "Tracebacks and Exceptions:\n",
    "print: Does not capture tracebacks or exceptions by default.\n",
    "logging: Can be configured to capture tracebacks and exceptions, \n",
    "making it valuable for debugging and error tracking.\n",
    "'''\n",
    "\n",
    "'''\n",
    "When to use logging over print in a real-world application:\n",
    "Production Environment:-\n",
    "logging is preferable in a production environment where detailed debugging information should not \n",
    "be exposed to end-users. It allows you to log errors, warnings, and informational messages without \n",
    "cluttering the user interface.\n",
    "Granular Control:-\n",
    "When you need granular control over log levels, logging provides different levels to filter and \n",
    "capture messages based on their importance. This is especially valuable for distinguishing between \n",
    "debugging information and critical errors.\n",
    "Error Tracking:-\n",
    "For error tracking and monitoring, logging allows you to capture stack traces and detailed information \n",
    "about errors, making it easier to identify and fix issues.\n",
    "Integration with Libraries and Frameworks:-\n",
    "Many libraries and frameworks use the logging module for emitting log messages. \n",
    "Using logging in your application makes it easier to integrate with existing logging \n",
    "infrastructure in libraries and frameworks.\n",
    "'''"
   ]
  },
  {
   "cell_type": "markdown",
   "metadata": {},
   "source": [
    "QUESTION 10"
   ]
  },
  {
   "cell_type": "code",
   "execution_count": null,
   "metadata": {},
   "outputs": [],
   "source": [
    "'''\n",
    "Write a Python program that logs a message to a file named \"app.log\" with the\n",
    "following requirements:\n",
    "● The log message should be \"Hello, World!\"\n",
    "● The log level should be set to \"INFO.\"\n",
    "● The log file should append new log entries without overwriting previous ones.\n",
    "'''"
   ]
  },
  {
   "cell_type": "code",
   "execution_count": 10,
   "metadata": {},
   "outputs": [
    {
     "name": "stderr",
     "output_type": "stream",
     "text": [
      "INFO - Hello, World!\n"
     ]
    }
   ],
   "source": [
    "import logging\n",
    "\n",
    "LOG_FILE_NAME = \"app.log\"\n",
    "\n",
    "logging.basicConfig(\n",
    "    filename=LOG_FILE_NAME,\n",
    "    format=\"[ %(asctime)s ] %(name)s - %(levelname)s - %(message)s\",\n",
    "    level=logging.INFO,\n",
    "    filemode='a'\n",
    ")\n",
    "\n",
    "# Log the message\n",
    "logging.info(\"Hello, World!\")"
   ]
  },
  {
   "cell_type": "markdown",
   "metadata": {},
   "source": [
    "QUESTION 11"
   ]
  },
  {
   "cell_type": "code",
   "execution_count": null,
   "metadata": {},
   "outputs": [],
   "source": [
    "'''\n",
    "Create a Python program that logs an error message to the console and a file named\n",
    "\"errors.log\" if an exception occurs during the program's execution. The error\n",
    "message should include the exception type and a timestamp.\n",
    "'''"
   ]
  },
  {
   "cell_type": "code",
   "execution_count": 11,
   "metadata": {},
   "outputs": [
    {
     "name": "stderr",
     "output_type": "stream",
     "text": [
      "ERROR - Exception Type: ZeroDivisionError, Message: division by zero\n"
     ]
    }
   ],
   "source": [
    "import logging\n",
    "import traceback\n",
    "from datetime import datetime\n",
    "\n",
    "def main():\n",
    "    try:\n",
    "        # Your program logic that may raise an exception\n",
    "        result = 10 / 0\n",
    "    except Exception as e:\n",
    "        # Log the exception\n",
    "        log_exception(e)\n",
    "\n",
    "def log_exception(exception):\n",
    "    # Configure the logging system\n",
    "    logging.basicConfig(\n",
    "        level=logging.ERROR,  # Set log level to ERROR\n",
    "        format='%(asctime)s - %(levelname)s - %(message)s',  # Define log message format\n",
    "    )\n",
    "\n",
    "    # Log the exception to the console\n",
    "    logging.error(f\"Exception Type: {type(exception).__name__}, Message: {str(exception)}\")\n",
    "\n",
    "    # Log the exception to the errors.log file with timestamp\n",
    "    timestamp = datetime.now().strftime(\"%Y-%m-%d %H:%M:%S\")\n",
    "    error_message = f\"{timestamp} - Exception Type: {type(exception).__name__}, Message: {str(exception)}\"\n",
    "\n",
    "    with open(\"errors.log\", \"a\") as error_file:\n",
    "        error_file.write(error_message + \"\\n\")\n",
    "\n",
    "if __name__ == \"__main__\":\n",
    "    main()\n"
   ]
  },
  {
   "cell_type": "code",
   "execution_count": null,
   "metadata": {},
   "outputs": [],
   "source": []
  }
 ],
 "metadata": {
  "kernelspec": {
   "display_name": "Python 3",
   "language": "python",
   "name": "python3"
  },
  "language_info": {
   "codemirror_mode": {
    "name": "ipython",
    "version": 3
   },
   "file_extension": ".py",
   "mimetype": "text/x-python",
   "name": "python",
   "nbconvert_exporter": "python",
   "pygments_lexer": "ipython3",
   "version": "3.8.17"
  }
 },
 "nbformat": 4,
 "nbformat_minor": 2
}
