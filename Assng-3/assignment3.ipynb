{
 "cells": [
  {
   "attachments": {},
   "cell_type": "markdown",
   "metadata": {},
   "source": [
    "QUESTION 1"
   ]
  },
  {
   "cell_type": "code",
   "execution_count": 22,
   "metadata": {},
   "outputs": [],
   "source": [
    "'''\n",
    "1. Why are functions advantageous to have in your programs?\n",
    "'''\n",
    "pass"
   ]
  },
  {
   "cell_type": "code",
   "execution_count": 23,
   "metadata": {},
   "outputs": [],
   "source": [
    "'''\n",
    "Answer:-\n",
    "\n",
    "Code Duplication Reduction\n",
    "Using functions we can avoid rewriting the same logic or code again and again in a program.\n",
    "\n",
    "a = a+b\n",
    "b = c+d\n",
    "k = m+n\n",
    "p = j+r\n",
    "\n",
    "The above logic can bebe implemented as\n",
    "def add(a,b):\n",
    "    return a+b\n",
    "\n",
    "a = add(a,b)\n",
    "b = add(c,d)\n",
    "k = add(m,n)\n",
    "p = add(j,r)\n",
    "\n",
    "Code Reusability\n",
    "We can call python functions as many times as we want so this helps to keeps the \n",
    "code more readable and easier to maintain.\n",
    "We can break down big problems into smaller sub problems using functions which \n",
    "help usto track the large Python program easily.\n",
    "\n",
    "def functionality():\n",
    "  #feature1 code lines...........\n",
    "\n",
    "  #feature2 code lines...........\n",
    "\n",
    "  #feature3 code lines...........\n",
    "\n",
    "  #feature4 code lines...........\n",
    "\n",
    "  \n",
    "Can be implemented as\n",
    "def feature1():\n",
    "    code lines.......\n",
    "\n",
    "def feature2():\n",
    "    code lines.......\n",
    "\n",
    "def feature3():\n",
    "    code lines.......\n",
    "\n",
    "def feature4():\n",
    "    code lines.......\n",
    "\n",
    "def functionality():\n",
    "    feature1()\n",
    "    feature2()\n",
    "    feature3()\n",
    "    feature4()\n",
    "'''\n",
    "pass"
   ]
  },
  {
   "attachments": {},
   "cell_type": "markdown",
   "metadata": {},
   "source": [
    "QUESTION 2"
   ]
  },
  {
   "cell_type": "code",
   "execution_count": 24,
   "metadata": {},
   "outputs": [],
   "source": [
    "'''\n",
    "2. When does the code in a function run: when its specified or when its called?\n",
    "'''\n",
    "pass"
   ]
  },
  {
   "cell_type": "code",
   "execution_count": 25,
   "metadata": {},
   "outputs": [
    {
     "name": "stdout",
     "output_type": "stream",
     "text": [
      "15\n"
     ]
    }
   ],
   "source": [
    "'''\n",
    "Answer:-\n",
    "By specifying code the meaning is defining the function\n",
    "When a function is defined it is not executed\n",
    "After the function definition is over it can be called, it is at that time the code inside the function is executed.\n",
    "'''\n",
    "\n",
    "#Function definition/specification -> Not Executed\n",
    "def add(a,b):\n",
    "    sum = a+b\n",
    "    return sum\n",
    "\n",
    "sumres = add(5,10) #Funtion Calling -> Execution\n",
    "print(sumres) #output is returned as 15\n"
   ]
  },
  {
   "attachments": {},
   "cell_type": "markdown",
   "metadata": {},
   "source": [
    "QUESTION 3"
   ]
  },
  {
   "cell_type": "code",
   "execution_count": 26,
   "metadata": {},
   "outputs": [],
   "source": [
    "'''\n",
    "3. What statement creates a function?\n",
    "'''\n",
    "pass"
   ]
  },
  {
   "cell_type": "code",
   "execution_count": 27,
   "metadata": {},
   "outputs": [],
   "source": [
    "'''\n",
    "Answer:-\n",
    "In Python we use def keyword to create a function\n",
    "for e.g.\n",
    "'''\n",
    "def add(a,b):\n",
    "    sum = a+b\n",
    "    return sum\n"
   ]
  },
  {
   "attachments": {},
   "cell_type": "markdown",
   "metadata": {},
   "source": [
    "QUESTION 4"
   ]
  },
  {
   "cell_type": "code",
   "execution_count": 28,
   "metadata": {},
   "outputs": [],
   "source": [
    "'''\n",
    "4. What is the difference between a function and a function call?\n",
    "'''\n",
    "pass"
   ]
  },
  {
   "cell_type": "code",
   "execution_count": 29,
   "metadata": {},
   "outputs": [],
   "source": [
    "'''\n",
    "Answer:-\n",
    "\n",
    "A function is a block of code that does a particular operation and returns a result. \n",
    "It usually accepts inputs as parameters and returns a result. The parameters are not mandatory.\n",
    "\n",
    "e.g:\n",
    "def add(a,b):\n",
    "    return a+b\n",
    "\n",
    "A function call is the code used to pass control to a function so that it gets executed.\n",
    "e.g.:\n",
    "b = add(50,6) \n",
    "Now b will have the value 56\n",
    "'''\n",
    "pass"
   ]
  },
  {
   "attachments": {},
   "cell_type": "markdown",
   "metadata": {},
   "source": [
    "\n",
    "QUESTION 5"
   ]
  },
  {
   "cell_type": "code",
   "execution_count": 30,
   "metadata": {},
   "outputs": [],
   "source": [
    "'''\n",
    "5. How many global scopes are there in a Python program? How many local scopes?\n",
    "'''\n",
    "pass"
   ]
  },
  {
   "cell_type": "code",
   "execution_count": 31,
   "metadata": {},
   "outputs": [],
   "source": [
    "'''\n",
    "Answer:-\n",
    "Local (or function) scope is the code block or body of any Python function or lambda expression. \n",
    "a. Each function call will result in a new local scope being created, not at function definition, \n",
    "   so you'll have as many different local scopes as function calls.\n",
    "b. This Python scope contains the names that you define inside the function. \n",
    "c. These names will only be visible from the code of the function. \n",
    "d. This is true even if you call the same function multiple times, or recursively. \n",
    "\n",
    "\n",
    "Global (or module) scope is the top-most scope in a Python program, script, or module.\n",
    "a. There's only one global Python scope per program execution. \n",
    "   This scope remains in existence until the program terminates and all its names are forgotten.\n",
    "b. From the moment you start a Python program, you're in the global Python scope.\n",
    "c. This Python scope contains all of the names that you define at the top level of a program or a module.\n",
    "d. Names in this Python scope are visible from everywhere in your code.\n",
    "'''\n",
    "pass"
   ]
  },
  {
   "attachments": {},
   "cell_type": "markdown",
   "metadata": {},
   "source": [
    "QUESTION 6"
   ]
  },
  {
   "cell_type": "code",
   "execution_count": 32,
   "metadata": {},
   "outputs": [],
   "source": [
    "'''\n",
    "6. What happens to variables in a local scope when the function call returns?\n",
    "'''\n",
    "pass"
   ]
  },
  {
   "cell_type": "code",
   "execution_count": 33,
   "metadata": {},
   "outputs": [],
   "source": [
    "'''\n",
    "Amswer:-\n",
    "When a funtion returns then it's execution terminates so the local scope is destroyed \n",
    "and all the local variables are forgotten.\n",
    "'''\n",
    "pass"
   ]
  },
  {
   "attachments": {},
   "cell_type": "markdown",
   "metadata": {},
   "source": [
    "QUESTION 7"
   ]
  },
  {
   "cell_type": "code",
   "execution_count": 34,
   "metadata": {},
   "outputs": [],
   "source": [
    "'''\n",
    "7. What is the concept of a return value? Is it possible to have a return value in an expression?\n",
    "'''\n",
    "pass"
   ]
  },
  {
   "cell_type": "code",
   "execution_count": 35,
   "metadata": {},
   "outputs": [
    {
     "name": "stdout",
     "output_type": "stream",
     "text": [
      "42\n"
     ]
    },
    {
     "data": {
      "text/plain": [
       "[2, 4, 6]"
      ]
     },
     "execution_count": 35,
     "metadata": {},
     "output_type": "execute_result"
    }
   ],
   "source": [
    "'''\n",
    "The value that a function returns to the caller is generally known as the function's return value.\n",
    "You can use the return statement to make your functions send Python objects back to the caller code.\n",
    "'''\n",
    "def return_42():\n",
    "    return 42  # return statement that returns a value equal to 42\n",
    "\n",
    "print(return_42())  # The caller code gets the value 42 and prints it\n",
    "\n",
    "\n",
    "'''\n",
    "Yes it is possible to have a return value in an expression.\n",
    "Example:\n",
    "'''\n",
    "def get_even(numbers):\n",
    "    return [num for num in numbers if not num % 2] # return a value in an expression\n",
    "get_even([1, 2, 3, 4, 5, 6])\n"
   ]
  },
  {
   "attachments": {},
   "cell_type": "markdown",
   "metadata": {},
   "source": [
    "QUESTION 8"
   ]
  },
  {
   "cell_type": "code",
   "execution_count": 36,
   "metadata": {},
   "outputs": [],
   "source": [
    "'''\n",
    "8. If a function does not have a return statement, what is the return value of a call to that function?\n",
    "'''\n",
    "pass"
   ]
  },
  {
   "cell_type": "code",
   "execution_count": 37,
   "metadata": {},
   "outputs": [
    {
     "name": "stdout",
     "output_type": "stream",
     "text": [
      "None\n"
     ]
    }
   ],
   "source": [
    "'''\n",
    "Answer:-\n",
    "Every function in Python returns something. If the function doesn't have any return statement, then it returns None\n",
    "'''\n",
    "def add(a,b):\n",
    "    res = a+b\n",
    "\n",
    "print(add(5,2)) # Returns None and prints it\n"
   ]
  },
  {
   "attachments": {},
   "cell_type": "markdown",
   "metadata": {},
   "source": [
    "QUESTION 9"
   ]
  },
  {
   "cell_type": "code",
   "execution_count": 38,
   "metadata": {},
   "outputs": [],
   "source": [
    "'''\n",
    "9. How do you make a function variable refer to the global variable?\n",
    "'''\n",
    "pass"
   ]
  },
  {
   "cell_type": "code",
   "execution_count": 39,
   "metadata": {},
   "outputs": [
    {
     "name": "stdout",
     "output_type": "stream",
     "text": [
      "Hey Python Hello\n",
      "Hey Python Hi\n",
      "\n",
      "Hey Python Hello\n",
      "Hey Python Hello\n"
     ]
    }
   ],
   "source": [
    "'''\n",
    "If you create a variable with the same name inside a function, \n",
    "this variable will be local, and can only be used inside the function. \n",
    "The global variable with the same name will remain as it was, global and with the original value.\n",
    "'''\n",
    "str = \"Hi\"\n",
    "def myfunc():\n",
    "  str = \"Hello\"\n",
    "  print(\"Hey Python \" + str)\n",
    "\n",
    "myfunc()\n",
    "print(\"Hey Python \" + str)\n",
    "\n",
    "\n",
    "print()\n",
    "'''\n",
    "To create a global variable inside a function or to refer to the global variable, you can use the global keyword.\n",
    "'''\n",
    "\n",
    "str = \"Hi\"\n",
    "def myfunc():\n",
    "  global str\n",
    "  str = \"Hello\"\n",
    "  print(\"Hey Python \" + str)\n",
    "\n",
    "myfunc()\n",
    "print(\"Hey Python \" + str)"
   ]
  },
  {
   "attachments": {},
   "cell_type": "markdown",
   "metadata": {},
   "source": [
    "QUESTION 10"
   ]
  },
  {
   "cell_type": "code",
   "execution_count": 40,
   "metadata": {},
   "outputs": [],
   "source": [
    "''' \n",
    "10. What is the data type of None?\n",
    "'''\n",
    "pass"
   ]
  },
  {
   "cell_type": "code",
   "execution_count": 41,
   "metadata": {},
   "outputs": [],
   "source": [
    "'''\n",
    "Answer:-\n",
    "The None keyword is used to define a null value, or no value at all. \n",
    "None is not the same as 0, False, or an empty string. \n",
    "None is a data type of its own NoneType and only None can be None.\n",
    "'''\n",
    "pass"
   ]
  },
  {
   "attachments": {},
   "cell_type": "markdown",
   "metadata": {},
   "source": [
    "QUESTION 11"
   ]
  },
  {
   "cell_type": "code",
   "execution_count": 42,
   "metadata": {},
   "outputs": [],
   "source": [
    "'''\n",
    "11. What does the sentence import areallyourpetsnamederic do?\n",
    "'''\n",
    "pass"
   ]
  },
  {
   "cell_type": "code",
   "execution_count": 43,
   "metadata": {},
   "outputs": [
    {
     "data": {
      "text/plain": [
       "'\\nAnswer:-\\nThat import statement imports a module named areallyourpetsnamederic\\n'"
      ]
     },
     "execution_count": 43,
     "metadata": {},
     "output_type": "execute_result"
    }
   ],
   "source": [
    "'''\n",
    "Answer:-\n",
    "That import statement imports a module named areallyourpetsnamederic\n",
    "'''"
   ]
  },
  {
   "attachments": {},
   "cell_type": "markdown",
   "metadata": {},
   "source": [
    "QUESTION 12"
   ]
  },
  {
   "cell_type": "code",
   "execution_count": 44,
   "metadata": {},
   "outputs": [],
   "source": [
    "'''\n",
    "12. If you had a bacon() feature in a spam module, what would you call it after importing spam?\n",
    "'''\n",
    "pass"
   ]
  },
  {
   "cell_type": "code",
   "execution_count": 45,
   "metadata": {},
   "outputs": [],
   "source": [
    "'''\n",
    "Answer:-\n",
    "This function can be called with spam.bacon()\n",
    "\n",
    "import spam\n",
    "....\n",
    "....\n",
    " spam.bacon()\n",
    "\n",
    "'''\n",
    "pass"
   ]
  },
  {
   "attachments": {},
   "cell_type": "markdown",
   "metadata": {},
   "source": [
    "QUESTION 13"
   ]
  },
  {
   "cell_type": "code",
   "execution_count": 46,
   "metadata": {},
   "outputs": [],
   "source": [
    "'''\n",
    "13. What can you do to save a programme from crashing if it encounters an error?\n",
    "'''\n",
    "pass"
   ]
  },
  {
   "cell_type": "code",
   "execution_count": 47,
   "metadata": {},
   "outputs": [],
   "source": [
    "'''\n",
    "Answer:-\n",
    "Catching and Handling Exceptions\n",
    "If you have a block of code that might fail, you can manage any exceptions \n",
    "by placing this code in a try: … except: … block:\n",
    "'''\n",
    "try:\n",
    "    x = int(input(\"Please enter a number: \"))\n",
    "    y = 100 / x\n",
    "except ValueError:\n",
    "    print(\"Error: Wrong Value entered.\")\n",
    "except ZeroDivisionError:\n",
    "    print(\"Error: 0 is an invalid number.\")\n",
    "except Exception as e:\n",
    "    raise e\n"
   ]
  },
  {
   "attachments": {},
   "cell_type": "markdown",
   "metadata": {},
   "source": [
    "QUESTION 14"
   ]
  },
  {
   "cell_type": "code",
   "execution_count": 48,
   "metadata": {},
   "outputs": [],
   "source": [
    "'''\n",
    "14. What is the purpose of the try clause? What is the purpose of the except clause?\n",
    "'''\n",
    "pass"
   ]
  },
  {
   "cell_type": "code",
   "execution_count": 49,
   "metadata": {},
   "outputs": [],
   "source": [
    "'''\n",
    "Answer:-\n",
    "\n",
    "The try and except block in Python is used to catch and handle exceptions. \n",
    "\n",
    "Python executes code following the try statement as a “normal” part of the program. \n",
    "\n",
    "The code that follows the except statement is the program's response to any exceptions in the preceding try clause.\n",
    "'''\n",
    "\n",
    "try:\n",
    "    x = int(input(\"Please enter a number: \"))\n",
    "    y = 100 / x\n",
    "except Exception as e:\n",
    "    raise e"
   ]
  },
  {
   "cell_type": "code",
   "execution_count": null,
   "metadata": {},
   "outputs": [],
   "source": []
  },
  {
   "cell_type": "code",
   "execution_count": null,
   "metadata": {},
   "outputs": [],
   "source": []
  }
 ],
 "metadata": {
  "kernelspec": {
   "display_name": "gendev",
   "language": "python",
   "name": "python3"
  },
  "language_info": {
   "codemirror_mode": {
    "name": "ipython",
    "version": 3
   },
   "file_extension": ".py",
   "mimetype": "text/x-python",
   "name": "python",
   "nbconvert_exporter": "python",
   "pygments_lexer": "ipython3",
   "version": "3.8.13"
  },
  "orig_nbformat": 4
 },
 "nbformat": 4,
 "nbformat_minor": 2
}
