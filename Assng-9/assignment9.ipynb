{
 "cells": [
  {
   "cell_type": "markdown",
   "metadata": {},
   "source": [
    "11th June - Python (Functions Assignment) - 1"
   ]
  },
  {
   "cell_type": "markdown",
   "metadata": {},
   "source": [
    "QUESTION 1"
   ]
  },
  {
   "cell_type": "code",
   "execution_count": null,
   "metadata": {},
   "outputs": [],
   "source": [
    "'''\n",
    "1. What is a lambda function in Python, and how does it differ from a regular function?\n",
    "'''"
   ]
  },
  {
   "cell_type": "markdown",
   "metadata": {},
   "source": [
    "ANSWER"
   ]
  },
  {
   "cell_type": "code",
   "execution_count": 2,
   "metadata": {},
   "outputs": [
    {
     "name": "stdout",
     "output_type": "stream",
     "text": [
      "7\n",
      "7\n"
     ]
    },
    {
     "data": {
      "text/plain": [
       "[2, 4, 6, 8, 10]"
      ]
     },
     "execution_count": 2,
     "metadata": {},
     "output_type": "execute_result"
    }
   ],
   "source": [
    "'''\n",
    "A lambda function is an anonymous function (i.e., defined without a name) that can take any number of \n",
    "arguments but, unlike normal functions, evaluates and returns only one expression.\n",
    "A lambda function in Python has the following syntax:\n",
    "lambda parameters: expression\n",
    "\n",
    "The anatomy of a lambda function includes three elements:\n",
    "The keyword lambda — an analog of def in normal functions\n",
    "The parameters — support passing positional and keyword\n",
    "arguments, just like normal functions\n",
    "The body — the expression for given parameters being evaluated\n",
    "with the lambda function\n",
    "\n",
    "\n",
    "Lambda functions are different from regular functions in the following ways:\n",
    "\n",
    "Anonymous: Lambda functions are anonymous, which means they don't have a name. \n",
    "Single Expression: Lambda functions can only contain a single expression. \n",
    "                   This expression is evaluated and returned as the result of the function, i.e. \n",
    "                   Lambda functions evaluates and return only one expression\n",
    "Definition: Lambda function are declared using lambda keyword unlike normal functions with def keyword\n",
    "'''\n",
    "# A normal function which increments a value passed by 3 and returns it\n",
    "def increment_by_one(x):\n",
    "    return x + 3\n",
    "print(increment_by_one(4))\n",
    "\n",
    "# Corresponding function as a lambda function\n",
    "print((lambda x: x + 3)(4))\n",
    "\n",
    "'''\n",
    "Useful usage of lambda function :-\n",
    "For example, say I have a list such as [1, 2, 3, 4, 5, 6, 7, 8, 9, 10]. \n",
    "Now let's say that I'm only interested in those values in that list that have a remainder of 0 when divided by 2. \n",
    "I can make use of filter() and a lambda function.\n",
    "'''\n",
    "# Use the lambda function to create the expression I want to derive like this\n",
    "lambda x: x % 2 == 0\n",
    "\n",
    "#T hen insert it into the filter function and use list to list out my result\n",
    "list1 = [1, 2, 3, 4, 5, 6, 7, 8, 9, 10]\n",
    "list(filter(lambda x: x % 2 == 0, list1))"
   ]
  },
  {
   "cell_type": "markdown",
   "metadata": {},
   "source": [
    "QUESTION 2"
   ]
  },
  {
   "cell_type": "code",
   "execution_count": null,
   "metadata": {},
   "outputs": [],
   "source": [
    "'''\n",
    "Can a lambda function in Python have multiple arguments? If yes, how can you define and use them?\n",
    "'''"
   ]
  },
  {
   "cell_type": "markdown",
   "metadata": {},
   "source": [
    "ANSWER"
   ]
  },
  {
   "cell_type": "code",
   "execution_count": 1,
   "metadata": {},
   "outputs": [
    {
     "name": "stdout",
     "output_type": "stream",
     "text": [
      "8\n"
     ]
    }
   ],
   "source": [
    "'''\n",
    "Yes, a lambda function in Python can have multiple arguments.\n",
    "'''\n",
    "# Lambda function with two arguments\n",
    "add = lambda x, y: x + y\n",
    "\n",
    "# Using the lambda function\n",
    "result = add(3, 5)\n",
    "print(result)  # Output: 8\n"
   ]
  },
  {
   "cell_type": "markdown",
   "metadata": {},
   "source": [
    "QUESTION 3"
   ]
  },
  {
   "cell_type": "code",
   "execution_count": null,
   "metadata": {},
   "outputs": [],
   "source": [
    "'''\n",
    "How are lambda functions typically used in Python? Provide an example use case.\n",
    "'''"
   ]
  },
  {
   "cell_type": "markdown",
   "metadata": {},
   "source": [
    "ANSWER"
   ]
  },
  {
   "cell_type": "code",
   "execution_count": 3,
   "metadata": {},
   "outputs": [
    {
     "name": "stdout",
     "output_type": "stream",
     "text": [
      "[('Bob', 85), ('Alice', 90), ('Charlie', 92)]\n",
      "[2, 4, 6, 8]\n",
      "[1, 4, 9, 16, 25]\n",
      "120\n",
      "7\n",
      "1 -2 3 -4 5 "
     ]
    }
   ],
   "source": [
    "'''\n",
    "Lambda functions in Python are typically used for short, simple operations where a full function definition \n",
    "would be overkill. They are often employed in situations where a small anonymous function is needed.\n",
    "'''\n",
    "\n",
    "# Use Cases\n",
    "# 1. Sorting Lists with Custom Keys\n",
    "students = [('Alice', 90), ('Bob', 85), ('Charlie', 92)]\n",
    "sorted_students = sorted(students, key=lambda x: x[1])\n",
    "print(sorted_students)\n",
    "\n",
    "# 2. Filtering Lists with the filter() Function\n",
    "numbers = [1, 2, 3, 4, 5, 6, 7, 8, 9]\n",
    "even_numbers = list(filter(lambda x: x % 2 == 0, numbers))\n",
    "print(even_numbers)\n",
    "\n",
    "# 3. Applying Transformations with the map() Function\n",
    "numbers = [1, 2, 3, 4, 5]\n",
    "squares = list(map(lambda x: x**2, numbers))\n",
    "print(squares)\n",
    "\n",
    "# 4. Using Lambda Functions with functools.reduce()\n",
    "from functools import reduce\n",
    "numbers = [1, 2, 3, 4, 5]\n",
    "product = reduce(lambda x, y: x * y, numbers)\n",
    "print(product)\n",
    "\n",
    "#5. Creating Small, One-Time-Use Functions\n",
    "max_value = (lambda x, y: x if x > y else y)(5, 7)\n",
    "print(max_value)\n",
    "\n",
    "#6. Implementing Custom Comparison Functions for Data Structures\n",
    "# Example: Create a min-heap based on the absolute value of numbers\n",
    "import heapq\n",
    "numbers = [1, -2, 3, -4, 5]\n",
    "heap = []\n",
    "for number in numbers:\n",
    "    heapq.heappush(heap, (lambda x: (abs(x), x))(number))\n",
    " \n",
    "while heap:\n",
    "    print(heapq.heappop(heap)[1], end=\" \")"
   ]
  },
  {
   "cell_type": "markdown",
   "metadata": {},
   "source": [
    "QUESTION 4"
   ]
  },
  {
   "cell_type": "code",
   "execution_count": null,
   "metadata": {},
   "outputs": [],
   "source": [
    "'''\n",
    "What are the advantages and limitations of lambda functions compared to regular functions in Python?\n",
    "'''"
   ]
  },
  {
   "cell_type": "markdown",
   "metadata": {},
   "source": [
    "ANSWER"
   ]
  },
  {
   "cell_type": "code",
   "execution_count": null,
   "metadata": {},
   "outputs": [],
   "source": [
    "'''\n",
    "Advantages of Lambda Functions:-\n",
    "1. Lambda functions are more concise than regular functions.\n",
    "2. Lambda functions are anonymous, meaning they don't require a formal name. \n",
    "3. Define quick operations on the fly.\n",
    "\n",
    "Limitations of Lambda Functions:-\n",
    "1. Lambda functions are restricted to a single expression. They can't contain multiple statements \n",
    "   or complex logic.\n",
    "2. While lambda functions can be concise, they may sacrifice readability when the operation \n",
    "   becomes a bit complex.\n",
    "3. Lambda functions can only contain expressions, not statements. This means you can't use assignments \n",
    "   or other statements within a lambda function.\n",
    "'''"
   ]
  },
  {
   "cell_type": "markdown",
   "metadata": {},
   "source": [
    "QUESTION 5"
   ]
  },
  {
   "cell_type": "code",
   "execution_count": null,
   "metadata": {},
   "outputs": [],
   "source": [
    "'''\n",
    "Are lambda functions in Python able to access variables defined outside of their own scope?\n",
    "Explain with an example.\n",
    "'''"
   ]
  },
  {
   "cell_type": "markdown",
   "metadata": {},
   "source": [
    "ANSWER"
   ]
  },
  {
   "cell_type": "code",
   "execution_count": null,
   "metadata": {},
   "outputs": [],
   "source": [
    "'''\n",
    "Yes, lambda functions in Python can access variables defined outside their own scope. \n",
    "This is possible due to a concept called \"closure,\" which allows lambda functions to retain \n",
    "access to the values of variables in their containing scope even after the containing function \n",
    "has finished execution.\n",
    "'''\n",
    "def outer_function(x):\n",
    "    # Define a variable in the outer scope\n",
    "    y = 10\n",
    "\n",
    "    # Define a lambda function that uses the variable 'y' from the outer scope\n",
    "    inner_lambda = lambda z: x + y + z\n",
    "\n",
    "    # Return the lambda function\n",
    "    return inner_lambda\n",
    "\n",
    "# Create a lambda function by calling the outer function\n",
    "my_lambda = outer_function(5)\n",
    "\n",
    "# Use the lambda function\n",
    "result = my_lambda(3)\n",
    "print(result)  # Output: 18 (5 + 10 + 3)\n",
    "\n",
    "'''\n",
    "In this example, the outer_function takes a parameter x and defines a variable y in its own scope. \n",
    "Inside outer_function, a lambda function (inner_lambda) is defined, which uses both the parameter x \n",
    "and the variable y from the outer scope. When outer_function is called with the argument 5, \n",
    "it returns the lambda function.\n",
    "\n",
    "The returned lambda function, my_lambda, still retains access to the values of x and y from \n",
    "its original scope, even though that scope is technically outside of the lambda function itself. \n",
    "When my_lambda is called with the argument 3, it uses the values of x (which is 5) and y (which is 10) \n",
    "from its original scope, resulting in the output 18.\n",
    "\n",
    "This ability to capture and remember values from the enclosing scope is a key characteristic of closures, \n",
    "and it allows lambda functions to be used effectively in situations where they need to carry \n",
    "some state or context with them.\n",
    "'''"
   ]
  },
  {
   "cell_type": "markdown",
   "metadata": {},
   "source": [
    "QUESTION 6"
   ]
  },
  {
   "cell_type": "code",
   "execution_count": null,
   "metadata": {},
   "outputs": [],
   "source": [
    "'''\n",
    "Write a lambda function to calculate the square of a given number.\n",
    "'''"
   ]
  },
  {
   "cell_type": "markdown",
   "metadata": {},
   "source": [
    "ANSWER"
   ]
  },
  {
   "cell_type": "code",
   "execution_count": 5,
   "metadata": {},
   "outputs": [
    {
     "name": "stdout",
     "output_type": "stream",
     "text": [
      "The square of 4 is = 16\n"
     ]
    }
   ],
   "source": [
    "square = lambda x: x**2\n",
    "\n",
    "number = 4\n",
    "result = square(number)\n",
    "print(f\"The square of {number} is = {result}\")\n"
   ]
  },
  {
   "cell_type": "markdown",
   "metadata": {},
   "source": [
    "QUESTION 7"
   ]
  },
  {
   "cell_type": "code",
   "execution_count": null,
   "metadata": {},
   "outputs": [],
   "source": [
    "'''\n",
    "Create a lambda function to find the maximum value in a list of integers.\n",
    "'''"
   ]
  },
  {
   "cell_type": "markdown",
   "metadata": {},
   "source": [
    "ANSWER"
   ]
  },
  {
   "cell_type": "code",
   "execution_count": 6,
   "metadata": {},
   "outputs": [
    {
     "name": "stdout",
     "output_type": "stream",
     "text": [
      "The maximum value in the list is: 23\n"
     ]
    }
   ],
   "source": [
    "find_max = lambda lst: max(lst)\n",
    "numbers = [12, 5, 23, 8, 19]\n",
    "max_value = find_max(numbers)\n",
    "print(f\"The maximum value in the list is: {max_value}\")"
   ]
  },
  {
   "cell_type": "markdown",
   "metadata": {},
   "source": [
    "QUESTION 8"
   ]
  },
  {
   "cell_type": "code",
   "execution_count": null,
   "metadata": {},
   "outputs": [],
   "source": [
    "'''\n",
    "Implement a lambda function to filter out all the even numbers from a list of integers.\n",
    "'''"
   ]
  },
  {
   "cell_type": "markdown",
   "metadata": {},
   "source": [
    "ANSWER"
   ]
  },
  {
   "cell_type": "code",
   "execution_count": 8,
   "metadata": {},
   "outputs": [
    {
     "name": "stdout",
     "output_type": "stream",
     "text": [
      "Original list: [1, 2, 3, 4, 5, 6, 7, 8, 9, 10]\n",
      "List after filtering out even numbers: [1, 3, 5, 7, 9]\n"
     ]
    }
   ],
   "source": [
    "numbers = [1, 2, 3, 4, 5, 6, 7, 8, 9, 10]\n",
    "\n",
    "# Lambda function to filter out even numbers\n",
    "filter_even = lambda x: x % 2 != 0\n",
    "\n",
    "# Use filter() with the lambda function\n",
    "filtered_numbers = list(filter(filter_even, numbers))\n",
    "print(\"Original list:\", numbers)\n",
    "print(\"List after filtering out even numbers:\", filtered_numbers)\n"
   ]
  },
  {
   "cell_type": "markdown",
   "metadata": {},
   "source": [
    "QUESTION 9"
   ]
  },
  {
   "cell_type": "code",
   "execution_count": null,
   "metadata": {},
   "outputs": [],
   "source": [
    "'''\n",
    "Write a lambda function to sort a list of strings in ascending order based on the length of each string.\n",
    "'''"
   ]
  },
  {
   "cell_type": "markdown",
   "metadata": {},
   "source": [
    "ANSWER"
   ]
  },
  {
   "cell_type": "code",
   "execution_count": 9,
   "metadata": {},
   "outputs": [
    {
     "name": "stdout",
     "output_type": "stream",
     "text": [
      "Original list: ['car', 'apple', 'cupboard', 'television', 'smartphone']\n",
      "Sorted list by length: ['car', 'apple', 'cupboard', 'television', 'smartphone']\n"
     ]
    }
   ],
   "source": [
    "strings_list = [\"car\", \"apple\", \"cupboard\", \"television\", \"smartphone\"]\n",
    "# Lambda function to sort strings based on their length\n",
    "sorted_by_length = sorted(strings_list, key=lambda x: len(x))\n",
    "\n",
    "print(\"Original list:\", strings_list)\n",
    "print(\"Sorted list by length:\", sorted_by_length)\n"
   ]
  },
  {
   "cell_type": "markdown",
   "metadata": {},
   "source": [
    "QUESTION 10"
   ]
  },
  {
   "cell_type": "code",
   "execution_count": null,
   "metadata": {},
   "outputs": [],
   "source": [
    "'''\n",
    "Create a lambda function that takes two lists as input and returns a new list containing the\n",
    "common elements between the two lists.\n",
    "'''"
   ]
  },
  {
   "cell_type": "markdown",
   "metadata": {},
   "source": [
    "ANSWER"
   ]
  },
  {
   "cell_type": "code",
   "execution_count": 10,
   "metadata": {},
   "outputs": [
    {
     "name": "stdout",
     "output_type": "stream",
     "text": [
      "List 1: [1, 2, 3, 4, 5]\n",
      "List 2: [3, 4, 5, 6, 7]\n",
      "Common elements: [3, 4, 5]\n"
     ]
    }
   ],
   "source": [
    "list1 = [1, 2, 3, 4, 5]\n",
    "list2 = [3, 4, 5, 6, 7]\n",
    "\n",
    "# Lambda function to filter common elements between two lists\n",
    "common_elements = lambda x, y: list(filter(lambda element: element in y, x))\n",
    "\n",
    "result = common_elements(list1, list2)\n",
    "print(\"List 1:\", list1)\n",
    "print(\"List 2:\", list2)\n",
    "print(\"Common elements:\", result)"
   ]
  },
  {
   "cell_type": "markdown",
   "metadata": {},
   "source": [
    "QUESTION 11"
   ]
  },
  {
   "cell_type": "code",
   "execution_count": null,
   "metadata": {},
   "outputs": [],
   "source": [
    "'''\n",
    "Write a recursive function to calculate the factorial of a given positive integer.\n",
    "'''"
   ]
  },
  {
   "cell_type": "markdown",
   "metadata": {},
   "source": [
    "ANSWER"
   ]
  },
  {
   "cell_type": "code",
   "execution_count": 12,
   "metadata": {},
   "outputs": [
    {
     "name": "stdout",
     "output_type": "stream",
     "text": [
      "The factorial of 7 is: 5040\n"
     ]
    }
   ],
   "source": [
    "def factorial(n):\n",
    "    # Base case\n",
    "    if n == 0 or n == 1:\n",
    "        return 1\n",
    "    else:\n",
    "        return n * factorial(n-1)\n",
    "\n",
    "number = 7\n",
    "result = factorial(number)\n",
    "print(f\"The factorial of {number} is: {result}\")"
   ]
  },
  {
   "cell_type": "markdown",
   "metadata": {},
   "source": [
    "QUESTION 12"
   ]
  },
  {
   "cell_type": "code",
   "execution_count": null,
   "metadata": {},
   "outputs": [],
   "source": [
    "'''\n",
    "Implement a recursive function to compute the nth Fibonacci number.\n",
    "'''"
   ]
  },
  {
   "cell_type": "markdown",
   "metadata": {},
   "source": [
    "ANSWER"
   ]
  },
  {
   "cell_type": "code",
   "execution_count": 13,
   "metadata": {},
   "outputs": [
    {
     "name": "stdout",
     "output_type": "stream",
     "text": [
      "The 8-th Fibonacci number is: 21\n"
     ]
    }
   ],
   "source": [
    "def fibonacci(n):\n",
    "    # Base case\n",
    "    if n == 0:\n",
    "        return 0\n",
    "    elif n == 1:\n",
    "        return 1\n",
    "    else:\n",
    "        return fibonacci(n-1) + fibonacci(n-2)\n",
    "\n",
    "# Example usage:\n",
    "n = 8\n",
    "result = fibonacci(n)\n",
    "print(f\"The {n}-th Fibonacci number is: {result}\")"
   ]
  },
  {
   "cell_type": "markdown",
   "metadata": {},
   "source": [
    "QUESTION 13"
   ]
  },
  {
   "cell_type": "code",
   "execution_count": null,
   "metadata": {},
   "outputs": [],
   "source": [
    "'''\n",
    "Create a recursive function to find the sum of all the elements in a given list.\n",
    "'''"
   ]
  },
  {
   "cell_type": "markdown",
   "metadata": {},
   "source": [
    "ANSWER"
   ]
  },
  {
   "cell_type": "code",
   "execution_count": 14,
   "metadata": {},
   "outputs": [
    {
     "name": "stdout",
     "output_type": "stream",
     "text": [
      "The sum of the elements in the list is: 15\n"
     ]
    }
   ],
   "source": [
    "def list_sum(lst):\n",
    "    # Base case\n",
    "    if not lst:\n",
    "        return 0\n",
    "    else:\n",
    "        return lst[0] + list_sum(lst[1:])\n",
    "\n",
    "my_list = [1, 2, 3, 4, 5]\n",
    "result = list_sum(my_list)\n",
    "print(f\"The sum of the elements in the list is: {result}\")"
   ]
  },
  {
   "cell_type": "markdown",
   "metadata": {},
   "source": [
    "QUESTION 14"
   ]
  },
  {
   "cell_type": "code",
   "execution_count": null,
   "metadata": {},
   "outputs": [],
   "source": [
    "'''\n",
    "Write a recursive function to determine whether a given string is a palindrome.\n",
    "'''"
   ]
  },
  {
   "cell_type": "markdown",
   "metadata": {},
   "source": [
    "ANSWER"
   ]
  },
  {
   "cell_type": "code",
   "execution_count": 17,
   "metadata": {},
   "outputs": [
    {
     "name": "stdout",
     "output_type": "stream",
     "text": [
      "The string 'madam' a palindrome : True\n"
     ]
    }
   ],
   "source": [
    "def is_palindrome(s):\n",
    "    # Base case\n",
    "    if len(s) <= 1:\n",
    "        return True\n",
    "    # Recursive case: compare the first and last characters and check the rest\n",
    "    else:\n",
    "        return s[0] == s[-1] and is_palindrome(s[1:-1])\n",
    "\n",
    "# Example usage:\n",
    "test_string = \"madam\"\n",
    "result = is_palindrome(test_string.lower())  # Convert to lowercase for case-insensitive comparison\n",
    "print(f\"The string '{test_string}' a palindrome : {result}\")"
   ]
  },
  {
   "cell_type": "markdown",
   "metadata": {},
   "source": [
    "QUESTION 15"
   ]
  },
  {
   "cell_type": "code",
   "execution_count": null,
   "metadata": {},
   "outputs": [],
   "source": [
    "'''\n",
    "Implement a recursive function to find the greatest common divisor (GCD) of two positive integers.\n",
    "'''"
   ]
  },
  {
   "cell_type": "markdown",
   "metadata": {},
   "source": [
    "ANSWER"
   ]
  },
  {
   "cell_type": "code",
   "execution_count": 22,
   "metadata": {},
   "outputs": [
    {
     "name": "stdout",
     "output_type": "stream",
     "text": [
      "The GCD of 20 and 68 is: 4\n"
     ]
    }
   ],
   "source": [
    "def gcd(a, b):\n",
    "    # Base case: GCD(a, 0) = a and GCD(0, b) = b\n",
    "    if b == 0:\n",
    "        return a\n",
    "    # Recursive case: GCD(a, b) = GCD(b, a % b)\n",
    "    else:\n",
    "        return gcd(b, a % b)\n",
    "\n",
    "# Example usage:\n",
    "num1 = 20\n",
    "num2 = 68\n",
    "result = gcd(num1, num2)\n",
    "print(f\"The GCD of {num1} and {num2} is: {result}\")"
   ]
  },
  {
   "cell_type": "code",
   "execution_count": null,
   "metadata": {},
   "outputs": [],
   "source": []
  },
  {
   "cell_type": "code",
   "execution_count": null,
   "metadata": {},
   "outputs": [],
   "source": []
  }
 ],
 "metadata": {
  "kernelspec": {
   "display_name": "Python 3",
   "language": "python",
   "name": "python3"
  },
  "language_info": {
   "codemirror_mode": {
    "name": "ipython",
    "version": 3
   },
   "file_extension": ".py",
   "mimetype": "text/x-python",
   "name": "python",
   "nbconvert_exporter": "python",
   "pygments_lexer": "ipython3",
   "version": "3.8.17"
  }
 },
 "nbformat": 4,
 "nbformat_minor": 2
}
